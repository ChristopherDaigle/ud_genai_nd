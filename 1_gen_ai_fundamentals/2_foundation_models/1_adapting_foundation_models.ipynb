{
 "cells": [
  {
   "cell_type": "markdown",
   "metadata": {},
   "source": [
    "# Adapting Foundation Models\n",
    "\n",
    "Adaptation in AI is a crucial step to enhance the capabilities of foundation models, allowing them to cater to specific tasks and domains. This process is about tailoring pre-trained AI systems with new data, ensuring they perform optimally in specialized applications and respect privacy constraints. Reaping the benefits of adaptation leads to AI models that are not only versatile but also more aligned with the unique needs of organizations and industries.\n",
    "\n",
    "<img src=\"img/img_12.png\">\n",
    "\n",
    "**Technical terms explained:**\n",
    "* **Fine-tuning**: This is a technique in machine learning where an already trained model is further trained (or tuned) on a new, typically smaller, dataset for better performance on a specific task."
   ]
  },
  {
   "cell_type": "markdown",
   "metadata": {},
   "source": [
    "# Why We Need to Adapt Foundation Models\n",
    "\n",
    "Adapting foundation models is essential due to their limitations in specific areas despite their extensive training on large datasets. Although they excel at many tasks, these models can sometimes misconstrue questions or lack up-to-date information, which highlights the need for fine-tuning. By addressing these weaknesses through additional training or other techniques, the performance of foundation models can be significantly improved."
   ]
  },
  {
   "cell_type": "markdown",
   "metadata": {},
   "source": [
    "# Retrieval Augmented Generation (RAG)\n",
    "\n",
    "Retrieval-Augmented Generation (RAG) is a powerful approach for keeping Generative AI models informed with the most recent data, particularly when dealing with domain-specific questions. It cleverly combines the comprehensive understanding capacity of a large language model (LLM) with the most up-to-date information pulled from a database of relevant text snippets. The beauty of this system is in its ability to ensure that responses remain accurate and reflective of the latest developments.\n",
    "\n",
    "<img src=\"img/img_13.png\">\n",
    "\n",
    "**Technical Terms:**\n",
    "* **Semantic-embedding**: A representation of text in a high-dimensional space where distances between points correspond to semantic similarity. Phrases with similar meanings are closer together.\n",
    "* **Cosine similarity**: A metric used to measure how similar two vectors are, typically used in the context of semantic embeddings to assess similarity of meanings.\n",
    "* **Vector databases**: Specialized databases designed to store and handle vector data, often employed for facilitating fast and efficient similarity searches."
   ]
  },
  {
   "cell_type": "markdown",
   "metadata": {},
   "source": [
    "# Prompt Design Techniques\n",
    "\n",
    "Prompt Design Techniques are innovative strategies for tailoring AI foundation models to specific tasks, fostering better performance in various domains. These methods enable us to guide the AI's output by carefully constructing the prompts we provide, enhancing the model's relevance and efficiency in generating responses.\n",
    "\n",
    "1. Prompt tuning: customizing templates to guide a model's predictions in a domain specific task, often involves what words define concepts and where they are placed in the overall structure of the prompt, e.g., placing a question at the end of a prompt is often associated with better results\n",
    "2. Few Shot Prompting: provide a handfull of examples to help guide the model's predictions, e.g., if we want the model to answer a mathematics problem, we can include a few examples of math problems with their solutions\n",
    "3. Zero-Shot Prompting: allow the foundation model to handle a task without any task-specfic examples in the prompt, e.g., \"what is the weather tomorrow\" instead of \"what is the weather tomorrow, for example, last Tuesday was rainy with low of 30\"\n",
    "4. Chain of Thought (CoT): Provide a series of steps the model can consider to solve a complex task, e.g., provide the steps used to answer a math problem that the model may be able to *consider* and *follow*; you may even just say \"think in steps\" for encouraging the model to use a CoT approach instead of you laying out the steps\n",
    "5. In-Context Learning: allow the model to learn from the context provided in the prompt. There are two forms this may occur:\n",
    "* Provide instructions in the prompt\n",
    "* Provide examples in the prompt\n",
    "\n",
    "**Technical Term Explanations:**\n",
    "* **Domain-Specific Task**: A task that is specialized or relevant to a particular area of knowledge or industry, often requiring tailored AI responses."
   ]
  },
  {
   "cell_type": "markdown",
   "metadata": {},
   "source": []
  }
 ],
 "metadata": {
  "language_info": {
   "name": "python"
  }
 },
 "nbformat": 4,
 "nbformat_minor": 2
}
