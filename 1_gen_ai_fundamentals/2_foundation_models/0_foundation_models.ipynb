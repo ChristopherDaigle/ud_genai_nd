{
 "cells": [
  {
   "cell_type": "markdown",
   "id": "f4572f5c-6bcf-43d9-857a-8f02eb9ef5ed",
   "metadata": {},
   "source": [
    "# What is a Foundation Model\n",
    "\n",
    "A foundation model is a powerful AI tool that can do many different things after being trained on lots of diverse data. These models are incredibly versatile and provide a solid base for creating various AI applications, like a strong foundation holds up different kind of buildings. By using a foundation model, we have a strong starting point for building specialized AI tasks.\n",
    "\n",
    "\n",
    "## Terms Explained:\n",
    "\n",
    "* **Foundation Model**: A large AI model trained on a wide variety of data, which can do many tasks without much extra training.\n",
    "\n",
    "* **Adapted**: Modified or adjusted to suit new conditions or a new purpose, i.e. in the context of foundation models.\n",
    "\n",
    "* **Generalize**: The ability of a model to apply what it has learned from its training data to new, unseen data.\n",
    "\n",
    "Foundation models represent a paradigm shift in building machine learning systems. In the past, there was more of a focus on building large datasets and building models from scratch. With the advent of foundation models, the pattern has changed. Now, people generally start with the foundation model and build off of it."
   ]
  },
  {
   "cell_type": "markdown",
   "id": "f956ac2c-b177-4d7d-be6d-f78ef351a280",
   "metadata": {},
   "source": [
    "# Foundation Models vs Traditional Models\n",
    "\n",
    "Foundation Models and Traditional Models are two distinct approaches in the field of artificial intelligence with different strengths. Foundation Models, which are built on large, diverse datasets, have the incredible ability to adapt and perform well on many different tasks. In contrast, Traditional Models specialize in specific tasks by learning from smaller, focused datasets, making them more straightforward and efficient for targeted applications.\n",
    "\n",
    "<img src=\"img/img_00.png\">"
   ]
  },
  {
   "cell_type": "markdown",
   "id": "cdcb1671-dc84-4826-bbc4-6cef43e64bfb",
   "metadata": {},
   "source": [
    "# Architecture and Scale\n",
    "\n",
    "The transformer architecture has revolutionized the way machines handle language by enabling the training of sequential data at scale. Thanks to this, today’s AI models are massive, with some having billions of parameters (or more) allowing for incredible flexibility across many tasks. The technology is exciting and holds great promise for the future.\n",
    "\n",
    "## Technical Terms:\n",
    "\n",
    "* **Sequential data**: Information that is arranged in a specific order, such as words in a sentence or events in time.\n",
    "\n",
    "* **Self-attention mechanism**: The self-attention mechanism in a transformer is a process where each element in a sequence computes its representation by attending to and weighing the importance of all elements in the sequence, allowing the model to capture complex relationships and dependencies.\n",
    "\n",
    "<img src=\"img/img_01.png\">\n",
    "\n",
    "The initial LLaMa from Meta was trained on more than 4.7TB of Data\n",
    "\n",
    "<img src=\"img/img_02.png\">\n",
    "\n",
    "Traditional models typically have between 3 and 20 paramaters, each associated with their input variables (1 parameter for $X_{0}$ , another for $X_{1}$, all the way through $X_{n}$ such that for each $X_{i}$ there is a $\\beta_{i}$ ) while foundation models generally have billions of paramters spread over the layers in their networks.\n",
    "\n",
    "<img src=\"img/img_03.png\">"
   ]
  },
  {
   "cell_type": "markdown",
   "id": "a1cf00ce-163c-45b7-8e65-6f1c216a7d4a",
   "metadata": {},
   "source": [
    "# Exercise: Use a Foundation Model to Build a Spam Email Classifier\n",
    "\n",
    "A foundation model serves as a fundamental building block for potentially endless applications. One application we will explore in this exercise is the development of a spam email classifier using only the prompt. By leveraging the capabilities of a foundation model, this project aims to accurately identify and filter out unwanted and potentially harmful emails, enhancing user experience and security.\n",
    "\n",
    "## Steps\n",
    "\n",
    "1. Identify and gather relevant data\n",
    "2. Build and evaluate the spam email classifier\n",
    "3. Build an improved classifier?"
   ]
  },
  {
   "cell_type": "markdown",
   "id": "14713e76-785b-4d81-b0b4-8f286ef3ea2d",
   "metadata": {},
   "source": [
    "## Step 1: Identify and Gather Relevant Data\n",
    "\n",
    "To train and test the spam email classifier, you will need a dataset of emails that are labeled as spam or not spam. It is important to identify and gather a suitable dataset that represents a wide range of spam and non-spam emails."
   ]
  },
  {
   "cell_type": "code",
   "execution_count": 1,
   "id": "038a1440-510b-4ebc-a68b-31d5ef8a3e4c",
   "metadata": {},
   "outputs": [],
   "source": [
    "from datasets import load_dataset\n",
    "from transformers import pipeline\n",
    "from huggingface_hub import login\n",
    "from transformers import AutoTokenizer, AutoModelForCausalLM\n",
    "import torch"
   ]
  },
  {
   "cell_type": "code",
   "execution_count": 2,
   "id": "e31a367c-ec66-4d78-af04-ce79fbf926d2",
   "metadata": {},
   "outputs": [],
   "source": [
    "# Find a spam dataset at https://huggingface.co/datasets and load it using the datasets library\n",
    "dataset = load_dataset(\"sms_spam\", split=[\"train\"])[0]"
   ]
  },
  {
   "cell_type": "code",
   "execution_count": 3,
   "id": "9ecef5ae-06a1-4080-aa89-e60a3c9777ef",
   "metadata": {},
   "outputs": [
    {
     "name": "stdout",
     "output_type": "stream",
     "text": [
      "label=0, sms=Go until jurong point, crazy.. Available only in bugis n great world la e buffet... Cine there got amore wat...\n",
      "\n",
      "label=0, sms=Ok lar... Joking wif u oni...\n",
      "\n",
      "label=1, sms=Free entry in 2 a wkly comp to win FA Cup final tkts 21st May 2005. Text FA to 87121 to receive entry question(std txt rate)T&C's apply 08452810075over18's\n",
      "\n"
     ]
    }
   ],
   "source": [
    "for entry in dataset.select(range(3)):\n",
    "    sms = entry[\"sms\"]\n",
    "    label = entry[\"label\"]\n",
    "    print(f\"label={label}, sms={sms}\")"
   ]
  },
  {
   "cell_type": "markdown",
   "id": "1ab0dff2-7824-4807-a617-d0e0d5b4ab2f",
   "metadata": {},
   "source": [
    "Those labels could be easier to read. Let's create some functions to convert numerical ids to labels."
   ]
  },
  {
   "cell_type": "code",
   "execution_count": 4,
   "id": "41f0e9c5-dc70-4f22-b690-30f4c2ccc968",
   "metadata": {},
   "outputs": [],
   "source": [
    "id2label = {0: \"NOT SPAM\", 1: \"SPAM\"}\n",
    "label2id = {v:k for k,v in id2label.items()}\n",
    "# label2id = {\"NOT SPAM\": 0, \"SPAM\": 1}"
   ]
  },
  {
   "cell_type": "code",
   "execution_count": 5,
   "id": "fb6849c1-1f04-4ca8-b5b8-b9ab8a122c2b",
   "metadata": {},
   "outputs": [
    {
     "name": "stdout",
     "output_type": "stream",
     "text": [
      "label=NOT SPAM, sms=Go until jurong point, crazy.. Available only in bugis n great world la e buffet... Cine there got amore wat...\n",
      "\n",
      "label=NOT SPAM, sms=Ok lar... Joking wif u oni...\n",
      "\n",
      "label=SPAM, sms=Free entry in 2 a wkly comp to win FA Cup final tkts 21st May 2005. Text FA to 87121 to receive entry question(std txt rate)T&C's apply 08452810075over18's\n",
      "\n"
     ]
    }
   ],
   "source": [
    "for entry in dataset.select(range(3)):\n",
    "    sms = entry[\"sms\"]\n",
    "    label_id = entry[\"label\"]\n",
    "    print(f\"label={id2label[label_id]}, sms={sms}\")"
   ]
  },
  {
   "cell_type": "markdown",
   "id": "268b0788-606e-4b8c-810b-fa603580e1cd",
   "metadata": {},
   "source": [
    "## Step 2: Build and evaluate the spam email classifier\n",
    "\n",
    "Using the foundation model and the prepared dataset, you can create a spam email classifier.\n",
    "\n",
    "Let's write a prompt that will ask the model to classify 15 message as either \"spam\" or \"not spam\". For easier parsing, we can ask the LLM to respond in JSON."
   ]
  },
  {
   "cell_type": "code",
   "execution_count": 6,
   "id": "1fcb1017-9fd3-4c0c-98b9-1de1b9d767c5",
   "metadata": {},
   "outputs": [],
   "source": [
    "# Let's start with this helper function that will help us format sms messages\n",
    "# for the LLM.\n",
    "def get_sms_messages_string(dataset, item_numbers, include_labels=False):\n",
    "    sms_messages_string = \"\"\n",
    "    for item_number, entry in zip(item_numbers, dataset.select(item_numbers)):\n",
    "        sms = entry[\"sms\"]\n",
    "        label_id = entry[\"label\"]\n",
    "\n",
    "        if include_labels:\n",
    "            sms_messages_string += (\n",
    "                f\"{item_number} (label={id2label[label_id]}) -> {sms}\\n\"\n",
    "            )\n",
    "        else:\n",
    "            sms_messages_string += f\"{item_number} -> {sms}\\n\"\n",
    "\n",
    "    return sms_messages_string"
   ]
  },
  {
   "cell_type": "code",
   "execution_count": 7,
   "id": "5684c750-0b25-4bad-be12-6071451579b9",
   "metadata": {},
   "outputs": [
    {
     "name": "stdout",
     "output_type": "stream",
     "text": [
      "0 (label=NOT SPAM) -> Go until jurong point, crazy.. Available only in bugis n great world la e buffet... Cine there got amore wat...\n",
      "\n",
      "1 (label=NOT SPAM) -> Ok lar... Joking wif u oni...\n",
      "\n",
      "2 (label=SPAM) -> Free entry in 2 a wkly comp to win FA Cup final tkts 21st May 2005. Text FA to 87121 to receive entry question(std txt rate)T&C's apply 08452810075over18's\n",
      "\n",
      "\n"
     ]
    }
   ],
   "source": [
    "print(get_sms_messages_string(dataset, range(3), include_labels=True))"
   ]
  },
  {
   "cell_type": "markdown",
   "id": "289c31cf-6e99-4d26-a9af-01fc525b3547",
   "metadata": {},
   "source": [
    "Now let's write a bit of code that will produce your prompt. Your prompt should include a few SMS message to be labelled as well as instructions for the LLM.\n",
    "\n",
    "Some LLMs will also format the output for you as JSON if you ask them, e.g. \"Respond in JSON format.\""
   ]
  },
  {
   "cell_type": "code",
   "execution_count": 8,
   "id": "99484873-c600-40c7-b3c4-17d7fe584cc7",
   "metadata": {},
   "outputs": [
    {
     "name": "stdout",
     "output_type": "stream",
     "text": [
      "Classify the message as SPAM or NOT SPAM. Respond in JSON format. Use the following format: {0: 'NOT SPAM', 1: 'SPAM'}. Below is the message\n",
      "---\n",
      "\n",
      "7 -> As per your request 'Melle Melle (Oru Minnaminunginte Nurungu Vettam)' has been set as your callertune for all Callers. Press *9 to copy your friends Callertune\n",
      "\n",
      "8 -> WINNER!! As a valued network customer you have been selected to receivea £900 prize reward! To claim call 09061701461. Claim code KL341. Valid 12 hours only.\n",
      "\n",
      "9 -> Had your mobile 11 months or more? U R entitled to Update to the latest colour mobiles with camera for Free! Call The Mobile Update Co FREE on 08002986030\n",
      "\n",
      "10 -> I'm gonna be home soon and i don't want to talk about this stuff anymore tonight, k? I've cried enough today.\n",
      "\n",
      "11 -> SIX chances to win CASH! From 100 to 20,000 pounds txt> CSH11 and send to 87575. Cost 150p/day, 6days, 16+ TsandCs apply Reply HL 4 info\n",
      "\n",
      "12 -> URGENT! You have won a 1 week FREE membership in our £100,000 Prize Jackpot! Txt the word: CLAIM to No: 81010 T&C www.dbuk.net LCCLTD POBOX 4403LDNW1A7RW18\n",
      "\n",
      "13 -> I've been searching for the right words to thank you for this breather. I promise i wont take your help for granted and will fulfil my promise. You have been wonderful and a blessing at all times.\n",
      "\n",
      "14 -> I HAVE A DATE ON SUNDAY WITH WILL!!\n",
      "\n",
      "\n",
      "\n"
     ]
    }
   ],
   "source": [
    "# Replace <MASK> with your code\n",
    "\n",
    "# Get a few messages and format them as a string\n",
    "sms_messages_string = get_sms_messages_string(dataset, range(7, 15))\n",
    "\n",
    "# Construct a query to send to the LLM including the sms messages.\n",
    "# Ask it to respond in JSON format.\n",
    "# query = <MASK>\n",
    "query = f\"\"\"Classify the message as SPAM or NOT SPAM. Respond in JSON format. Use the following format: {id2label}. Below is the message\n",
    "---\n",
    "\n",
    "{sms_messages_string}\n",
    "\"\"\"\n",
    "\n",
    "print(query)"
   ]
  },
  {
   "cell_type": "code",
   "execution_count": 9,
   "id": "42cf21c9-ccef-47ca-a00d-3b8d3ddbf1d7",
   "metadata": {},
   "outputs": [
    {
     "data": {
      "application/vnd.jupyter.widget-view+json": {
       "model_id": "da8119085b5041368d2c65fee570c326",
       "version_major": 2,
       "version_minor": 0
      },
      "text/plain": [
       "Loading checkpoint shards:   0%|          | 0/4 [00:00<?, ?it/s]"
      ]
     },
     "metadata": {},
     "output_type": "display_data"
    },
    {
     "name": "stderr",
     "output_type": "stream",
     "text": [
      "Device set to use mps:0\n"
     ]
    }
   ],
   "source": [
    "messages = [\n",
    "    {\"role\": \"user\", \"content\": \"Who are you?\"},\n",
    "]\n",
    "pipe = pipeline(\"text-generation\", model=\"meta-llama/Meta-Llama-3-8B\")"
   ]
  },
  {
   "cell_type": "code",
   "execution_count": 31,
   "id": "dd291bfb-6421-4dfb-ad8a-639e9079ca8d",
   "metadata": {},
   "outputs": [
    {
     "name": "stderr",
     "output_type": "stream",
     "text": [
      "Setting `pad_token_id` to `eos_token_id`:128001 for open-end generation.\n"
     ]
    },
    {
     "data": {
      "text/plain": [
       "[{'generated_text': 'who are you? (the first in a series)\\nI’ve been thinking a lot lately about what it means to be human. We are so much more than our bodies and our minds. We are souls, and our bodies are merely a vehicle for our souls to experience this life. Our souls are eternal and our bodies are temporary.\\nI believe that we are all connected to each other and to the universe. We are all part of the same energy, and we are all here to learn and grow. We are all here to experience love and joy, and to help others do the same.\\nI believe that we are all here to learn and grow. We are all here to experience love and joy, and to help others do the same. I believe that we are all connected to each other and to the universe. We are all part of the same energy, and we are all here to learn and grow.\\nI believe that we are all connected to each other and to the universe. We are all part of the same energy, and we are all here to learn and grow. I believe that we are all connected to each other and to the universe. We are all part of the same energy, and we are all here to learn and grow.\\nI believe that we are all connected to each other and to the universe. We are all part of the same energy, and we are all here to learn and grow. I believe that we are all connected to each other and to the universe. We are all part of the same energy, and we are all here to learn and grow.\\nI believe that we are all connected to each other and to the universe. We are all part of the same energy, and we are all here to learn and grow. I believe that we are all connected to each other and to the universe. We are all part of the same energy, and we are all here to learn and grow.\\nI believe that we are all connected to each other and to the universe. We are all part of the same energy, and we are all here to learn and grow. I believe that we are all connected to each other and to the universe. We are all part of the same energy, and we are all here to learn and grow.\\nI believe that we are all connected to each other and to the universe. We are all part of the same energy, and we are all here to learn and grow. I believe that we are all connected to each other and to the universe. We are all part of the same energy, and we are all here to learn and grow.\\nI believe that we are all connected to each other and to the universe. We are all part of the same energy, and we are all here to learn and grow. I believe that we are all connected to each other and to the universe. We are all part of the same energy, and we are all here to learn and grow.\\nI believe that we are all connected to each other and to the universe. We are all part of the same energy, and we are all here to learn and grow. I believe that we are all connected to each other and to the universe. We are all part of the same energy, and we are all here to learn and grow.\\nI believe that we are all connected to each other and to the universe. We are all part of the same energy, and we are all here to learn and grow. I believe that we are all connected to each other and to the universe. We are all part of the same energy, and we are all here to learn and grow.'}]"
      ]
     },
     "execution_count": 31,
     "metadata": {},
     "output_type": "execute_result"
    }
   ],
   "source": [
    "pipe(\"who are you?\")"
   ]
  },
  {
   "cell_type": "code",
   "execution_count": 9,
   "id": "384f9fcd-cf83-4018-9971-40f8883b8f19",
   "metadata": {},
   "outputs": [
    {
     "data": {
      "application/vnd.jupyter.widget-view+json": {
       "model_id": "1fb1df56bd0e47d69ff0ab93bdaf68ae",
       "version_major": 2,
       "version_minor": 0
      },
      "text/plain": [
       "Loading checkpoint shards:   0%|          | 0/4 [00:00<?, ?it/s]"
      ]
     },
     "metadata": {},
     "output_type": "display_data"
    },
    {
     "name": "stderr",
     "output_type": "stream",
     "text": [
      "Device set to use mps\n"
     ]
    }
   ],
   "source": [
    "model_id = \"meta-llama/Meta-Llama-3-8B\"\n",
    "\n",
    "pipe_0 = pipeline(\n",
    "    \"text-generation\",\n",
    "    model=model_id,\n",
    "    # model_kwargs={\"torch_dtype\": torch.bfloat16}\n",
    "    model_kwargs={\n",
    "                \"torch_dtype\": torch.bfloat16,\n",
    "                # \"quantization_config\": {\"load_in_4bit\": True},\n",
    "                \"low_cpu_mem_usage\": True,\n",
    "            },\n",
    "    device_map=\"auto\"\n",
    ")"
   ]
  },
  {
   "cell_type": "code",
   "execution_count": 12,
   "id": "1377d530-81a6-44aa-b9e3-5c930f38b1a2",
   "metadata": {},
   "outputs": [
    {
     "data": {
      "text/plain": [
       "[{'generated_text': 'Hey how are you doing today? I am doing well and hope you are too. Today I am going to be sharing a card that I made for my sister. She is a huge fan of the TV show, \"The Walking Dead\" and I thought that this stamp set would be perfect for her. I am not a big fan of zombies or the show, but I do think that the stamp set is super cute. The stamp set is called \"Walkers\" and is from the company called \"The Greeting Farm\". I used the stamp set to make a card and also a matching treat bag. I hope you enjoy!\\nThis is such a cute card! I love the zombies and the cute sentiment!\\nI love the card. I love the zombies and the sentiment.\\nLove this zombie card and the sentiment is great!\\nI love the card. I love the zombies and the sentiment.'}]"
      ]
     },
     "execution_count": 12,
     "metadata": {},
     "output_type": "execute_result"
    }
   ],
   "source": [
    "pipe_0(\"Hey how are you doing today?\",\n",
    "       pad_token_id=pipe_0.tokenizer.eos_token_id,\n",
    "      )"
   ]
  },
  {
   "cell_type": "code",
   "execution_count": 10,
   "id": "8628177a-99e1-40b4-9887-8130b7c218e5",
   "metadata": {
    "scrolled": true
   },
   "outputs": [
    {
     "name": "stdout",
     "output_type": "stream",
     "text": [
      "[{'generated_text': 'Hey how are you doing today? I hope you are doing well. I am doing well. I am just getting ready to go to work. I am going to be working at the hospital today. I am going to be working in the emergency room. I am going to be working with the nurses. I am going to be working with the doctors. I am going to be working with the patients. I am going to be working with the staff. I am going to be working with the visitors. I am going to be working with the volunteers. I am going to be working with the security guards. I am going to be working with the maintenance staff. I am going to be working with the cleaning staff. I am going to be working with the food service staff. I am going to be working with the pharmacy staff. I am going to be working with the lab staff. I am going to be working with the radiology staff. I am going to be working with the physical therapy staff. I am going to be working with the occupational therapy staff. I am going to be working with the speech therapy staff. I am going to be working with the respiratory therapy staff. I am going to be working with the medical records staff. I am going to be working with the billing staff. I am going to be working with the collections staff. I am going to be working with the insurance staff. I am going to be working with the marketing staff. I am going to be working with the public relations staff. I am going to be working with the human resources staff. I am going to be working with the information technology staff. I am going to be working with the facilities staff. I am going to be working with the security staff. I am going to be working with the maintenance staff. I am going to be working with the cleaning staff. I am going to be working with the food service staff. I am going to be working with the pharmacy staff. I am going to be working with the lab staff. I am going to be working with the radiology staff. I am going to be working with the physical therapy staff. I am going to be working with the occupational therapy staff. I am going to be working with the speech therapy staff. I am going to be working with the respiratory therapy staff. I am going to be working with the medical records staff. I am going to be working with the billing staff. I am going to be working with the collections staff. I am going to be working with the insurance staff. I am going to be working with the marketing staff. I am going to be working with the public relations staff. I am going to be working with the human resources staff. I am going to be working with the information technology staff. I am going to be working with the facilities staff. I am going to be working with the security staff. I am going to be working with the maintenance staff. I am going to be working with the cleaning staff. I am going to be working with the food service staff. I am going to be working with the pharmacy staff. I am going to be working with the lab staff. I am going to be working with the radiology staff. I am going to be working with the physical therapy staff. I am going to be working with the occupational therapy staff. I am going to be working with the speech therapy staff. I am going to be working with the respiratory therapy staff. I am going to be working with the medical records staff. I am going to be working with the billing staff. I am going to be working with the collections staff. I am going to be working with the insurance staff. I am going to be working with the marketing staff. I am going to be working with the public relations staff. I am going to be working with the human resources staff. I am going to be working with the information technology staff. I am going to be working with the facilities staff. I am going to be working with the security staff. I am going to be working with the maintenance staff. I am going to be working with the cleaning staff. I am going to be working with the food service staff. I am going to be working with the pharmacy staff. I am going to be working with the lab staff. I am going to be working with the radiology staff. I am going to be working with the physical therapy staff. I am going to be working with the occupational therapy staff. I am going to be working with the speech therapy staff. I am going to be working with the respiratory therapy staff. I am going to be working with the medical records staff. I am going to be working with the billing staff. I am going to be working with the collections staff. I am going to be working with the insurance staff. I am going to be working with the marketing staff. I am going to be working with the public relations staff. I am going to be working with the human resources staff. I am going to be working with the information technology staff. I am going to be working with the facilities staff. I am going to be working with the security staff. I am going to be working with the maintenance staff. I am going to be working with the cleaning staff. I am going to be working with the food service staff. I am going to be working with the pharmacy staff. I am going to be working with the lab staff. I am going to be working with the radiology staff. I am going to be working with the physical therapy staff. I am going to be working with the occupational therapy staff. I am going to be working with the speech therapy staff. I am going to be working with the respiratory therapy staff. I am going to be working with the medical records staff. I am going to be working with the billing staff. I am going to be working with the collections staff. I am going to be working with the insurance staff. I am going to be working with the marketing staff. I am going to be working with the public relations staff. I am going to be working with the human resources staff. I am going to be working with the information technology staff. I am going to be working with the facilities staff. I am going to be working with the security staff. I am going to be working with the maintenance staff. I am going to be working with the cleaning staff. I am going to be working with the food service staff. I am going to be working with the pharmacy staff. I am going to be working with the lab staff. I am going to be working with the radiology staff. I am going to be working with the physical therapy staff. I am going to be working with the occupational therapy staff. I am going to be working with the speech therapy staff. I am going to be working with the respiratory therapy staff. I am going to be working with the medical records staff. I am going to be working with the billing staff. I am going to be working with the collections staff. I am going to be working with the insurance staff. I am going to be working with the marketing staff. I am going to be working with the public relations staff. I am going to be working with the human resources staff. I am going to be working with the information technology staff. I am going to be working with the facilities staff. I am going to be working with the security staff. I am going to be working with the maintenance staff. I am going to be working with the cleaning staff. I am going to be working with the food service staff. I am going to be working with the pharmacy staff. I am going to be working with the lab staff. I am going to be working with the radiology staff. I am going to be working with the physical therapy staff. I am going to be working with the occupational therapy staff. I am going to be working with the speech therapy staff. I am going to be working with the respiratory therapy staff. I am going to be working with the medical records staff. I am going to be working with the billing staff. I am going to be working with the collections staff. I am going to be working with the insurance staff. I am going to be working with the marketing staff. I am going to be working with the public relations staff. I am going to be working with the human resources staff. I am going to be working with the information technology staff. I am going to be working with the facilities staff. I am going to be working with the security staff. I am going to be working with the maintenance staff. I am going to be working with the cleaning staff. I am going to be working with the food service staff. I am going to be working with the pharmacy staff. I am going to be working with the lab staff. I am going to be working with the radiology staff. I am going to be working with the physical therapy staff. I am going to be working with the occupational therapy staff. I am going to be working with the speech therapy staff. I am going to be working with the respiratory therapy staff. I am going to be working with the medical records staff. I am going to be working with the billing staff. I am going to be working with the collections staff. I am going to be working with the insurance staff. I am going to be working with the marketing staff. I am going to be working with the public relations staff. I am going to be working with the human resources staff. I am going to be working with the information technology staff. I am going to be working with the facilities staff. I am going to be working with the security staff. I am going to be working with the maintenance staff. I am going to be working with the cleaning staff. I am going to be working with the food service staff. I am going to be working with the pharmacy staff. I am going to be working with the lab staff. I am going to be working with the radiology staff. I am going to be working with the physical therapy staff. I am going to be working with the occupational therapy staff. I am going to be working with the speech therapy staff. I am going to be working with the respiratory therapy staff. I am going to be working with the medical records staff. I am going to be working with the billing staff. I am going to be working with the collections staff. I am going to be working with the insurance staff. I am going to be working with the marketing staff. I am going to be working with the public relations staff. I am going to be working with the human resources staff. I am going to be working with the information technology staff. I am going to be working with the facilities staff. I am going to be working with the security staff. I am going to be working with the maintenance staff. I am going to be working with the cleaning staff. I am going to be working with the food service staff. I am going to be working with the pharmacy staff. I am going to be working with the lab staff. I am going to be working with the radiology staff. I am going to be working with the physical therapy staff. I am going to be working with the occupational therapy staff. I am going to be working with the speech therapy staff. I am going to be working with the respiratory therapy staff. I am going to be working with the medical records staff. I am going to be working with the billing staff. I am going to be working with the collections staff. I am going to be working with the insurance staff. I am going to be working with the marketing staff. I am going to be working with the public relations staff. I am going to be working with the human resources staff. I am going to be working with the information technology staff. I am going to be working with the facilities staff. I am going to be working with the security staff. I am going to be working with the maintenance staff. I am going to be working with the cleaning staff. I am going to be working with the food service staff. I am going to be working with the pharmacy staff. I am going to be working with the lab staff. I am going to be working with the radiology staff. I am going to be working with the physical therapy staff. I am going to be working with the occupational therapy staff. I am going to be working with the speech therapy staff. I am going to be working with the respiratory therapy staff. I am going to be working with the medical records staff. I am going to be working with the billing staff. I am going to be working with the collections staff. I am going to be working with the insurance staff. I am going to be working with the marketing staff. I am going to be working with the public relations staff. I am going to be working with the human resources staff. I am going to be working with the information technology staff. I am going to be working with the facilities staff. I am going to be working with the security staff. I am going to be working with the maintenance staff. I am going to be working with the cleaning staff. I am going to be working with the food service staff. I am going to be working with the pharmacy staff. I am going to be working with the lab staff. I am going to be working with the radiology staff. I am going to be working with the physical therapy staff. I am going to be working with the occupational therapy staff. I am going to be working with the speech therapy staff. I am going to be working with the respiratory therapy staff. I am going to be working with the medical records staff. I am going to be working with the billing staff. I am going to be working with the collections staff. I am going to be working with the insurance staff. I am going to be working with the marketing staff. I am going to be working with the public relations staff. I am going to be working with the human resources staff. I am going to be working with the information technology staff. I am going to be working with the facilities staff. I am going to be working with the security staff. I am going to be working with the maintenance staff. I am going to be working with the cleaning staff. I am going to be working with the food service staff. I am going to be working with the pharmacy staff. I am going to be working with the lab staff. I am going to be working with the radiology staff. I am going to be working with the physical therapy staff. I am going to be working with the occupational therapy staff. I am going to be working with the speech therapy staff. I am going to be working with the respiratory therapy staff. I am going to be working with the medical records staff. I am going to be working with the billing staff. I am going to be working with the collections staff. I am going to be working with the insurance staff. I am going to be working with the marketing staff. I am going to be working with the public relations staff. I am going to be working with the human resources staff. I am going to be working with the information technology staff. I am going to be working with the facilities staff. I am going to be working with the security staff. I am going to be working with the maintenance staff. I am going to be working with the cleaning staff. I am going to be working with the food service staff. I am going to be working with the pharmacy staff. I am going to be working with the lab staff. I am going to be working with the radiology staff. I am going to be working with the physical therapy staff. I am going to be working with the occupational therapy staff. I am going to be working with the speech therapy staff. I am going to be working with the respiratory therapy staff. I am going to be working with the medical records staff. I am going to be working with the billing staff. I am going to be working with the collections staff. I am going to be working with the insurance staff. I am going to be working with the marketing staff. I am going to be working with the public relations staff. I am going to be working with the human resources staff. I am going to be working with the information technology staff. I am going to be working with the facilities staff. I am going to be working with the security staff. I am going to be working with the maintenance staff. I am going to be working with the cleaning staff. I am going to be working with the food service staff. I am going to be working with the pharmacy staff. I am going to be working with the lab staff. I am going to be working with the radiology staff. I am going to be working with the physical therapy staff. I am going to be working with the occupational therapy staff. I am going to be working with the speech therapy staff. I am going to be working with the respiratory therapy staff. I am going to be working with the medical records staff. I am going to be working with the billing staff. I am going to be working with the collections staff. I am going to be working with the insurance staff. I am going to be working with the marketing staff. I am going to be working with the public relations staff. I am going to be working with the human resources staff. I am going to be working with the information technology staff. I am going to be working with the facilities staff. I am going to be working with the security staff. I am going to be working with the maintenance staff. I am going to be working with the cleaning staff. I am going to be working with the food service staff. I am going to be working with the pharmacy staff. I am going to be working with the lab staff. I am going to be working with the radiology staff. I am going to be working with the physical therapy staff. I am going to be working with the occupational therapy staff. I am going to be working with the speech therapy staff. I am going to be working with the respiratory therapy staff. I am going to be working with the medical records staff. I am going to be working with the billing staff. I am going to be working with the collections staff. I am going to be working with the insurance staff. I am going to be working with the marketing staff. I am going to be working with the public relations staff. I am going to be working with the human resources staff. I am going to be working with the information technology staff. I am going to be working with the facilities staff. I am going to be working with the security staff. I am going to be working with the maintenance staff. I am going to be working with the cleaning staff. I am going to be working with the food service staff. I am going to be working with the pharmacy staff. I am going to be working with the lab staff. I am going to be working with the radiology staff. I am going to be working with the physical therapy staff. I am going to be working with the occupational therapy staff. I am going to be working with the speech therapy staff. I am going to be working with the respiratory therapy staff. I am going to be working with the medical records staff. I am going to be working with the billing staff. I am going to be working with the collections staff. I am going to be working with the insurance staff. I am going to be working with the marketing staff. I am going to be working with the public relations staff. I am going to be working with the human resources staff. I am going to be working with the information technology staff. I am going to be working with the facilities staff. I am going to be working with the security staff. I am going to be working with the maintenance staff. I am going to be working with the cleaning staff. I am going to be working with the food service staff. I am going to be working with the pharmacy staff. I am going to be working with the lab staff. I am going to be working with the radiology staff. I am going'}]\n"
     ]
    }
   ],
   "source": [
    "max_tokens=4096\n",
    "temperature=0.1\n",
    "# top_p=0.1\n",
    "# terminators = [\n",
    "#     pipe_0.tokenizer.eos_token_id,\n",
    "#     pipe_0.tokenizer.convert_tokens_to_ids(\"\")]\n",
    "outcome = pipe_0(\"Hey how are you doing today?\",\n",
    "       pad_token_id=pipe_0.tokenizer.eos_token_id,\n",
    "       max_new_tokens=max_tokens,\n",
    "       # eos_token_id=terminators,\n",
    "       do_sample=True,\n",
    "       temperature=temperature,\n",
    "       # top_p=top_p\n",
    "                )\n",
    "print(outcome)"
   ]
  },
  {
   "cell_type": "code",
   "execution_count": 11,
   "id": "4943f3eb-0c69-46e1-8925-c94c7b0f31f4",
   "metadata": {
    "scrolled": true
   },
   "outputs": [
    {
     "name": "stdout",
     "output_type": "stream",
     "text": [
      "Hey how are you doing today? I hope you are doing well. I am doing well. I am just getting ready to go to work. I am going to be working at the hospital today. I am going to be working in the emergency room. I am going to be working with the nurses. I am going to be working with the doctors. I am going to be working with the patients. I am going to be working with the staff. I am going to be working with the visitors. I am going to be working with the volunteers. I am going to be working with the security guards. I am going to be working with the maintenance staff. I am going to be working with the cleaning staff. I am going to be working with the food service staff. I am going to be working with the pharmacy staff. I am going to be working with the lab staff. I am going to be working with the radiology staff. I am going to be working with the physical therapy staff. I am going to be working with the occupational therapy staff. I am going to be working with the speech therapy staff. I am going to be working with the respiratory therapy staff. I am going to be working with the medical records staff. I am going to be working with the billing staff. I am going to be working with the collections staff. I am going to be working with the insurance staff. I am going to be working with the marketing staff. I am going to be working with the public relations staff. I am going to be working with the human resources staff. I am going to be working with the information technology staff. I am going to be working with the facilities staff. I am going to be working with the security staff. I am going to be working with the maintenance staff. I am going to be working with the cleaning staff. I am going to be working with the food service staff. I am going to be working with the pharmacy staff. I am going to be working with the lab staff. I am going to be working with the radiology staff. I am going to be working with the physical therapy staff. I am going to be working with the occupational therapy staff. I am going to be working with the speech therapy staff. I am going to be working with the respiratory therapy staff. I am going to be working with the medical records staff. I am going to be working with the billing staff. I am going to be working with the collections staff. I am going to be working with the insurance staff. I am going to be working with the marketing staff. I am going to be working with the public relations staff. I am going to be working with the human resources staff. I am going to be working with the information technology staff. I am going to be working with the facilities staff. I am going to be working with the security staff. I am going to be working with the maintenance staff. I am going to be working with the cleaning staff. I am going to be working with the food service staff. I am going to be working with the pharmacy staff. I am going to be working with the lab staff. I am going to be working with the radiology staff. I am going to be working with the physical therapy staff. I am going to be working with the occupational therapy staff. I am going to be working with the speech therapy staff. I am going to be working with the respiratory therapy staff. I am going to be working with the medical records staff. I am going to be working with the billing staff. I am going to be working with the collections staff. I am going to be working with the insurance staff. I am going to be working with the marketing staff. I am going to be working with the public relations staff. I am going to be working with the human resources staff. I am going to be working with the information technology staff. I am going to be working with the facilities staff. I am going to be working with the security staff. I am going to be working with the maintenance staff. I am going to be working with the cleaning staff. I am going to be working with the food service staff. I am going to be working with the pharmacy staff. I am going to be working with the lab staff. I am going to be working with the radiology staff. I am going to be working with the physical therapy staff. I am going to be working with the occupational therapy staff. I am going to be working with the speech therapy staff. I am going to be working with the respiratory therapy staff. I am going to be working with the medical records staff. I am going to be working with the billing staff. I am going to be working with the collections staff. I am going to be working with the insurance staff. I am going to be working with the marketing staff. I am going to be working with the public relations staff. I am going to be working with the human resources staff. I am going to be working with the information technology staff. I am going to be working with the facilities staff. I am going to be working with the security staff. I am going to be working with the maintenance staff. I am going to be working with the cleaning staff. I am going to be working with the food service staff. I am going to be working with the pharmacy staff. I am going to be working with the lab staff. I am going to be working with the radiology staff. I am going to be working with the physical therapy staff. I am going to be working with the occupational therapy staff. I am going to be working with the speech therapy staff. I am going to be working with the respiratory therapy staff. I am going to be working with the medical records staff. I am going to be working with the billing staff. I am going to be working with the collections staff. I am going to be working with the insurance staff. I am going to be working with the marketing staff. I am going to be working with the public relations staff. I am going to be working with the human resources staff. I am going to be working with the information technology staff. I am going to be working with the facilities staff. I am going to be working with the security staff. I am going to be working with the maintenance staff. I am going to be working with the cleaning staff. I am going to be working with the food service staff. I am going to be working with the pharmacy staff. I am going to be working with the lab staff. I am going to be working with the radiology staff. I am going to be working with the physical therapy staff. I am going to be working with the occupational therapy staff. I am going to be working with the speech therapy staff. I am going to be working with the respiratory therapy staff. I am going to be working with the medical records staff. I am going to be working with the billing staff. I am going to be working with the collections staff. I am going to be working with the insurance staff. I am going to be working with the marketing staff. I am going to be working with the public relations staff. I am going to be working with the human resources staff. I am going to be working with the information technology staff. I am going to be working with the facilities staff. I am going to be working with the security staff. I am going to be working with the maintenance staff. I am going to be working with the cleaning staff. I am going to be working with the food service staff. I am going to be working with the pharmacy staff. I am going to be working with the lab staff. I am going to be working with the radiology staff. I am going to be working with the physical therapy staff. I am going to be working with the occupational therapy staff. I am going to be working with the speech therapy staff. I am going to be working with the respiratory therapy staff. I am going to be working with the medical records staff. I am going to be working with the billing staff. I am going to be working with the collections staff. I am going to be working with the insurance staff. I am going to be working with the marketing staff. I am going to be working with the public relations staff. I am going to be working with the human resources staff. I am going to be working with the information technology staff. I am going to be working with the facilities staff. I am going to be working with the security staff. I am going to be working with the maintenance staff. I am going to be working with the cleaning staff. I am going to be working with the food service staff. I am going to be working with the pharmacy staff. I am going to be working with the lab staff. I am going to be working with the radiology staff. I am going to be working with the physical therapy staff. I am going to be working with the occupational therapy staff. I am going to be working with the speech therapy staff. I am going to be working with the respiratory therapy staff. I am going to be working with the medical records staff. I am going to be working with the billing staff. I am going to be working with the collections staff. I am going to be working with the insurance staff. I am going to be working with the marketing staff. I am going to be working with the public relations staff. I am going to be working with the human resources staff. I am going to be working with the information technology staff. I am going to be working with the facilities staff. I am going to be working with the security staff. I am going to be working with the maintenance staff. I am going to be working with the cleaning staff. I am going to be working with the food service staff. I am going to be working with the pharmacy staff. I am going to be working with the lab staff. I am going to be working with the radiology staff. I am going to be working with the physical therapy staff. I am going to be working with the occupational therapy staff. I am going to be working with the speech therapy staff. I am going to be working with the respiratory therapy staff. I am going to be working with the medical records staff. I am going to be working with the billing staff. I am going to be working with the collections staff. I am going to be working with the insurance staff. I am going to be working with the marketing staff. I am going to be working with the public relations staff. I am going to be working with the human resources staff. I am going to be working with the information technology staff. I am going to be working with the facilities staff. I am going to be working with the security staff. I am going to be working with the maintenance staff. I am going to be working with the cleaning staff. I am going to be working with the food service staff. I am going to be working with the pharmacy staff. I am going to be working with the lab staff. I am going to be working with the radiology staff. I am going to be working with the physical therapy staff. I am going to be working with the occupational therapy staff. I am going to be working with the speech therapy staff. I am going to be working with the respiratory therapy staff. I am going to be working with the medical records staff. I am going to be working with the billing staff. I am going to be working with the collections staff. I am going to be working with the insurance staff. I am going to be working with the marketing staff. I am going to be working with the public relations staff. I am going to be working with the human resources staff. I am going to be working with the information technology staff. I am going to be working with the facilities staff. I am going to be working with the security staff. I am going to be working with the maintenance staff. I am going to be working with the cleaning staff. I am going to be working with the food service staff. I am going to be working with the pharmacy staff. I am going to be working with the lab staff. I am going to be working with the radiology staff. I am going to be working with the physical therapy staff. I am going to be working with the occupational therapy staff. I am going to be working with the speech therapy staff. I am going to be working with the respiratory therapy staff. I am going to be working with the medical records staff. I am going to be working with the billing staff. I am going to be working with the collections staff. I am going to be working with the insurance staff. I am going to be working with the marketing staff. I am going to be working with the public relations staff. I am going to be working with the human resources staff. I am going to be working with the information technology staff. I am going to be working with the facilities staff. I am going to be working with the security staff. I am going to be working with the maintenance staff. I am going to be working with the cleaning staff. I am going to be working with the food service staff. I am going to be working with the pharmacy staff. I am going to be working with the lab staff. I am going to be working with the radiology staff. I am going to be working with the physical therapy staff. I am going to be working with the occupational therapy staff. I am going to be working with the speech therapy staff. I am going to be working with the respiratory therapy staff. I am going to be working with the medical records staff. I am going to be working with the billing staff. I am going to be working with the collections staff. I am going to be working with the insurance staff. I am going to be working with the marketing staff. I am going to be working with the public relations staff. I am going to be working with the human resources staff. I am going to be working with the information technology staff. I am going to be working with the facilities staff. I am going to be working with the security staff. I am going to be working with the maintenance staff. I am going to be working with the cleaning staff. I am going to be working with the food service staff. I am going to be working with the pharmacy staff. I am going to be working with the lab staff. I am going to be working with the radiology staff. I am going to be working with the physical therapy staff. I am going to be working with the occupational therapy staff. I am going to be working with the speech therapy staff. I am going to be working with the respiratory therapy staff. I am going to be working with the medical records staff. I am going to be working with the billing staff. I am going to be working with the collections staff. I am going to be working with the insurance staff. I am going to be working with the marketing staff. I am going to be working with the public relations staff. I am going to be working with the human resources staff. I am going to be working with the information technology staff. I am going to be working with the facilities staff. I am going to be working with the security staff. I am going to be working with the maintenance staff. I am going to be working with the cleaning staff. I am going to be working with the food service staff. I am going to be working with the pharmacy staff. I am going to be working with the lab staff. I am going to be working with the radiology staff. I am going to be working with the physical therapy staff. I am going to be working with the occupational therapy staff. I am going to be working with the speech therapy staff. I am going to be working with the respiratory therapy staff. I am going to be working with the medical records staff. I am going to be working with the billing staff. I am going to be working with the collections staff. I am going to be working with the insurance staff. I am going to be working with the marketing staff. I am going to be working with the public relations staff. I am going to be working with the human resources staff. I am going to be working with the information technology staff. I am going to be working with the facilities staff. I am going to be working with the security staff. I am going to be working with the maintenance staff. I am going to be working with the cleaning staff. I am going to be working with the food service staff. I am going to be working with the pharmacy staff. I am going to be working with the lab staff. I am going to be working with the radiology staff. I am going to be working with the physical therapy staff. I am going to be working with the occupational therapy staff. I am going to be working with the speech therapy staff. I am going to be working with the respiratory therapy staff. I am going to be working with the medical records staff. I am going to be working with the billing staff. I am going to be working with the collections staff. I am going to be working with the insurance staff. I am going to be working with the marketing staff. I am going to be working with the public relations staff. I am going to be working with the human resources staff. I am going to be working with the information technology staff. I am going to be working with the facilities staff. I am going to be working with the security staff. I am going to be working with the maintenance staff. I am going to be working with the cleaning staff. I am going to be working with the food service staff. I am going to be working with the pharmacy staff. I am going to be working with the lab staff. I am going to be working with the radiology staff. I am going to be working with the physical therapy staff. I am going to be working with the occupational therapy staff. I am going to be working with the speech therapy staff. I am going to be working with the respiratory therapy staff. I am going to be working with the medical records staff. I am going to be working with the billing staff. I am going to be working with the collections staff. I am going to be working with the insurance staff. I am going to be working with the marketing staff. I am going to be working with the public relations staff. I am going to be working with the human resources staff. I am going to be working with the information technology staff. I am going to be working with the facilities staff. I am going to be working with the security staff. I am going to be working with the maintenance staff. I am going to be working with the cleaning staff. I am going to be working with the food service staff. I am going to be working with the pharmacy staff. I am going to be working with the lab staff. I am going to be working with the radiology staff. I am going to be working with the physical therapy staff. I am going to be working with the occupational therapy staff. I am going to be working with the speech therapy staff. I am going to be working with the respiratory therapy staff. I am going to be working with the medical records staff. I am going to be working with the billing staff. I am going to be working with the collections staff. I am going to be working with the insurance staff. I am going to be working with the marketing staff. I am going to be working with the public relations staff. I am going to be working with the human resources staff. I am going to be working with the information technology staff. I am going to be working with the facilities staff. I am going to be working with the security staff. I am going to be working with the maintenance staff. I am going to be working with the cleaning staff. I am going to be working with the food service staff. I am going to be working with the pharmacy staff. I am going to be working with the lab staff. I am going to be working with the radiology staff. I am going\n"
     ]
    }
   ],
   "source": [
    "print(outcome[0]['generated_text'])"
   ]
  },
  {
   "cell_type": "code",
   "execution_count": 12,
   "id": "91e86512-609d-4540-b07c-996e7fd9fd1b",
   "metadata": {},
   "outputs": [
    {
     "name": "stdout",
     "output_type": "stream",
     "text": [
      "Classify the message as SPAM or NOT SPAM. Respond in JSON format. Use the following format: {0: 'NOT SPAM', 1: 'SPAM'}. Below is the message\n",
      "---\n",
      "\n",
      "7 -> As per your request 'Melle Melle (Oru Minnaminunginte Nurungu Vettam)' has been set as your callertune for all Callers. Press *9 to copy your friends Callertune\n",
      "\n",
      "8 -> WINNER!! As a valued network customer you have been selected to receivea £900 prize reward! To claim call 09061701461. Claim code KL341. Valid 12 hours only.\n",
      "\n",
      "9 -> Had your mobile 11 months or more? U R entitled to Update to the latest colour mobiles with camera for Free! Call The Mobile Update Co FREE on 08002986030\n",
      "\n",
      "10 -> I'm gonna be home soon and i don't want to talk about this stuff anymore tonight, k? I've cried enough today.\n",
      "\n",
      "11 -> SIX chances to win CASH! From 100 to 20,000 pounds txt> CSH11 and send to 87575. Cost 150p/day, 6days, 16+ TsandCs apply Reply HL 4 info\n",
      "\n",
      "12 -> URGENT! You have won a 1 week FREE membership in our £100,000 Prize Jackpot! Txt the word: CLAIM to No: 81010 T&C www.dbuk.net LCCLTD POBOX 4403LDNW1A7RW18\n",
      "\n",
      "13 -> I've been searching for the right words to thank you for this breather. I promise i wont take your help for granted and will fulfil my promise. You have been wonderful and a blessing at all times.\n",
      "\n",
      "14 -> I HAVE A DATE ON SUNDAY WITH WILL!!\n",
      "\n",
      "\n",
      "\n"
     ]
    }
   ],
   "source": [
    "print(query)"
   ]
  },
  {
   "cell_type": "code",
   "execution_count": 28,
   "id": "ffe3d740-8039-43e9-805e-3b3e4bf09e1c",
   "metadata": {},
   "outputs": [
    {
     "name": "stdout",
     "output_type": "stream",
     "text": [
      "Classify the below message as SPAM or NOT SPAM:\n",
      "---\n",
      "7 -> As per your request 'Melle Melle (Oru Minnaminunginte Nurungu Vettam)' has been set as your callertune for all Callers. Press *9 to copy your friends Callertune\n",
      "\n",
      "8 -> WINNER!! As a valued network customer you have been selected to receivea £900 prize reward! To claim call 09061701461. Claim code KL341. Valid 12 hours only.\n",
      "\n",
      "9 -> Had your mobile 11 months or more? U R entitled to Update to the latest colour mobiles with camera for Free! Call The Mobile Update Co FREE on 08002986030\n",
      "\n",
      "10 -> I'm gonna be home soon and i don't want to talk about this stuff anymore tonight, k? I've cried enough today.\n",
      "\n",
      "11 -> SIX chances to win CASH! From 100 to 20,000 pounds txt> CSH11 and send to 87575. Cost 150p/day, 6days, 16+ TsandCs apply Reply HL 4 info\n",
      "\n",
      "12 -> URGENT! You have won a 1 week FREE membership in our £100,000 Prize Jackpot! Txt the word: CLAIM to No: 81010 T&C www.dbuk.net LCCLTD POBOX 4403LDNW1A7RW18\n",
      "\n",
      "13 -> I've been searching for the right words to thank you for this breather. I promise i wont take your help for granted and will fulfil my promise. You have been wonderful and a blessing at all times.\n",
      "\n",
      "14 -> I HAVE A DATE ON SUNDAY WITH WILL!!\n",
      "\n",
      "\n",
      "---\n",
      "Respond in JSON format. Use the following format: {0: 'NOT SPAM', 1: 'SPAM'}.\n",
      "\n"
     ]
    }
   ],
   "source": [
    "query = f\"\"\"Classify the below message as SPAM or NOT SPAM:\n",
    "---\n",
    "{sms_messages_string}\n",
    "---\n",
    "Respond in JSON format. Use the following format: {id2label}.\n",
    "\"\"\"\n",
    "\n",
    "print(query)"
   ]
  },
  {
   "cell_type": "code",
   "execution_count": 35,
   "id": "acbbbc8f-f05c-4d8b-80a4-9dfe78550ebe",
   "metadata": {
    "scrolled": true
   },
   "outputs": [
    {
     "name": "stdout",
     "output_type": "stream",
     "text": [
      "[{'generated_text': \"Classify the below message as SPAM or NOT SPAM:\\n---\\n7 -> As per your request 'Melle Melle (Oru Minnaminunginte Nurungu Vettam)' has been set as your callertune for all Callers. Press *9 to copy your friends Callertune\\n\\n8 -> WINNER!! As a valued network customer you have been selected to receivea £900 prize reward! To claim call 09061701461. Claim code KL341. Valid 12 hours only.\\n\\n9 -> Had your mobile 11 months or more? U R entitled to Update to the latest colour mobiles with camera for Free! Call The Mobile Update Co FREE on 08002986030\\n\\n10 -> I'm gonna be home soon and i don't want to talk about this stuff anymore tonight, k? I've cried enough today.\\n\\n11 -> SIX chances to win CASH! From 100 to 20,000 pounds txt> CSH11 and send to 87575. Cost 150p/day, 6days, 16+ TsandCs apply Reply HL 4 info\\n\\n12 -> URGENT! You have won a 1 week FREE membership in our £100,000 Prize Jackpot! Txt the word: CLAIM to No: 81010 T&C www.dbuk.net LCCLTD POBOX 4403LDNW1A7RW18\\n\\n13 -> I've been searching for the right words to thank you for this breather. I promise i wont take your help for granted and will fulfil my promise. You have been wonderful and a blessing at all times.\\n\\n14 -> I HAVE A DATE ON SUNDAY WITH WILL!!\\n\\n\\n---\\nRespond in JSON format. Use the following format: {0: 'NOT SPAM', 1: 'SPAM'}.\\n\"}]\n"
     ]
    }
   ],
   "source": [
    "outcome = pipe_0(query,\n",
    "                 pad_token_id=pipe_0.tokenizer.eos_token_id,\n",
    "                 # max_tokens=max_tokens,\n",
    "                 max_new_tokens=8192,\n",
    "                 # eos_token_id=terminators,\n",
    "                 do_sample=True,\n",
    "                 temperature=0.6,\n",
    "                 # top_p=top_p\n",
    "                )\n",
    "print(outcome)"
   ]
  },
  {
   "cell_type": "code",
   "execution_count": 37,
   "id": "2b8de1e3-3cf0-48e4-83cd-45a979b67a10",
   "metadata": {},
   "outputs": [
    {
     "name": "stdout",
     "output_type": "stream",
     "text": [
      "Classify the below message as SPAM or NOT SPAM:\n",
      "---\n",
      "7 -> As per your request 'Melle Melle (Oru Minnaminunginte Nurungu Vettam)' has been set as your callertune for all Callers. Press *9 to copy your friends Callertune\n",
      "\n",
      "8 -> WINNER!! As a valued network customer you have been selected to receivea £900 prize reward! To claim call 09061701461. Claim code KL341. Valid 12 hours only.\n",
      "\n",
      "9 -> Had your mobile 11 months or more? U R entitled to Update to the latest colour mobiles with camera for Free! Call The Mobile Update Co FREE on 08002986030\n",
      "\n",
      "10 -> I'm gonna be home soon and i don't want to talk about this stuff anymore tonight, k? I've cried enough today.\n",
      "\n",
      "11 -> SIX chances to win CASH! From 100 to 20,000 pounds txt> CSH11 and send to 87575. Cost 150p/day, 6days, 16+ TsandCs apply Reply HL 4 info\n",
      "\n",
      "12 -> URGENT! You have won a 1 week FREE membership in our £100,000 Prize Jackpot! Txt the word: CLAIM to No: 81010 T&C www.dbuk.net LCCLTD POBOX 4403LDNW1A7RW18\n",
      "\n",
      "13 -> I've been searching for the right words to thank you for this breather. I promise i wont take your help for granted and will fulfil my promise. You have been wonderful and a blessing at all times.\n",
      "\n",
      "14 -> I HAVE A DATE ON SUNDAY WITH WILL!!\n",
      "\n",
      "\n",
      "---\n",
      "Respond in JSON format. Use the following format: {0: 'NOT SPAM', 1: 'SPAM'}.\n",
      "\n"
     ]
    }
   ],
   "source": [
    "print(outcome[0]['generated_text'])"
   ]
  },
  {
   "cell_type": "code",
   "execution_count": 15,
   "id": "35c58427-6678-4ba1-82c9-b830439ff71a",
   "metadata": {},
   "outputs": [],
   "source": [
    "# I took the above and passed it to deep-seek's R1 through Hugging Chat, but I'm trying to use Meta-Llama-3.1-8b\n",
    "response = {\n",
    "  \"7\": \"NOT SPAM\",\n",
    "  \"8\": \"SPAM\",\n",
    "  \"9\": \"SPAM\",\n",
    "  \"10\": \"NOT SPAM\",\n",
    "  \"11\": \"SPAM\",\n",
    "  \"12\": \"SPAM\",\n",
    "  \"13\": \"NOT SPAM\",\n",
    "  \"14\": \"NOT SPAM\"\n",
    "}"
   ]
  },
  {
   "cell_type": "code",
   "execution_count": 16,
   "id": "a1183bd8-db9e-4eed-848d-1c80804ee205",
   "metadata": {},
   "outputs": [],
   "source": [
    "# Estimate the accuracy of your classifier by comparing your responses to the labels in the dataset\n",
    "def get_accuracy(response, dataset, original_indices):\n",
    "    correct = 0\n",
    "    total = 0\n",
    "\n",
    "    for entry_number, prediction in response.items():\n",
    "        if int(entry_number) not in original_indices:\n",
    "            continue\n",
    "\n",
    "        label_id = dataset[int(entry_number)][\"label\"]\n",
    "        label = id2label[label_id]\n",
    "\n",
    "        # If the prediction from the LLM matches the label in the dataset\n",
    "        # we increment the number of correct predictions.\n",
    "        # (Since LLMs do not always produce the same output, we use the\n",
    "        # lower case version of the strings for comparison)\n",
    "        if prediction.lower() == label.lower():\n",
    "            correct += 1\n",
    "\n",
    "        # increment the total number of predictions\n",
    "        total += 1\n",
    "\n",
    "    try:\n",
    "        accuracy = correct / total\n",
    "    except ZeroDivisionError:\n",
    "        print(\"No matching results found!\")\n",
    "        return\n",
    "\n",
    "    return round(accuracy, 2)"
   ]
  },
  {
   "cell_type": "code",
   "execution_count": 17,
   "id": "a54c4924-2815-40b0-a7ab-b102edeb43ac",
   "metadata": {},
   "outputs": [
    {
     "name": "stdout",
     "output_type": "stream",
     "text": [
      "Accuracy: 1.0\n"
     ]
    }
   ],
   "source": [
    "print(f\"Accuracy: {get_accuracy(response, dataset, range(7, 15))}\")"
   ]
  },
  {
   "cell_type": "markdown",
   "id": "545fa09b-a04f-478a-9a42-dc80d13e93f1",
   "metadata": {},
   "source": [
    "That's not bad! (Assuming you used an LLM capable of handling this task)\n",
    "\n",
    "Surely it won't be correct for every example we throw at it, but it's a great start, especially for not giving it any examples or training data.\n",
    "\n",
    "We can see that the model is able to distinguish between spam and non-spam messages with a high degree of accuracy. This is a great example of how a foundation model can be used to build a spam email classifier."
   ]
  },
  {
   "cell_type": "markdown",
   "id": "79f126ec-3db4-41b5-a71b-93b597618c9f",
   "metadata": {},
   "source": [
    "## Step 3: Build an improved classifier?\n",
    "\n",
    "If you provide the LLM with some examples for how to complete a task, it will sometimes improve its performance. Let's try that out here."
   ]
  },
  {
   "cell_type": "code",
   "execution_count": 38,
   "id": "26f67b47-d480-42d0-b6f9-247dbdc25f12",
   "metadata": {},
   "outputs": [
    {
     "name": "stdout",
     "output_type": "stream",
     "text": [
      "Classify the message as SPAM or NOT SPAM. Respond in JSON format. Use the following format: {0: 'NOT SPAM', 1: 'SPAM'}.\n",
      "Here are some examples:\n",
      "\n",
      "54 (label=SPAM) -> SMS. ac Sptv: The New Jersey Devils and the Detroit Red Wings play Ice Hockey. Correct or Incorrect? End? Reply END SPTV\n",
      "\n",
      "55 (label=NOT SPAM) -> Do you know what Mallika Sherawat did yesterday? Find out now @  &lt;URL&gt;\n",
      "\n",
      "56 (label=SPAM) -> Congrats! 1 year special cinema pass for 2 is yours. call 09061209465 now! C Suprman V, Matrix3, StarWars3, etc all 4 FREE! bx420-ip4-5we. 150pm. Dont miss out! \n",
      "\n",
      "57 (label=NOT SPAM) -> Sorry, I'll call later in meeting.\n",
      "\n",
      "58 (label=NOT SPAM) -> Tell where you reached\n",
      "\n",
      "59 (label=NOT SPAM) -> Yes..gauti and sehwag out of odi series.\n",
      "\n",
      "\n",
      "---\n",
      "Please classify the below\n",
      "---\n",
      "\n",
      "7 -> As per your request 'Melle Melle (Oru Minnaminunginte Nurungu Vettam)' has been set as your callertune for all Callers. Press *9 to copy your friends Callertune\n",
      "\n",
      "8 -> WINNER!! As a valued network customer you have been selected to receivea £900 prize reward! To claim call 09061701461. Claim code KL341. Valid 12 hours only.\n",
      "\n",
      "9 -> Had your mobile 11 months or more? U R entitled to Update to the latest colour mobiles with camera for Free! Call The Mobile Update Co FREE on 08002986030\n",
      "\n",
      "10 -> I'm gonna be home soon and i don't want to talk about this stuff anymore tonight, k? I've cried enough today.\n",
      "\n",
      "11 -> SIX chances to win CASH! From 100 to 20,000 pounds txt> CSH11 and send to 87575. Cost 150p/day, 6days, 16+ TsandCs apply Reply HL 4 info\n",
      "\n",
      "12 -> URGENT! You have won a 1 week FREE membership in our £100,000 Prize Jackpot! Txt the word: CLAIM to No: 81010 T&C www.dbuk.net LCCLTD POBOX 4403LDNW1A7RW18\n",
      "\n",
      "13 -> I've been searching for the right words to thank you for this breather. I promise i wont take your help for granted and will fulfil my promise. You have been wonderful and a blessing at all times.\n",
      "\n",
      "14 -> I HAVE A DATE ON SUNDAY WITH WILL!!\n",
      "\n",
      "\n",
      "\n"
     ]
    }
   ],
   "source": [
    "# Replace <MASK> with your code that constructs a query to send to the LLM\n",
    "\n",
    "# Get a few labelled messages and format them as a string\n",
    "sms_messages_string_w_labels = get_sms_messages_string(\n",
    "    dataset, range(54, 60), include_labels=True\n",
    ")\n",
    "\n",
    "# Get a few unlabelled messages and format them as a string\n",
    "sms_messages_string_no_labels = get_sms_messages_string(dataset, range(7, 15))\n",
    "\n",
    "\n",
    "# Construct a query to send to the LLM including the labelled messages\n",
    "# as well as the unlabelled messages. Ask it to respond in JSON format\n",
    "# query = <MASK>\n",
    "query = f\"\"\"Classify the message as SPAM or NOT SPAM. Respond in JSON format. Use the following format: {id2label}.\n",
    "Here are some examples:\n",
    "\n",
    "{sms_messages_string_w_labels}\n",
    "---\n",
    "Please classify the below\n",
    "---\n",
    "\n",
    "{sms_messages_string}\n",
    "\"\"\"\n",
    "\n",
    "print(query)"
   ]
  },
  {
   "cell_type": "code",
   "execution_count": null,
   "id": "fbbcc353-7f61-4388-a1c6-0d975924e535",
   "metadata": {},
   "outputs": [],
   "source": []
  },
  {
   "cell_type": "code",
   "execution_count": 39,
   "id": "f8c7eb0c-bd99-48cf-be4b-b31137ffcd59",
   "metadata": {},
   "outputs": [],
   "source": [
    "# Result again from deepseek R1 through hugging chat; using LLaMa 3.1 has posed issues\n",
    "result_1 = {7: 'NOT SPAM',\n",
    "            8: 'SPAM',\n",
    "            9: 'SPAM',\n",
    "            10: 'NOT SPAM',\n",
    "            11: 'SPAM',\n",
    "            12: 'SPAM',\n",
    "            13: 'NOT SPAM',\n",
    "            14: 'NOT SPAM'}"
   ]
  },
  {
   "cell_type": "code",
   "execution_count": null,
   "id": "e789b607-9027-4156-9a79-d87ca9be538b",
   "metadata": {},
   "outputs": [],
   "source": [
    "outcome_1 = pipe_0(query,\n",
    "       pad_token_id=pipe_0.tokenizer.eos_token_id,\n",
    "       max_new_tokens=max_tokens,\n",
    "       # eos_token_id=terminators,\n",
    "       do_sample=True,\n",
    "       # temperature=temperature,\n",
    "       # top_p=top_p\n",
    "                  )"
   ]
  },
  {
   "cell_type": "code",
   "execution_count": null,
   "id": "66341982-1fbd-445c-8c0c-625458f14c8d",
   "metadata": {},
   "outputs": [],
   "source": []
  },
  {
   "cell_type": "code",
   "execution_count": 44,
   "id": "455f8589-45cd-4966-88f2-4bd50b6942db",
   "metadata": {},
   "outputs": [
    {
     "name": "stdout",
     "output_type": "stream",
     "text": [
      "Accuracy: 1.0\n"
     ]
    }
   ],
   "source": [
    "print(f\"Accuracy: {get_accuracy(result_1, dataset, range(7, 15))}\")"
   ]
  },
  {
   "cell_type": "markdown",
   "id": "95d2abd5-868a-48a1-b9f8-698258d3f13b",
   "metadata": {},
   "source": [
    "# Why Benchmarks Matter\n",
    "\n",
    "Benchmarks matter because they are the standards that help us measure and accelerate progress in AI. They offer a common ground for comparing different AI models and encouraging innovation, providing important stepping stones on the path to more advanced AI technologies.\n",
    "\n",
    "## Technical Terms Explained:\n",
    "\n",
    "* **Robustness**: The strength of an AI model to maintain its performance despite challenges or changes in data.\n",
    "\n",
    "* **Open Access**: Making data sets freely available to the public, so that anyone can use them for research and develop AI technologies."
   ]
  },
  {
   "cell_type": "markdown",
   "id": "c2c98633-2796-48ab-8e2a-f12b19003e5a",
   "metadata": {},
   "source": [
    "# The GLUE Benchmarks\n",
    "\n",
    "The GLUE benchmarks serve as an essential tool to assess an AI's grasp of human language, covering diverse tasks, from grammar checking to complex sentence relationship analysis. By putting AI models through these varied linguistic challenges, we can gauge their readiness for real-world tasks and uncover any potential weaknesses.\n",
    "\n",
    "## Technical Terms Explained:\n",
    "\n",
    "* **Semantic Equivalence**: When different phrases or sentences convey the same meaning or idea.\n",
    "\n",
    "* **Textual Entailment**: The relationship between text fragments where one fragment follows logically from the other.\n",
    "\n",
    "## GLUE Tasks/Benchmarks\n",
    "\n",
    "|Short Name| Full Name | Description| Summary|\n",
    "|:--|:--|:--|:--|\n",
    "|CoLA|\tCorpus of Linguistic Acceptability\t|Measures the ability to determine if an English sentence is linguistically acceptable.| Grammatical acceptability |\n",
    "|SST-2|\tStanford Sentiment Treebank\t|Consists of sentences from movie reviews and human annotations about their sentiment.| Sentiment Analysis |\n",
    "|MRPC|\tMicrosoft Research Paraphrase Corpus|\tFocuses on identifying whether two sentences are paraphrases of each other.| Paraphrase identification |\n",
    "|STS-B|\tSemantic Textual Similarity Benchmark\t|Involves determining how similar two sentences are in terms of semantic content.| Semantic textual similarity |\n",
    "|QQP|\tQuora Question Pairs|\tAims to identify whether two questions asked on Quora are semantically equivalent.| Question pairs equivalence |\n",
    "|MNLI|\tMulti-Genre Natural Language Inference\t|Consists of sentence pairs labeled for textual entailment across multiple genres of text.| Natural language inference |\n",
    "|QNLI|\tQuestion Natural Language Inference|\tInvolves determining whether the content of a paragraph contains the answer to a question.| Question answering inference |\n",
    "|RTE|\tRecognizing Textual Entailment|\tRequires understanding whether one sentence entails another.| Textural entailment recognition |\n",
    "|WNLI|\tWinograd Natural Language Inference\t|Tests a system's reading comprehension by having it determine the correct referent of a pronoun in a sentence, where understanding depends on contextual information provided by specific words or phrases.| Pronoun disambiguation |\n",
    "\n",
    "## SuperGLUE Benchmarks\n",
    "\n",
    "SuperGlue is designed as a successor to the original GLUE benchmark. It's a more advanced benchmark aimed at presenting even more challenging language understanding tasks for AI models. Created to push the boundaries of what AI can understand and process in natural language, SuperGlue emerged as models began to achieve human parity on the GLUE benchmark. It also features a public leaderboard, facilitating the direct comparison of models and enabling the tracking of progress over time.\n",
    "\n",
    "Short Name| Full Name | Description|\n",
    "|:--|:--|:--|\n",
    "|BoolQ|\tBoolean Questions|Involves answering a yes/no question based on a short passage. |\n",
    "|CB\t|CommitmentBank\t|Tests understanding of entailment and contradiction in a three-sentence format. |\n",
    "|COPA|\tChoice of Plausible Alternatives|\tMeasures causal reasoning by asking for the cause/effect of a given sentence. |\n",
    "|MultiRC|\tMulti-Sentence Reading Comprehension|\tInvolves answering questions about a paragraph where each question may have multiple correct answers. |\n",
    "|ReCoRD|\tReading Comprehension with Commonsense Reasoning|\tRequires selecting the correct named entity from a passage to fill in the blank of a question. |\n",
    "|RTE|\tRecognizing Textual Entailment|\tInvolves identifying whether a sentence entails, contradicts, or is neutral towards another sentence. |\n",
    "|WiC|\tWords in Context|\tTests understanding of word sense disambiguation in different contexts. |\n",
    "|WSC|\tWinograd Schema Challenge|\tFocuses on resolving coreference resolution within a sentence, often requiring commonsense reasoning. |\n",
    "|AX-b|\tBroad Coverage Diagnostic|\tA diagnostic set to evaluate model performance on a broad range of linguistic phenomena. |\n",
    "|AX-g\t|Winogender Schema Diagnostics\t|Tests for the presence of gender bias in automated coreference resolution systems. |\n",
    "\n",
    "## Technical Terms Explained:\n",
    "\n",
    "* **Coreference Resolution**: This is figuring out when different words or phrases in a text, like the pronoun she and the president, refer to the same person or thing.\n",
    "\n",
    "\n",
    "<ins>BoolQ Examples</ins>\n",
    "\n",
    "Let's take a look at some examples from the BoolQ dataset. Here is a table from the paper \"BoolQ: Exploring the surprising difficulty of natural yes/no questions.\"\n",
    "\n",
    "<img src=\"img/img_04.png\">"
   ]
  },
  {
   "cell_type": "markdown",
   "id": "d3156cc1-4537-41d7-b2b0-bea5b760faee",
   "metadata": {},
   "source": [
    "# Data Used for Training LLMs\n",
    "\n",
    "Generative AI, specifically Large Language Models (LLMs), rely on a rich mosaic of data sources to fine-tune their linguistic skills. These sources include web content, academic writings, literary works, and multilingual texts, among others. By engaging with a variety of data types, such as scientific papers, social media posts, legal documents, and even conversational dialogues, LLMs become adept at comprehending and generating language across many contexts, enhancing their ability to provide relevant and accurate information.\n",
    "\n",
    "<img src=\"img/img_05.png\">\n",
    "\n",
    "## Explanation of Technical Terms:\n",
    "\n",
    "* **Preprocessing**: This is the process of preparing and cleaning data before it is used to train a machine learning model. It might involve removing errors, irrelevant information, or formatting the data in a way that the model can easily learn from it.\n",
    "\n",
    "* **Fine-tuning**: After a model has been pre-trained on a large dataset, fine-tuning is an additional training step where the model is further refined with specific data to improve its performance on a particular type of task."
   ]
  },
  {
   "cell_type": "markdown",
   "id": "b95a19fe-464c-4c5b-ab6a-0c08bcb3c228",
   "metadata": {},
   "source": [
    "# Data Scale and Volume\n",
    "\n",
    "The scale of data for Large Language Models (LLMs) is tremendously vast, involving datasets that could equate to millions of books. The sheer size is pivotal for the model's understanding and mastery of language through exposure to diverse words and structures.\n",
    "\n",
    "<img src=\"img/img_06.png\">\n",
    "\n",
    "Recall, the initial LLaMa from Meta was trained on more than 4.7TB of Data, which is ~4,700gb which is ~4,700*1,000 =4,700,000 books of information\n",
    "\n",
    "<img src=\"img/img_02.png\">\n",
    "\n",
    "## Explanation of Technical Terms:\n",
    "\n",
    "* **Gigabytes/Terabytes**: Units of digital information storage. One gigabyte (GB) is about 1 billion bytes, and one terabyte (TB) is about 1,000 gigabytes. In terms of text, a single gigabyte can hold roughly 1,000 books.\n",
    "\n",
    "* **Common Crawl**: An open repository of web crawl data. Essentially, it is a large collection of content from the internet that is gathered by automatically scraping the web."
   ]
  },
  {
   "cell_type": "markdown",
   "id": "ac5bdf52-9072-4a13-8bf6-a577a654528c",
   "metadata": {},
   "source": [
    "# Biases in Training Data\n",
    "\n",
    "Biases in training data deeply influence the outcomes of AI models, reflecting societal issues that require attention. Ways to approach this challenge include promoting diversity in development teams, seeking diverse data sources, and ensuring continued vigilance through bias detection and model monitoring.\n",
    "\n",
    "<img src=\"img/img_07.png\">\n",
    "\n",
    "<img src=\"img/img_08.png\">\n",
    "\n",
    "\n",
    "## Technical Terms Explained:\n",
    "\n",
    "* **Selection Bias**: When the data used to train an AI model does not accurately represent the whole population or situation by virtue of the selection process, e.g. those choosing the data will tend to choose dataset their are aware of\n",
    "\n",
    "* **Historical Bias**: Prejudices and societal inequalities of the past that are reflected in the data, influencing the AI in a way that perpetuates these outdated beliefs.\n",
    "\n",
    "* **Confirmation Bias**: The tendency to favor information that confirms pre-existing beliefs, which can affect what data is selected for AI training.\n",
    "\n",
    "* **Discriminatory Outcomes**: Unfair results produced by AI that disadvantage certain groups, often due to biases in the training data or malicious actors.\n",
    "\n",
    "* **Echo Chambers**: Situations where biased AI reinforces and amplifies existing biases, leading to a narrow and distorted sphere of information.\n",
    "\n",
    "* **Bias Detection and Correction**: Processes and algorithms designed to identify and remove biases from data before it's used to train AI models.\n",
    "\n",
    "* **Transparency and Accountability**: Openness about how AI models are trained and the nature of their data, ensuring that developers are answerable for their AI's performance and impact.\n",
    "\n"
   ]
  },
  {
   "cell_type": "markdown",
   "id": "cd2272f0-f034-40fd-90ed-d033f9cf342b",
   "metadata": {},
   "source": [
    "# Exercise: Research Pre-Training Datasets\n",
    "\n",
    "When it comes to training language models, selecting the right pre-training dataset is important. In this exercise, we will explore the options available for choosing a pre-training dataset, focusing on four key sources:\n",
    "\n",
    "* CommonCrawl\n",
    "* Github\n",
    "* Wikipedia\n",
    "* Gutenberg project\n",
    "\n",
    "These sources provide a wide range of data, making them valuable resources for training language models. If you were tasked with pre-training an LLM, how would you use these datasets and how would you pre-process them? Are there other sources you would use?\n",
    "\n",
    "In this exercise, you will construct a fictional pre-training dataset for a fictional task. The goal is to get you thinking about how to construct a pre-training dataset for your own task.\n",
    "\n",
    "## Step 1: Evaluate the available pre-training datasets\n",
    "\n",
    "Begin by examining the four sources mentioned in the introduction - CommonCrawl, Github, Wikipedia, and the Gutenberg project. Assess the size, quality, and relevance of the data provided by each source for training language models.\n",
    "\n",
    "### Common Crawl\n",
    "\n",
    "Read about [CommonCrawl on its website](https://commoncrawl.org/)\n",
    "* Size: Common Crawl corpus contains petabytes of data, regularly collected since 2008\n",
    "* Data Summary: CommonCrawl website contains webpages in their original form, and these pages have not been filtered for things like spam\n",
    "\n",
    "### Github\n",
    "\n",
    "Read about the [Github dataset on its website](https://www.githubarchive.org/)\n",
    "* Data Summary: The Github dataset only contains public repositories\n",
    "\n",
    "### Wikipedia\n",
    "\n",
    "Read about the [Wikipedia dataset on its website](https://dumps.wikimedia.org/)\n",
    "* Data Summary: Wikipedia datasets are available in many formats, even DVD\n",
    "\n",
    "### Gutenberg Project\n",
    "\n",
    "Read about the [Gutenberg Project on its website](https://www.gutenberg.org/)\n",
    "* Size: There are over 70,000 books in the Gutenberg Project dataset\n",
    "\n",
    "## Step 2. Select the appropriate datasets\n",
    "Based on the evaluation, choose the datasets that best suit the requirements of pre-training a Language Model (LLM). Consider factors such as the diversity of data, domain-specific relevance, and the specific language model objectives.\n",
    "\n",
    "\n",
    "For your use case, rank the datasets in order of preference. For example, if you were training a language model to generate code, you might rank the datasets as follows:\n",
    "\n",
    "1. Github\n",
    "2. Wikipedia\n",
    "3. CommonCrawl\n",
    "4. Gutenberg project\n",
    "\n",
    "Explain your reasoning for the ranking. For example, you might say that GitHub is the best dataset because it contains a large amount of code, and the code is structured and clean. You might say that Wikipedia is the second-best dataset because it contains a large amount of text, including some code. You might say that CommonCrawl is the third-best dataset because it contains a large amount of text, but the text is unstructured and noisy. You might say that the Gutenberg project is the worst dataset because it contains text that is not relevant to the task.\n",
    "\n",
    "```\n",
    "1. CommonCrawl\n",
    "2. Gutenberg Project\n",
    "3. Wikipedia\n",
    "4. Github\n",
    "\n",
    "I am interested in building a foundation model that can talk but specializes in literature. So I want to pre-train on CommonCrawl and Fine-Tune on Gutenberg Project\n",
    "```\n",
    "\n",
    "## Step 3. Pre-process the selected datasets\n",
    "\n",
    "Depending on the nature of the chosen datasets, pre-processing may be required. This step involves cleaning the data, removing irrelevant or noisy content, standardizing formats, and ensuring consistency across the dataset. Discuss how you would pre-process the datasets based on what you have observed.\n",
    "\n",
    "```\n",
    "I would start by examining the common crawl data set to understand how messy is messy, as it is described as such. I may do the same with Wikipedia\n",
    "\n",
    "For the Gutenberg data, I would ensure it is formed in an appropriate form for fine-tuning.\n",
    "\n",
    "For the Github data, I am unsure how it should be pre-processed.\n",
    "```\n",
    "\n",
    "## Step 4. Augment with additional sources\n",
    "\n",
    "Consider whether there are other relevant sources that can be used to augment the selected datasets. These sources could include domain-specific corpora, specialized text collections, or other publicly available text data that aligns with your language model's objectives, such as better representation and diversity."
   ]
  },
  {
   "cell_type": "markdown",
   "id": "a282a3a7",
   "metadata": {},
   "source": []
  }
 ],
 "metadata": {
  "kernelspec": {
   "display_name": "venv_ud_gen",
   "language": "python",
   "name": "python3"
  },
  "language_info": {
   "codemirror_mode": {
    "name": "ipython",
    "version": 3
   },
   "file_extension": ".py",
   "mimetype": "text/x-python",
   "name": "python",
   "nbconvert_exporter": "python",
   "pygments_lexer": "ipython3",
   "version": "3.10.16"
  }
 },
 "nbformat": 4,
 "nbformat_minor": 5
}
