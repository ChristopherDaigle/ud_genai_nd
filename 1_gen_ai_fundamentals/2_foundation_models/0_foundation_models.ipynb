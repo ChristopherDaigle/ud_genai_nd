{
 "cells": [
  {
   "cell_type": "markdown",
   "id": "f4572f5c-6bcf-43d9-857a-8f02eb9ef5ed",
   "metadata": {},
   "source": [
    "# What is a Foundation Model\n",
    "\n",
    "A foundation model is a powerful AI tool that can do many different things after being trained on lots of diverse data. These models are incredibly versatile and provide a solid base for creating various AI applications, like a strong foundation holds up different kind of buildings. By using a foundation model, we have a strong starting point for building specialized AI tasks.\n",
    "\n",
    "\n",
    "## Terms Explained:\n",
    "\n",
    "* **Foundation Model**: A large AI model trained on a wide variety of data, which can do many tasks without much extra training.\n",
    "\n",
    "* **Adapted**: Modified or adjusted to suit new conditions or a new purpose, i.e. in the context of foundation models.\n",
    "\n",
    "* **Generalize**: The ability of a model to apply what it has learned from its training data to new, unseen data.\n",
    "\n",
    "Foundation models represent a paradigm shift in building machine learning systems. In the past, there was more of a focus on building large datasets and building models from scratch. With the advent of foundation models, the pattern has changed. Now, people generally start with the foundation model and build off of it."
   ]
  },
  {
   "cell_type": "markdown",
   "id": "f956ac2c-b177-4d7d-be6d-f78ef351a280",
   "metadata": {},
   "source": [
    "# Foundation Models vs Traditional Models\n",
    "\n",
    "Foundation Models and Traditional Models are two distinct approaches in the field of artificial intelligence with different strengths. Foundation Models, which are built on large, diverse datasets, have the incredible ability to adapt and perform well on many different tasks. In contrast, Traditional Models specialize in specific tasks by learning from smaller, focused datasets, making them more straightforward and efficient for targeted applications.\n",
    "\n",
    "<img src=\"img/img_00.png\">"
   ]
  },
  {
   "cell_type": "code",
   "execution_count": null,
   "id": "5184cc65-da16-48c7-9de2-b14528f54cd7",
   "metadata": {},
   "outputs": [],
   "source": []
  }
 ],
 "metadata": {
  "kernelspec": {
   "display_name": "venv_ud_gen",
   "language": "python",
   "name": "venv_ud_gen"
  },
  "language_info": {
   "codemirror_mode": {
    "name": "ipython",
    "version": 3
   },
   "file_extension": ".py",
   "mimetype": "text/x-python",
   "name": "python",
   "nbconvert_exporter": "python",
   "pygments_lexer": "ipython3",
   "version": "3.10.16"
  }
 },
 "nbformat": 4,
 "nbformat_minor": 5
}
