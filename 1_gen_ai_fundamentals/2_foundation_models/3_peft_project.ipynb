{
 "cells": [
  {
   "cell_type": "markdown",
   "id": "2e43131f",
   "metadata": {},
   "source": [
    "# Project Overview\n",
    "\n",
    "**Project Introduction**\n",
    "\n",
    "Lightweight fine-tuning is one of the most important techniques for adapting foundation models, because it allows you to modify foundation models for your needs without needing substantial computational resources.\n",
    "\n",
    "In this project, you will apply parameter-efficient fine-tuning using the Hugging Face `peft` library.\n",
    "\n",
    "**Project Summary**\n",
    "\n",
    "In this project, you will bring together all of the essential components of a PyTorch + Hugging Face training and inference process. Specifically, you will:\n",
    "\n",
    "1. Load a pre-trained model and evaluate its performance\n",
    "2. Perform parameter-efficient fine tuning using the pre-trained model\n",
    "3. Perform inference using the fine-tuned model and compare its performance to the original model"
   ]
  },
  {
   "cell_type": "markdown",
   "id": "eeb974d1",
   "metadata": {},
   "source": [
    "## HuggingFace PEFT Library\n",
    "\n",
    "**Key Concepts**\n",
    "\n",
    "Hugging Face PEFT allows you to fine-tune a model without having to fine-tune all of its parameters.\n",
    "\n",
    "Training a model using Hugging Face PEFT requires two additional steps beyond traditional fine-tuning:\n",
    "\n",
    "1. Creating a **PEFT config**\n",
    "2. **Converting the model into a PEFT model** using the PEFT config\n",
    "Inference using a PEFT model is almost identical to inference using a non-PEFT model. The only difference is that it must be loaded as a PEFT model.\n",
    "\n",
    "## Training with PEFT\n",
    "\n",
    "Creating a PEFT Config\n",
    "The PEFT config specifies the adapter configuration for your parameter-efficient fine-tuning process. The base class for this is a `PeftConfig`, but this example will use a `LoraConfig`, the subclass used for low rank adaptation (LoRA).\n",
    "\n",
    "A LoRA config can be instantiated like this:\n",
    "\n",
    "```python\n",
    "from peft import LoraConfig\n",
    "config = LoraConfig()\n",
    "```\n",
    "\n",
    "Look at the LoRA adapter documentation for additional hyperparameters that can be specified by passing arguments to `LoraConfig()`. [Hugging Face LoRA conceptual guide](https://huggingface.co/docs/peft/main/en/conceptual_guides/lora) also contains additional explanations.\n",
    "\n",
    "## Converting a Transformers Model into a PEFT Model\n",
    "\n",
    "Once you have a PEFT config object, you can load a Hugging Face `transformers` model as a PEFT model by first loading the pre-trained model as usual (here we load GPT-2):\n",
    "\n",
    "```python\n",
    "from transformers import AutoModelForCausalLM\n",
    "model = AutoModelForCausalLM.from_pretrained(\"gpt2\")\n",
    "```\n",
    "\n",
    "Then using `get_peft_model()` to get a trainable PEFT model (using the LoRA config instantiated previously):\n",
    "\n",
    "```python\n",
    "from peft import get_peft_model\n",
    "lora_model = get_peft_model(model, config)\n",
    "```\n",
    "\n",
    "## Training with a PEFT Model\n",
    "\n",
    "After calling `get_peft_model()`, you can then use the resulting `lora_model` in a training process of your choice (PyTorch training loop or Hugging Face `Trainer`).\n",
    "\n",
    "## Checking Trainable Parameters of a PEFT Model\n",
    "\n",
    "A helpful way to check the number of trainable parameters with the current config is the `print_trainable_parameters()` method:\n",
    "\n",
    "```python\n",
    "lora_model.print_trainable_parameters()\n",
    "```\n",
    "\n",
    "Which prints an output like this:\n",
    "\n",
    "`trainable params: 294,912 || all params: 124,734,720 || trainable%: 0.23643136409814364`\n",
    "\n",
    "## Saving a Trained PEFT Model\n",
    "\n",
    "Once a PEFT model has been trained, the standard Hugging Face `save_pretrained()` method can be used to save the weights locally. For example:\n",
    "\n",
    "```python\n",
    "lora_model.save_pretrained(\"gpt-lora\")\n",
    "```\n",
    "\n",
    "Note that this **only saves the adapter weights** and not the weights of the original Transformers model. Thus the size of the files created will be much smaller than you might expect."
   ]
  },
  {
   "cell_type": "markdown",
   "id": "8c42be92",
   "metadata": {},
   "source": [
    "# Inference with PEFT\n",
    "\n",
    "## Loading a Saved PEFT Model\n",
    "\n",
    "Because you have only saved the adapter weights and not the full model weights, you can't use `from_pretrained()` with the regular Transformers class (e.g., `AutoModelForCausalLM`). Instead, you need to use the PEFT version (e.g., `AutoPeftModelForCausalLM`). For example:\n",
    "\n",
    "```python\n",
    "from peft import AutoPeftModelForCausalLM\n",
    "lora_model = AutoPeftModelForCausalLM.from_pretrained(\"gpt-lora\")\n",
    "```\n",
    "\n",
    "After completing this step, you can proceed to use the model for inference.\n",
    "\n",
    "# Generating Text from a PEFT Model\n",
    "\n",
    "You may see examples from regular Transformer models where the input IDs are passed in as a positional argument (e.g., `model.generate(input_ids)`). For a PEFT model, they must be passed in as a keyword argument (e.g., `model.generate(input_ids=input_ids)`). For example:\n",
    "\n",
    "```python\n",
    "from transformers import AutoTokenizer\n",
    "\n",
    "tokenizer = AutoTokenizer.from_pretrained(\"gpt2\")\n",
    "inputs = tokenizer(\"Hello, my name is \", return_tensors=\"pt\")\n",
    "outputs = model.generate(input_ids=inputs[\"input_ids\"], max_new_tokens=10)\n",
    "print(tokenizer.batch_decode(outputs))\n",
    "```\n",
    "\n",
    "**Documentation Links**\n",
    "\n",
    "* [Hugging Face PEFT configuration](https://huggingface.co/docs/peft/package_reference/config)\n",
    "* [Hugging Face LoRA adapter](https://huggingface.co/docs/peft/package_reference/lora)\n",
    "* [Hugging Face Models save_pretrained](https://huggingface.co/docs/transformers/main/en/main_classes/model#transformers.PreTrainedModel.save_pretrained)\n",
    "* [Hugging Face Text Generation](https://huggingface.co/docs/transformers/main_classes/text_generation)"
   ]
  },
  {
   "cell_type": "markdown",
   "id": "d347a791",
   "metadata": {},
   "source": [
    "# Project Instructions\n",
    "\n",
    "To pass this project, your code must:\n",
    "\n",
    "1. Load a pre-trained model and evaluate its performance\n",
    "2. Perform parameter-efficient fine-tuning using the pre-trained model\n",
    "3. Perform inference using the fine-tuned model and compare its performance to the original model\n",
    "\n",
    "## Getting Started\n",
    "\n",
    "This project is failry open-ended. As long as you follow the prescribed steps **you may choose any appropriate PEFT technique, model, evaluation approach, and fine-tuning dataset.**\n",
    "\n",
    "* **PEFT Technique**:\n",
    "\n",
    "> * The PEFT technique covered in this course was LoRA, but new techniques are continuously being developed. See the [PEFT README](https://github.com/huggingface/peft) for links to the papers behind each of the supported techniques.\n",
    "> * If you are unsure, we recommend using **LoRA** as your PEFT technique. LoRA is the only PEFT technique that is compatible with all models at this time.\n",
    "\n",
    "* **Model**\n",
    "\n",
    "> * Your choice of model will depend on your choice of PEFT technique.\n",
    "> * Unless you plan to use your own hardware/GPU rather than the Udacity Workspace, it's best to choose a smaller model.\n",
    "> * The model must be compatible with a sequence classification task.\n",
    "> * If you are unsure, we recommend using GPT-2 as your model. This is a relatively small model that is compatible with sequence classification and LoRA.\n",
    "\n",
    "For specific model names in the Hugging Face registry, you can use the widget at the bottom of the [PEFT documentation homepage](https://huggingface.co/docs/peft/index) (select \"sequence classification\" from the drop-down).\n",
    "\n",
    "* **Evaluation Approach**\n",
    "\n",
    "> * The evaluation approach covered in this course was the `evaluate` method with a Hugging Face `Trainer`. You may use the same approach, or any other reasonable evaluation approach for a sequence classification task\n",
    "> * The key requirement for the evaluation is that you must be able to compare the original foundation model's performance and the fine-tuned model's performance.\n",
    "\n",
    "* **Dataset**\n",
    "\n",
    "> * Your PEFT process must use a dataset from Hugging Face's `datasets` library. As with the selection of model, you will need to ensure that the dataset is small enough that it is usable for your workspace\n",
    "> * The key requirement for the dataset is that it matches the task. Follow this link to [view Hugging Face datasets filtered by the text classification task](https://huggingface.co/datasets?task_categories=task_categories:text-classification)\n",
    "\n",
    "## Loading and Evaluating a Foundation Model\n",
    "\n",
    "### Loading the model\n",
    "\n",
    "Once you have selected a model, load it in your notebook.\n",
    "\n",
    "### Evaluating the model\n",
    "\n",
    "Perform an initial evaluation of the model on your chosen sequence classification task. This step will require that you also load an appropriate tokenizer and dataset.\n",
    "\n",
    "## Performing Parameter-Efficient Fine-Tuning\n",
    "\n",
    "### Creating a PEFT config\n",
    "\n",
    "Create a PEFT config with appropriate hyperparameters for your chosen model.\n",
    "\n",
    "### Creating a PEFT model\n",
    "\n",
    "Using the PEFT config and foundation model, create a PEFT model.\n",
    "\n",
    "### Training the model\n",
    "\n",
    "Using the PEFT model and dataset, run a training loop with at least one epoch.\n",
    "\n",
    "### Saving the trained model\n",
    "\n",
    "Depending on your training loop configuration, your PEFT model may have already been saved. If not, use `save_pretrained` to save your progress\n",
    "\n",
    "## Performing Inference with a PEFT Model\n",
    "\n",
    "## Loading the model\n",
    "\n",
    "Using the appropriate PEFT model class, load your trained model.\n",
    "\n",
    "## Evaluating the model\n",
    "\n",
    "Repeat the previous evaluation process, this time using the PEFT model. Compare the results to the results from the original foundation model."
   ]
  },
  {
   "cell_type": "markdown",
   "id": "fffa4fda",
   "metadata": {},
   "source": []
  },
  {
   "cell_type": "markdown",
   "id": "c5c51087",
   "metadata": {},
   "source": [
    "# Actual Project"
   ]
  },
  {
   "cell_type": "code",
   "execution_count": 1,
   "id": "a6338eff",
   "metadata": {},
   "outputs": [],
   "source": [
    "# from peft import LoraConfig, get_peft_model\n",
    "# from transformers import (\n",
    "#     AutoModelForCausalLM, DataCollatorWithPadding, Trainer, TrainingArguments, AutoTokenizer)\n",
    "# from datasets import load_dataset\n",
    "# import evaluate\n",
    "# import torch\n",
    "# import numpy as np"
   ]
  },
  {
   "cell_type": "code",
   "execution_count": 1,
   "id": "7f1230b3",
   "metadata": {},
   "outputs": [],
   "source": [
    "# With Claude Help\n",
    "import torch\n",
    "import numpy as np\n",
    "import pandas as pd\n",
    "from datasets import load_dataset\n",
    "from transformers import (\n",
    "    GPT2LMHeadModel, \n",
    "    GPT2Tokenizer, \n",
    "    GPT2ForSequenceClassification,\n",
    "    Trainer, \n",
    "    TrainingArguments,\n",
    "    DataCollatorWithPadding\n",
    ")\n",
    "from peft import LoraConfig, get_peft_model, TaskType\n",
    "from sklearn.metrics import accuracy_score, classification_report\n",
    "from torch.utils.data import DataLoader\n",
    "import matplotlib.pyplot as plt\n",
    "import seaborn as sns"
   ]
  },
  {
   "cell_type": "code",
   "execution_count": 2,
   "id": "4213e961",
   "metadata": {},
   "outputs": [
    {
     "name": "stdout",
     "output_type": "stream",
     "text": [
      "MPS device found!\n"
     ]
    }
   ],
   "source": [
    "# Set up compute device\n",
    "# Check if MPS is available\n",
    "if torch.backends.mps.is_available():\n",
    "    device = torch.device(\"mps\")\n",
    "    print(\"MPS device found!\")\n",
    "else:\n",
    "    print(\"MPS device not found, using CPU instead.\")\n",
    "    device = torch.device(\"cpu\")\n",
    "\n",
    "# Set default device to MPS (optional)\n",
    "# torch.set_default_device(device)"
   ]
  },
  {
   "cell_type": "code",
   "execution_count": 3,
   "id": "d9719ef2",
   "metadata": {},
   "outputs": [],
   "source": [
    "# https://huggingface.co/datasets/mteb/InsurancePolicyInterpretationLegalBenchClassification\n",
    "# https://huggingface.co/datasets/Yelp/yelp_review_full\n",
    "# Bring in the data set\n",
    "ds_ins = load_dataset(\"mteb/InsurancePolicyInterpretationLegalBenchClassification\")\n",
    "ds_yelp = load_dataset(\"Yelp/yelp_review_full\")"
   ]
  },
  {
   "cell_type": "code",
   "execution_count": 4,
   "id": "f0cce197",
   "metadata": {},
   "outputs": [
    {
     "data": {
      "text/plain": [
       "DatasetDict({\n",
       "    train: Dataset({\n",
       "        features: ['text', 'label'],\n",
       "        num_rows: 5\n",
       "    })\n",
       "    test: Dataset({\n",
       "        features: ['text', 'label'],\n",
       "        num_rows: 133\n",
       "    })\n",
       "})"
      ]
     },
     "execution_count": 4,
     "metadata": {},
     "output_type": "execute_result"
    }
   ],
   "source": [
    "ds_ins"
   ]
  },
  {
   "cell_type": "code",
   "execution_count": 5,
   "id": "b2df7280",
   "metadata": {},
   "outputs": [
    {
     "data": {
      "text/plain": [
       "DatasetDict({\n",
       "    train: Dataset({\n",
       "        features: ['label', 'text'],\n",
       "        num_rows: 650000\n",
       "    })\n",
       "    test: Dataset({\n",
       "        features: ['label', 'text'],\n",
       "        num_rows: 50000\n",
       "    })\n",
       "})"
      ]
     },
     "execution_count": 5,
     "metadata": {},
     "output_type": "execute_result"
    }
   ],
   "source": [
    "ds_yelp"
   ]
  },
  {
   "cell_type": "code",
   "execution_count": 6,
   "id": "247953e1",
   "metadata": {},
   "outputs": [
    {
     "name": "stdout",
     "output_type": "stream",
     "text": [
      "Using subset - Train: 10000, Test: 2000\n"
     ]
    }
   ],
   "source": [
    "# Reduce size of ds_yelp\n",
    "SUBSET_SIZE = 10000  # Set to None to use full dataset\n",
    "if SUBSET_SIZE:\n",
    "    ds_yelp[\"train\"] = ds_yelp[\"train\"].select(range(min(SUBSET_SIZE, len(ds_yelp[\"train\"]))))\n",
    "    ds_yelp[\"test\"] = ds_yelp[\"test\"].select(range(min(SUBSET_SIZE//5, len(ds_yelp[\"test\"]))))\n",
    "    print(f\"Using subset - Train: {len(ds_yelp['train'])}, Test: {len(ds_yelp['test'])}\")"
   ]
  },
  {
   "cell_type": "code",
   "execution_count": 13,
   "id": "4a577e5d",
   "metadata": {},
   "outputs": [
    {
     "name": "stdout",
     "output_type": "stream",
     "text": [
      "Dataset Structure:\n",
      "Columns: ['label', 'text']\n",
      "Data types:\n",
      "label     int64\n",
      "text     object\n",
      "dtype: object\n",
      "\n",
      "Label Distribution (Train):\n",
      "  1 stars: 1788 reviews (17.9%)\n",
      "  2 stars: 2168 reviews (21.7%)\n",
      "  3 stars: 2361 reviews (23.6%)\n",
      "  4 stars: 2082 reviews (20.8%)\n",
      "  5 stars: 1601 reviews (16.0%)\n"
     ]
    },
    {
     "data": {
      "image/png": "[encoded data removed]",
      "text/plain": [
       "<Figure size 800x600 with 1 Axes>"
      ]
     },
     "metadata": {},
     "output_type": "display_data"
    },
    {
     "name": "stdout",
     "output_type": "stream",
     "text": [
      "\n",
      "Sample Reviews:\n",
      "\n",
      "Review 1 (5 stars):\n",
      "Text: dr. goldberg offers everything i look for in a general practitioner.  he's nice and easy to talk to without being patronizing; he's always on time in seeing his patients; he's affiliated with a top-no...\n",
      "\n",
      "Review 2 (2 stars):\n",
      "Text: Unfortunately, the frustration of being Dr. Goldberg's patient is a repeat of the experience I've had with so many other doctors in NYC -- good doctor, terrible staff.  It seems that his staff simply ...\n",
      "\n",
      "Review 3 (4 stars):\n",
      "Text: Been going to Dr. Goldberg for over 10 years. I think I was one of his 1st patients when he started at MHMG. He's been great over the years and is really all about the big picture. It is because of hi...\n",
      "\n",
      "Text Statistics:\n",
      "Average words per review: 130.2\n",
      "Median words per review: 99.0\n",
      "Max words: 937\n",
      "Min words: 1\n"
     ]
    }
   ],
   "source": [
    "# Describe the data\n",
    "train_df = ds_yelp[\"train\"].to_pandas()\n",
    "test_df = ds_yelp[\"test\"].to_pandas()\n",
    "\n",
    "print(\"Dataset Structure:\")\n",
    "print(f\"Columns: {train_df.columns.tolist()}\")\n",
    "print(f\"Data types:\\n{train_df.dtypes}\")\n",
    "\n",
    "print(\"\\nLabel Distribution (Train):\")\n",
    "label_counts = train_df['label'].value_counts().sort_index()\n",
    "for label, count in label_counts.items():\n",
    "    print(f\"  {label + 1} stars: {count} reviews ({count/len(train_df)*100:.1f}%)\")\n",
    "\n",
    "plt.figure(figsize=(8, 6))\n",
    "train_df[\"label\"].hist(bins=5, edgecolor='black')\n",
    "plt.title(\"Label Distribution Plot\")\n",
    "plt.xlabel(\"Label\")\n",
    "plt.ylabel(\"Frequency\")\n",
    "plt.show()\n",
    "\n",
    "print(\"\\nSample Reviews:\")\n",
    "for i in range(3):\n",
    "    print(f\"\\nReview {i+1} ({train_df.iloc[i]['label'] + 1} stars):\")\n",
    "    print(f\"Text: {train_df.iloc[i]['text'][:200]}...\")\n",
    "\n",
    "print(f\"\\nText Statistics:\")\n",
    "text_lengths = [len(text.split()) for text in train_df['text']]\n",
    "print(f\"Average words per review: {np.mean(text_lengths):.1f}\")\n",
    "print(f\"Median words per review: {np.median(text_lengths):.1f}\")\n",
    "print(f\"Max words: {np.max(text_lengths)}\")\n",
    "print(f\"Min words: {np.min(text_lengths)}\")"
   ]
  },
  {
   "cell_type": "code",
   "execution_count": null,
   "id": "336132ee",
   "metadata": {},
   "outputs": [],
   "source": []
  },
  {
   "cell_type": "markdown",
   "id": "64569968",
   "metadata": {},
   "source": [
    "## Loading and Evaluating a Foundation Model\n",
    "\n",
    "### Loading the model\n",
    "\n",
    "Once you have selected a model, load it in your notebook.\n"
   ]
  },
  {
   "cell_type": "code",
   "execution_count": 15,
   "id": "9518f90d",
   "metadata": {},
   "outputs": [],
   "source": [
    "model_name = \"gpt2\"\n",
    "# tokenizer = AutoTokenizer.from_pretrained(model_name)\n",
    "# model = AutoModelForCausalLM.from_pretrained(\"gpt2\")\n",
    "# Load tokenizer\n",
    "\n",
    "tokenizer = GPT2Tokenizer.from_pretrained(model_name)"
   ]
  },
  {
   "cell_type": "code",
   "execution_count": 16,
   "id": "f11027b9",
   "metadata": {},
   "outputs": [
    {
     "name": "stdout",
     "output_type": "stream",
     "text": [
      "Tokenizer loaded: gpt2\n",
      "Vocab size: 50,257\n",
      "Pad token: <|endoftext|>\n"
     ]
    }
   ],
   "source": [
    "# Add padding token (GPT-2 doesn't have one by default)\n",
    "if tokenizer.pad_token is None:\n",
    "    tokenizer.pad_token = tokenizer.eos_token\n",
    "    \n",
    "print(f\"Tokenizer loaded: {model_name}\")\n",
    "print(f\"Vocab size: {tokenizer.vocab_size:,}\")\n",
    "print(f\"Pad token: {tokenizer.pad_token}\")"
   ]
  },
  {
   "cell_type": "code",
   "execution_count": 17,
   "id": "b2d17bec",
   "metadata": {},
   "outputs": [
    {
     "name": "stderr",
     "output_type": "stream",
     "text": [
      "Some weights of GPT2ForSequenceClassification were not initialized from the model checkpoint at gpt2 and are newly initialized: ['score.weight']\n",
      "You should probably TRAIN this model on a down-stream task to be able to use it for predictions and inference.\n"
     ]
    },
    {
     "data": {
      "text/plain": [
       "Embedding(50257, 768)"
      ]
     },
     "execution_count": 17,
     "metadata": {},
     "output_type": "execute_result"
    }
   ],
   "source": [
    "# Load model for sequence classification (5 classes for 1-5 star ratings, pad-token\n",
    "num_label = len(train_df[\"label\"].unique())\n",
    "model = GPT2ForSequenceClassification.from_pretrained(\n",
    "    model_name, \n",
    "    num_labels=num_label,\n",
    "    pad_token_id=tokenizer.pad_token\n",
    ")\n",
    "# Fix the pad_token_id configuration issue\n",
    "model.config.pad_token_id = tokenizer.eos_token_id\n",
    "\n",
    "# Resize token embeddings to match tokenizer (in case pad token was added)\n",
    "model.resize_token_embeddings(len(tokenizer))"
   ]
  },
  {
   "cell_type": "code",
   "execution_count": 18,
   "id": "ae2fd68d",
   "metadata": {},
   "outputs": [
    {
     "name": "stdout",
     "output_type": "stream",
     "text": [
      "Model loaded and moved to mps\n",
      "Model parameters: 124,443,648\n",
      "Pad token ID: 50256\n",
      "EOS token ID: 50256\n"
     ]
    }
   ],
   "source": [
    "model.to(device)\n",
    "print(f\"Model loaded and moved to {device}\")\n",
    "print(f\"Model parameters: {sum(p.numel() for p in model.parameters()):,}\")\n",
    "print(f\"Pad token ID: {model.config.pad_token_id}\")\n",
    "print(f\"EOS token ID: {tokenizer.eos_token_id}\")"
   ]
  },
  {
   "cell_type": "code",
   "execution_count": 19,
   "id": "2b266be4",
   "metadata": {},
   "outputs": [],
   "source": [
    "# Make the data usable for gpt2\n",
    "max_length = 512  # Maximum sequence length\n",
    "\n",
    "def preprocess_function(examples):\n",
    "    \"\"\"Tokenize the text and prepare labels\"\"\"\n",
    "    # Tokenize the text - don't use return_tensors for batch processing\n",
    "    result = tokenizer(\n",
    "        examples[\"text\"],\n",
    "        truncation=True,\n",
    "        padding=\"max_length\",\n",
    "        max_length=max_length\n",
    "    )\n",
    "    \n",
    "    # Labels are already 0-4, which matches our model's expected format\n",
    "    result[\"labels\"] = examples[\"label\"]\n",
    "    return result"
   ]
  },
  {
   "cell_type": "code",
   "execution_count": 20,
   "id": "2b07c6df",
   "metadata": {},
   "outputs": [],
   "source": [
    "tokenized_datasets = ds_yelp.map(\n",
    "    preprocess_function,\n",
    "    batched=True,\n",
    "    remove_columns=ds_yelp[\"train\"].column_names\n",
    ")"
   ]
  },
  {
   "cell_type": "code",
   "execution_count": 21,
   "id": "b261763c",
   "metadata": {},
   "outputs": [
    {
     "name": "stdout",
     "output_type": "stream",
     "text": [
      "Tokenized train samples: 10,000\n",
      "Tokenized test samples: 2,000\n"
     ]
    }
   ],
   "source": [
    "print(f\"Tokenized train samples: {len(tokenized_datasets['train']):,}\")\n",
    "print(f\"Tokenized test samples: {len(tokenized_datasets['test']):,}\")"
   ]
  },
  {
   "cell_type": "code",
   "execution_count": 22,
   "id": "84b6987f",
   "metadata": {},
   "outputs": [],
   "source": [
    "# Split test set for evaluation during training and final testing\n",
    "test_size = len(tokenized_datasets[\"test\"])\n",
    "ho_size = min(500, test_size // 2)\n",
    "\n",
    "ho_dataset = tokenized_datasets[\"test\"].select(range(ho_size))\n",
    "final_test_dataset = tokenized_datasets[\"test\"].select(range(ho_size, test_size))"
   ]
  },
  {
   "cell_type": "code",
   "execution_count": 23,
   "id": "b1ff5fff",
   "metadata": {},
   "outputs": [
    {
     "name": "stdout",
     "output_type": "stream",
     "text": [
      "Evaluation dataset: 500 samples\n",
      "Final test dataset: 1500 samples\n"
     ]
    }
   ],
   "source": [
    "print(f\"Evaluation dataset: {len(ho_dataset)} samples\")\n",
    "print(f\"Final test dataset: {len(final_test_dataset)} samples\")"
   ]
  },
  {
   "cell_type": "markdown",
   "id": "eba1de32",
   "metadata": {},
   "source": [
    "### Evaluating the model\n",
    "\n",
    "Perform an initial evaluation of the model on your chosen sequence classification task. This step will require that you also load an appropriate tokenizer and dataset."
   ]
  },
  {
   "cell_type": "code",
   "execution_count": 24,
   "id": "823e96b4",
   "metadata": {},
   "outputs": [],
   "source": [
    "def evaluate_model(model, test_dataset, batch_size=16):\n",
    "    \"\"\"Evaluate model performance\"\"\"\n",
    "    model.eval()\n",
    "    all_predictions = []\n",
    "    all_labels = []\n",
    "    \n",
    "    dataloader = DataLoader(test_dataset, batch_size=batch_size, shuffle=False)\n",
    "\n",
    "def evaluate_model_with_trainer(model, test_dataset, model_name=\"model\"):\n",
    "    \"\"\"Evaluate model performance using HuggingFace Trainer\"\"\"\n",
    "    print(f\"Evaluating {model_name} using HuggingFace Trainer...\")\n",
    "    \n",
    "    # Define compute metrics function\n",
    "    def compute_metrics_eval(eval_pred):\n",
    "        predictions, labels = eval_pred\n",
    "        predictions = np.argmax(predictions, axis=1)\n",
    "        accuracy = accuracy_score(labels, predictions)\n",
    "        return {\"accuracy\": accuracy}\n",
    "    \n",
    "    # Create temporary evaluation arguments\n",
    "    eval_args = TrainingArguments(\n",
    "        output_dir=f\"./temp_eval_{model_name}\",\n",
    "        per_device_eval_batch_size=16,\n",
    "        dataloader_drop_last=False,\n",
    "        report_to=None,\n",
    "    )\n",
    "    \n",
    "    # Create trainer for evaluation\n",
    "    trainer = Trainer(\n",
    "        model=model,\n",
    "        args=eval_args,\n",
    "        eval_dataset=test_dataset,\n",
    "        tokenizer=tokenizer,\n",
    "        data_collator=DataCollatorWithPadding(tokenizer=tokenizer),\n",
    "        compute_metrics=compute_metrics_eval,\n",
    "    )\n",
    "    \n",
    "    # Run evaluation\n",
    "    eval_results = trainer.evaluate()\n",
    "    \n",
    "    # Get predictions for detailed analysis\n",
    "    predictions = trainer.predict(test_dataset)\n",
    "    pred_labels = np.argmax(predictions.predictions, axis=1)\n",
    "    true_labels = predictions.label_ids\n",
    "    \n",
    "    # Print results\n",
    "    print(f\"{model_name} Accuracy: {eval_results['eval_accuracy']:.4f}\")\n",
    "    print(f\"\\n{model_name} Classification Report:\")\n",
    "    print(classification_report(true_labels, pred_labels, \n",
    "                              target_names=[f\"{i+1} stars\" for i in range(5)]))\n",
    "    \n",
    "    return eval_results['eval_accuracy'], pred_labels, true_labels\n",
    "    \n",
    "    # with torch.no_grad():\n",
    "    #     for batch in dataloader:\n",
    "    #         # Move batch to device\n",
    "    #         input_ids = batch[\"input_ids\"]\n",
    "    #         attention_mask = batch[\"attention_mask\"]\n",
    "    #         labels = batch[\"labels\"]\n",
    "            \n",
    "    #         # Forward pass\n",
    "    #         outputs = model(input_ids=input_ids, attention_mask=attention_mask)\n",
    "    #         predictions = torch.argmax(outputs.logits, dim=-1)\n",
    "            \n",
    "    #         all_predictions.extend(predictions.cpu().numpy())\n",
    "    #         all_labels.extend(labels.numpy())\n",
    "    \n",
    "    # return all_predictions, all_labels\n",
    "\n",
    "    # with torch.no_grad():\n",
    "    #     for i, batch in enumerate(dataloader):\n",
    "    #         try:\n",
    "    #             # Debug: Print batch info for first iteration\n",
    "    #             if i == 0:\n",
    "    #                 print(f\"Batch keys: {batch.keys()}\")\n",
    "    #                 print(f\"input_ids type: {type(batch['input_ids'])}\")\n",
    "    #                 print(f\"input_ids shape: {batch['input_ids'].shape if hasattr(batch['input_ids'], 'shape') else 'No shape attribute'}\")\n",
    "    #                 print(f\"labels type: {type(batch['labels'])}\")\n",
    "                \n",
    "    #             # Convert to tensors if they're not already\n",
    "    #             if isinstance(batch[\"input_ids\"], list):\n",
    "    #                 input_ids = torch.tensor(batch[\"input_ids\"]).to(device)\n",
    "    #             else:\n",
    "    #                 input_ids = batch[\"input_ids\"].to(device)\n",
    "                \n",
    "    #             if isinstance(batch[\"attention_mask\"], list):\n",
    "    #                 attention_mask = torch.tensor(batch[\"attention_mask\"]).to(device)\n",
    "    #             else:\n",
    "    #                 attention_mask = batch[\"attention_mask\"].to(device)\n",
    "                \n",
    "    #             if isinstance(batch[\"labels\"], list):\n",
    "    #                 labels = torch.tensor(batch[\"labels\"])\n",
    "    #             else:\n",
    "    #                 labels = batch[\"labels\"]\n",
    "                \n",
    "    #             # Debug: Print tensor shapes for first iteration\n",
    "    #             if i == 0:\n",
    "    #                 print(f\"Processed input_ids shape: {input_ids.shape}\")\n",
    "    #                 print(f\"Processed attention_mask shape: {attention_mask.shape}\")\n",
    "    #                 print(f\"Processed labels shape: {labels.shape}\")\n",
    "                \n",
    "    #             # Forward pass\n",
    "    #             outputs = model(input_ids=input_ids, attention_mask=attention_mask)\n",
    "    #             predictions = torch.argmax(outputs.logits, dim=-1)\n",
    "                \n",
    "    #             # Convert to numpy for storage\n",
    "    #             if isinstance(predictions, torch.Tensor):\n",
    "    #                 all_predictions.extend(predictions.cpu().numpy())\n",
    "    #             else:\n",
    "    #                 all_predictions.extend(predictions)\n",
    "                \n",
    "    #             if isinstance(labels, torch.Tensor):\n",
    "    #                 all_labels.extend(labels.cpu().numpy())\n",
    "    #             else:\n",
    "    #                 all_labels.extend(labels)\n",
    "                \n",
    "    #             # Progress indicator\n",
    "    #             if i % 10 == 0 and i > 0:\n",
    "    #                 print(f\"Processed {i * batch_size} samples...\")\n",
    "                    \n",
    "    #         except Exception as e:\n",
    "    #             print(f\"Error in batch {i}: {str(e)}\")\n",
    "    #             print(f\"Batch content: {batch}\")\n",
    "    #             raise e\n",
    "    \n",
    "    # print(f\"Evaluation completed. Total predictions: {len(all_predictions)}\")\n",
    "    # return all_predictions, all_labels"
   ]
  },
  {
   "cell_type": "code",
   "execution_count": 25,
   "id": "de2983a4",
   "metadata": {},
   "outputs": [
    {
     "name": "stdout",
     "output_type": "stream",
     "text": [
      "Evaluating Base GPT-2 using HuggingFace Trainer...\n"
     ]
    },
    {
     "name": "stderr",
     "output_type": "stream",
     "text": [
      "/var/folders/8z/8jf5n46j4mgcn25c47w2wxrr0000gn/T/ipykernel_12620/1597688852.py:29: FutureWarning: `tokenizer` is deprecated and will be removed in version 5.0.0 for `Trainer.__init__`. Use `processing_class` instead.\n",
      "  trainer = Trainer(\n"
     ]
    },
    {
     "data": {
      "text/html": [],
      "text/plain": [
       "<IPython.core.display.HTML object>"
      ]
     },
     "metadata": {},
     "output_type": "display_data"
    },
    {
     "name": "stdout",
     "output_type": "stream",
     "text": [
      "Base GPT-2 Accuracy: 0.1967\n",
      "\n",
      "Base GPT-2 Classification Report:\n",
      "              precision    recall  f1-score   support\n",
      "\n",
      "     1 stars       0.00      0.00      0.00       289\n",
      "     2 stars       0.19      0.93      0.32       288\n",
      "     3 stars       0.25      0.00      0.01       311\n",
      "     4 stars       0.27      0.08      0.12       332\n",
      "     5 stars       0.00      0.00      0.00       280\n",
      "\n",
      "    accuracy                           0.20      1500\n",
      "   macro avg       0.14      0.20      0.09      1500\n",
      "weighted avg       0.15      0.20      0.09      1500\n",
      "\n"
     ]
    },
    {
     "name": "stderr",
     "output_type": "stream",
     "text": [
      "/Users/christopherdaigle/miniconda3/envs/venv_ud_gen/lib/python3.10/site-packages/sklearn/metrics/_classification.py:1565: UndefinedMetricWarning: Precision is ill-defined and being set to 0.0 in labels with no predicted samples. Use `zero_division` parameter to control this behavior.\n",
      "  _warn_prf(average, modifier, f\"{metric.capitalize()} is\", len(result))\n",
      "/Users/christopherdaigle/miniconda3/envs/venv_ud_gen/lib/python3.10/site-packages/sklearn/metrics/_classification.py:1565: UndefinedMetricWarning: Precision is ill-defined and being set to 0.0 in labels with no predicted samples. Use `zero_division` parameter to control this behavior.\n",
      "  _warn_prf(average, modifier, f\"{metric.capitalize()} is\", len(result))\n",
      "/Users/christopherdaigle/miniconda3/envs/venv_ud_gen/lib/python3.10/site-packages/sklearn/metrics/_classification.py:1565: UndefinedMetricWarning: Precision is ill-defined and being set to 0.0 in labels with no predicted samples. Use `zero_division` parameter to control this behavior.\n",
      "  _warn_prf(average, modifier, f\"{metric.capitalize()} is\", len(result))\n"
     ]
    }
   ],
   "source": [
    "# Evaluate base model\n",
    "base_accuracy, base_predictions, base_labels = evaluate_model_with_trainer(\n",
    "    model, final_test_dataset, \"Base GPT-2\")\n",
    "\n",
    "# base_predictions, base_labels = evaluate_model(model, final_test_dataset)\n",
    "\n",
    "# # Calculate metrics\n",
    "# base_accuracy = accuracy_score(base_labels, base_predictions)\n",
    "\n",
    "# print(f\"Base GPT-2 Accuracy: {base_accuracy:.4f}\")\n",
    "# print(\"\\nBase Model Classification Report:\")\n",
    "# print(classification_report(base_labels, base_predictions, \n",
    "#                           target_names=[f\"{i+1} stars\" for i in range(5)]))"
   ]
  },
  {
   "cell_type": "code",
   "execution_count": 26,
   "id": "551388f4",
   "metadata": {},
   "outputs": [],
   "source": [
    "# def compute_metrics(eval_pred):\n",
    "#     predictions, labels = eval_pred\n",
    "#     predictions = np.argmax(predictions, axis=1)\n",
    "#     return {\"accuracy\": (predictions == labels).mean()}\n",
    "\n",
    "# metric = evaluate.load(\"accuracy\")\n",
    "\n",
    "# def compute_metrics_beta(eval_pred):\n",
    "#     logits, labels = eval_pred\n",
    "#     predictions = np.argmax(logits, axis=-1)\n",
    "#     return metric.compute(predictions=predictions, references=labels)\n",
    "\n",
    "# trainer = Trainer(\n",
    "#     model=model,\n",
    "\n",
    "# )"
   ]
  },
  {
   "cell_type": "markdown",
   "id": "7b1fe354",
   "metadata": {},
   "source": [
    "## Performing Parameter-Efficient Fine-Tuning\n",
    "\n",
    "### Creating a PEFT config\n",
    "\n",
    "Create a PEFT config with appropriate hyperparameters for your chosen model."
   ]
  },
  {
   "cell_type": "code",
   "execution_count": 27,
   "id": "817f2ea8",
   "metadata": {},
   "outputs": [],
   "source": [
    "lora_config = LoraConfig(\n",
    "    task_type=TaskType.SEQ_CLS,  # Sequence Classification\n",
    "    inference_mode=False,\n",
    "    r=8,  # Rank of adaptation\n",
    "    lora_alpha=32,  # LoRA scaling parameter\n",
    "    lora_dropout=0.1,  # LoRA dropout\n",
    "    target_modules=[\"c_attn\", \"c_proj\"],  # Target modules for GPT-2\n",
    ")\n",
    "\n",
    "# config = LoraConfig()\n",
    "# lora_model = get_peft_model(model, config)\n",
    "# lora_model.print_trainable_parameters()"
   ]
  },
  {
   "cell_type": "markdown",
   "id": "bc4bd4cc",
   "metadata": {},
   "source": [
    "### Creating a PEFT model\n",
    "\n",
    "Using the PEFT config and foundation model, create a PEFT model."
   ]
  },
  {
   "cell_type": "code",
   "execution_count": 28,
   "id": "3585f90b",
   "metadata": {},
   "outputs": [
    {
     "name": "stdout",
     "output_type": "stream",
     "text": [
      "'NoneType' object has no attribute 'cadam32bit_grad_fp32'\n",
      "trainable params: 814,848 || all params: 125,258,496 || trainable%: 0.6505\n"
     ]
    },
    {
     "name": "stderr",
     "output_type": "stream",
     "text": [
      "/Users/christopherdaigle/miniconda3/envs/venv_ud_gen/lib/python3.10/site-packages/bitsandbytes/cextension.py:34: UserWarning: The installed version of bitsandbytes was compiled without GPU support. 8-bit optimizers, 8-bit multiplication, and GPU quantization are unavailable.\n",
      "  warn(\"The installed version of bitsandbytes was compiled without GPU support. \"\n",
      "/Users/christopherdaigle/miniconda3/envs/venv_ud_gen/lib/python3.10/site-packages/peft/tuners/lora/layer.py:1768: UserWarning: fan_in_fan_out is set to False but the target module is `Conv1D`. Setting fan_in_fan_out to True.\n",
      "  warnings.warn(\n"
     ]
    }
   ],
   "source": [
    "lora_model = get_peft_model(model, lora_config)\n",
    "lora_model.print_trainable_parameters()"
   ]
  },
  {
   "cell_type": "code",
   "execution_count": 29,
   "id": "9a4eff98",
   "metadata": {},
   "outputs": [
    {
     "data": {
      "text/plain": [
       "PeftModelForSequenceClassification(\n",
       "  (base_model): LoraModel(\n",
       "    (model): GPT2ForSequenceClassification(\n",
       "      (transformer): GPT2Model(\n",
       "        (wte): Embedding(50257, 768)\n",
       "        (wpe): Embedding(1024, 768)\n",
       "        (drop): Dropout(p=0.1, inplace=False)\n",
       "        (h): ModuleList(\n",
       "          (0-11): 12 x GPT2Block(\n",
       "            (ln_1): LayerNorm((768,), eps=1e-05, elementwise_affine=True)\n",
       "            (attn): GPT2Attention(\n",
       "              (c_attn): lora.Linear(\n",
       "                (base_layer): Conv1D(nf=2304, nx=768)\n",
       "                (lora_dropout): ModuleDict(\n",
       "                  (default): Dropout(p=0.1, inplace=False)\n",
       "                )\n",
       "                (lora_A): ModuleDict(\n",
       "                  (default): Linear(in_features=768, out_features=8, bias=False)\n",
       "                )\n",
       "                (lora_B): ModuleDict(\n",
       "                  (default): Linear(in_features=8, out_features=2304, bias=False)\n",
       "                )\n",
       "                (lora_embedding_A): ParameterDict()\n",
       "                (lora_embedding_B): ParameterDict()\n",
       "                (lora_magnitude_vector): ModuleDict()\n",
       "              )\n",
       "              (c_proj): lora.Linear(\n",
       "                (base_layer): Conv1D(nf=768, nx=768)\n",
       "                (lora_dropout): ModuleDict(\n",
       "                  (default): Dropout(p=0.1, inplace=False)\n",
       "                )\n",
       "                (lora_A): ModuleDict(\n",
       "                  (default): Linear(in_features=768, out_features=8, bias=False)\n",
       "                )\n",
       "                (lora_B): ModuleDict(\n",
       "                  (default): Linear(in_features=8, out_features=768, bias=False)\n",
       "                )\n",
       "                (lora_embedding_A): ParameterDict()\n",
       "                (lora_embedding_B): ParameterDict()\n",
       "                (lora_magnitude_vector): ModuleDict()\n",
       "              )\n",
       "              (attn_dropout): Dropout(p=0.1, inplace=False)\n",
       "              (resid_dropout): Dropout(p=0.1, inplace=False)\n",
       "            )\n",
       "            (ln_2): LayerNorm((768,), eps=1e-05, elementwise_affine=True)\n",
       "            (mlp): GPT2MLP(\n",
       "              (c_fc): Conv1D(nf=3072, nx=768)\n",
       "              (c_proj): lora.Linear(\n",
       "                (base_layer): Conv1D(nf=768, nx=3072)\n",
       "                (lora_dropout): ModuleDict(\n",
       "                  (default): Dropout(p=0.1, inplace=False)\n",
       "                )\n",
       "                (lora_A): ModuleDict(\n",
       "                  (default): Linear(in_features=3072, out_features=8, bias=False)\n",
       "                )\n",
       "                (lora_B): ModuleDict(\n",
       "                  (default): Linear(in_features=8, out_features=768, bias=False)\n",
       "                )\n",
       "                (lora_embedding_A): ParameterDict()\n",
       "                (lora_embedding_B): ParameterDict()\n",
       "                (lora_magnitude_vector): ModuleDict()\n",
       "              )\n",
       "              (act): NewGELUActivation()\n",
       "              (dropout): Dropout(p=0.1, inplace=False)\n",
       "            )\n",
       "          )\n",
       "        )\n",
       "        (ln_f): LayerNorm((768,), eps=1e-05, elementwise_affine=True)\n",
       "      )\n",
       "      (score): ModulesToSaveWrapper(\n",
       "        (original_module): Linear(in_features=768, out_features=5, bias=False)\n",
       "        (modules_to_save): ModuleDict(\n",
       "          (default): Linear(in_features=768, out_features=5, bias=False)\n",
       "        )\n",
       "      )\n",
       "    )\n",
       "  )\n",
       ")"
      ]
     },
     "execution_count": 29,
     "metadata": {},
     "output_type": "execute_result"
    }
   ],
   "source": [
    "lora_model.to(device)"
   ]
  },
  {
   "cell_type": "markdown",
   "id": "04ceb07d",
   "metadata": {},
   "source": [
    "### Training the model\n",
    "\n",
    "Using the PEFT model and dataset, run a training loop with at least one epoch."
   ]
  },
  {
   "cell_type": "code",
   "execution_count": 34,
   "id": "c1442b3c",
   "metadata": {},
   "outputs": [],
   "source": [
    "labels = [str(i) for i in train_df[\"label\"].unique()]\n",
    "training_args = TrainingArguments(\n",
    "    output_dir=\"./lora_gpt2_yelp\",\n",
    "    num_train_epochs=3,\n",
    "    per_device_train_batch_size=8,\n",
    "    per_device_eval_batch_size=16,\n",
    "    warmup_steps=500,\n",
    "    weight_decay=0.01,\n",
    "    logging_dir=\"./lora_gpt2_yelp/logs\",\n",
    "    logging_steps=100,\n",
    "    eval_strategy=\"steps\",\n",
    "    eval_steps=500,\n",
    "    save_steps=1000,\n",
    "    load_best_model_at_end=True,\n",
    "    metric_for_best_model=\"eval_loss\",\n",
    "    greater_is_better=False,\n",
    "    # use_mps_device=True,\n",
    "    label_names=labels,\n",
    "    report_to=None,  # Disable wandb logging\n",
    ")\n",
    "\n",
    "data_collator = DataCollatorWithPadding(tokenizer=tokenizer)\n",
    "\n",
    "# Define compute metrics function\n",
    "def compute_metrics(eval_pred):\n",
    "    predictions, labels = eval_pred\n",
    "    predictions = np.argmax(predictions, axis=1)\n",
    "    return {\"accuracy\": accuracy_score(labels, predictions)}\n",
    "\n",
    "# Initialize trainer\n",
    "trainer = Trainer(\n",
    "    model=lora_model,\n",
    "    args=training_args,\n",
    "    train_dataset=tokenized_datasets[\"train\"],\n",
    "    eval_dataset=ho_dataset,\n",
    "    processing_class=tokenizer,\n",
    "    # tokenizer=tokenizer,\n",
    "    data_collator=data_collator,\n",
    "    compute_metrics=compute_metrics)\n",
    "\n",
    "# trainer = Trainer(\n",
    "#     model=model,\n",
    "#     args=TrainingArguments(\n",
    "#         output_dir=\"./data/sentiment_analysis\",\n",
    "#         learning_rate=2e-3,\n",
    "#         # Reduce the batch size if you don't have enough memory\n",
    "#         per_device_train_batch_size=4,\n",
    "#         per_device_eval_batch_size=4,\n",
    "#         num_train_epochs=1,\n",
    "#         weight_decay=0.01,\n",
    "#         evaluation_strategy=\"epoch\",\n",
    "#         save_strategy=\"epoch\",\n",
    "#         load_best_model_at_end=True,\n",
    "#     ),\n",
    "#     train_dataset=tokenized_ds[\"train\"],\n",
    "#     eval_dataset=tokenized_ds[\"test\"],\n",
    "#     tokenizer=tokenizer,\n",
    "#     # data_collator=DataCollatorWithPadding(<MASK>),\n",
    "#     data_collator=DataCollatorWithPadding(tokenizer = tokenizer),\n",
    "#     compute_metrics=compute_metrics,\n",
    "# )"
   ]
  },
  {
   "cell_type": "markdown",
   "id": "7201d76e",
   "metadata": {},
   "source": [
    "### Saving the trained model\n",
    "\n",
    "Depending on your training loop configuration, your PEFT model may have already been saved. If not, use `save_pretrained` to save your progress"
   ]
  },
  {
   "cell_type": "code",
   "execution_count": 35,
   "id": "7f4ddc5d",
   "metadata": {},
   "outputs": [
    {
     "data": {
      "text/html": [
       "\n",
       "    <div>\n",
       "      \n",
       "      <progress value='501' max='3750' style='width:300px; height:20px; vertical-align: middle;'></progress>\n",
       "      [ 501/3750 04:48 < 31:19, 1.73 it/s, Epoch 0.40/3]\n",
       "    </div>\n",
       "    <table border=\"1\" class=\"dataframe\">\n",
       "  <thead>\n",
       " <tr style=\"text-align: left;\">\n",
       "      <th>Step</th>\n",
       "      <th>Training Loss</th>\n",
       "      <th>Validation Loss</th>\n",
       "    </tr>\n",
       "  </thead>\n",
       "  <tbody>\n",
       "    <tr>\n",
       "      <td>500</td>\n",
       "      <td>0.952600</td>\n",
       "      <td>No log</td>\n",
       "    </tr>\n",
       "  </tbody>\n",
       "</table><p>"
      ],
      "text/plain": [
       "<IPython.core.display.HTML object>"
      ]
     },
     "metadata": {},
     "output_type": "display_data"
    },
    {
     "ename": "KeyError",
     "evalue": "\"The `metric_for_best_model` training argument is set to 'eval_loss', which is not found in the evaluation metrics. The available evaluation metrics are: []. Consider changing the `metric_for_best_model` via the TrainingArguments.\"",
     "output_type": "error",
     "traceback": [
      "\u001b[0;31m---------------------------------------------------------------------------\u001b[0m",
      "\u001b[0;31mKeyError\u001b[0m                                  Traceback (most recent call last)",
      "File \u001b[0;32m~/miniconda3/envs/venv_ud_gen/lib/python3.10/site-packages/transformers/trainer.py:3153\u001b[0m, in \u001b[0;36mTrainer._determine_best_metric\u001b[0;34m(self, metrics, trial)\u001b[0m\n\u001b[1;32m   3152\u001b[0m \u001b[38;5;28;01mtry\u001b[39;00m:\n\u001b[0;32m-> 3153\u001b[0m     metric_value \u001b[38;5;241m=\u001b[39m \u001b[43mmetrics\u001b[49m\u001b[43m[\u001b[49m\u001b[43mmetric_to_check\u001b[49m\u001b[43m]\u001b[49m\n\u001b[1;32m   3154\u001b[0m \u001b[38;5;28;01mexcept\u001b[39;00m \u001b[38;5;167;01mKeyError\u001b[39;00m \u001b[38;5;28;01mas\u001b[39;00m exc:\n",
      "\u001b[0;31mKeyError\u001b[0m: 'eval_loss'",
      "\nThe above exception was the direct cause of the following exception:\n",
      "\u001b[0;31mKeyError\u001b[0m                                  Traceback (most recent call last)",
      "Cell \u001b[0;32mIn[35], line 1\u001b[0m\n\u001b[0;32m----> 1\u001b[0m \u001b[43mtrainer\u001b[49m\u001b[38;5;241;43m.\u001b[39;49m\u001b[43mtrain\u001b[49m\u001b[43m(\u001b[49m\u001b[43m)\u001b[49m\n",
      "File \u001b[0;32m~/miniconda3/envs/venv_ud_gen/lib/python3.10/site-packages/transformers/trainer.py:2241\u001b[0m, in \u001b[0;36mTrainer.train\u001b[0;34m(self, resume_from_checkpoint, trial, ignore_keys_for_eval, **kwargs)\u001b[0m\n\u001b[1;32m   2239\u001b[0m         hf_hub_utils\u001b[38;5;241m.\u001b[39menable_progress_bars()\n\u001b[1;32m   2240\u001b[0m \u001b[38;5;28;01melse\u001b[39;00m:\n\u001b[0;32m-> 2241\u001b[0m     \u001b[38;5;28;01mreturn\u001b[39;00m \u001b[43minner_training_loop\u001b[49m\u001b[43m(\u001b[49m\n\u001b[1;32m   2242\u001b[0m \u001b[43m        \u001b[49m\u001b[43margs\u001b[49m\u001b[38;5;241;43m=\u001b[39;49m\u001b[43margs\u001b[49m\u001b[43m,\u001b[49m\n\u001b[1;32m   2243\u001b[0m \u001b[43m        \u001b[49m\u001b[43mresume_from_checkpoint\u001b[49m\u001b[38;5;241;43m=\u001b[39;49m\u001b[43mresume_from_checkpoint\u001b[49m\u001b[43m,\u001b[49m\n\u001b[1;32m   2244\u001b[0m \u001b[43m        \u001b[49m\u001b[43mtrial\u001b[49m\u001b[38;5;241;43m=\u001b[39;49m\u001b[43mtrial\u001b[49m\u001b[43m,\u001b[49m\n\u001b[1;32m   2245\u001b[0m \u001b[43m        \u001b[49m\u001b[43mignore_keys_for_eval\u001b[49m\u001b[38;5;241;43m=\u001b[39;49m\u001b[43mignore_keys_for_eval\u001b[49m\u001b[43m,\u001b[49m\n\u001b[1;32m   2246\u001b[0m \u001b[43m    \u001b[49m\u001b[43m)\u001b[49m\n",
      "File \u001b[0;32m~/miniconda3/envs/venv_ud_gen/lib/python3.10/site-packages/transformers/trainer.py:2612\u001b[0m, in \u001b[0;36mTrainer._inner_training_loop\u001b[0;34m(self, batch_size, args, resume_from_checkpoint, trial, ignore_keys_for_eval)\u001b[0m\n\u001b[1;32m   2610\u001b[0m     \u001b[38;5;28mself\u001b[39m\u001b[38;5;241m.\u001b[39mstate\u001b[38;5;241m.\u001b[39mepoch \u001b[38;5;241m=\u001b[39m epoch \u001b[38;5;241m+\u001b[39m (step \u001b[38;5;241m+\u001b[39m \u001b[38;5;241m1\u001b[39m \u001b[38;5;241m+\u001b[39m steps_skipped) \u001b[38;5;241m/\u001b[39m steps_in_epoch\n\u001b[1;32m   2611\u001b[0m     \u001b[38;5;28mself\u001b[39m\u001b[38;5;241m.\u001b[39mcontrol \u001b[38;5;241m=\u001b[39m \u001b[38;5;28mself\u001b[39m\u001b[38;5;241m.\u001b[39mcallback_handler\u001b[38;5;241m.\u001b[39mon_step_end(args, \u001b[38;5;28mself\u001b[39m\u001b[38;5;241m.\u001b[39mstate, \u001b[38;5;28mself\u001b[39m\u001b[38;5;241m.\u001b[39mcontrol)\n\u001b[0;32m-> 2612\u001b[0m     \u001b[38;5;28;43mself\u001b[39;49m\u001b[38;5;241;43m.\u001b[39;49m\u001b[43m_maybe_log_save_evaluate\u001b[49m\u001b[43m(\u001b[49m\n\u001b[1;32m   2613\u001b[0m \u001b[43m        \u001b[49m\u001b[43mtr_loss\u001b[49m\u001b[43m,\u001b[49m\u001b[43m \u001b[49m\u001b[43mgrad_norm\u001b[49m\u001b[43m,\u001b[49m\u001b[43m \u001b[49m\u001b[43mmodel\u001b[49m\u001b[43m,\u001b[49m\u001b[43m \u001b[49m\u001b[43mtrial\u001b[49m\u001b[43m,\u001b[49m\u001b[43m \u001b[49m\u001b[43mepoch\u001b[49m\u001b[43m,\u001b[49m\u001b[43m \u001b[49m\u001b[43mignore_keys_for_eval\u001b[49m\u001b[43m,\u001b[49m\u001b[43m \u001b[49m\u001b[43mstart_time\u001b[49m\n\u001b[1;32m   2614\u001b[0m \u001b[43m    \u001b[49m\u001b[43m)\u001b[49m\n\u001b[1;32m   2615\u001b[0m \u001b[38;5;28;01melse\u001b[39;00m:\n\u001b[1;32m   2616\u001b[0m     \u001b[38;5;28mself\u001b[39m\u001b[38;5;241m.\u001b[39mcontrol \u001b[38;5;241m=\u001b[39m \u001b[38;5;28mself\u001b[39m\u001b[38;5;241m.\u001b[39mcallback_handler\u001b[38;5;241m.\u001b[39mon_substep_end(args, \u001b[38;5;28mself\u001b[39m\u001b[38;5;241m.\u001b[39mstate, \u001b[38;5;28mself\u001b[39m\u001b[38;5;241m.\u001b[39mcontrol)\n",
      "File \u001b[0;32m~/miniconda3/envs/venv_ud_gen/lib/python3.10/site-packages/transformers/trainer.py:3086\u001b[0m, in \u001b[0;36mTrainer._maybe_log_save_evaluate\u001b[0;34m(self, tr_loss, grad_norm, model, trial, epoch, ignore_keys_for_eval, start_time)\u001b[0m\n\u001b[1;32m   3084\u001b[0m \u001b[38;5;28;01mif\u001b[39;00m \u001b[38;5;28mself\u001b[39m\u001b[38;5;241m.\u001b[39mcontrol\u001b[38;5;241m.\u001b[39mshould_evaluate:\n\u001b[1;32m   3085\u001b[0m     metrics \u001b[38;5;241m=\u001b[39m \u001b[38;5;28mself\u001b[39m\u001b[38;5;241m.\u001b[39m_evaluate(trial, ignore_keys_for_eval)\n\u001b[0;32m-> 3086\u001b[0m     is_new_best_metric \u001b[38;5;241m=\u001b[39m \u001b[38;5;28;43mself\u001b[39;49m\u001b[38;5;241;43m.\u001b[39;49m\u001b[43m_determine_best_metric\u001b[49m\u001b[43m(\u001b[49m\u001b[43mmetrics\u001b[49m\u001b[38;5;241;43m=\u001b[39;49m\u001b[43mmetrics\u001b[49m\u001b[43m,\u001b[49m\u001b[43m \u001b[49m\u001b[43mtrial\u001b[49m\u001b[38;5;241;43m=\u001b[39;49m\u001b[43mtrial\u001b[49m\u001b[43m)\u001b[49m\n\u001b[1;32m   3088\u001b[0m     \u001b[38;5;28;01mif\u001b[39;00m \u001b[38;5;28mself\u001b[39m\u001b[38;5;241m.\u001b[39margs\u001b[38;5;241m.\u001b[39msave_strategy \u001b[38;5;241m==\u001b[39m SaveStrategy\u001b[38;5;241m.\u001b[39mBEST:\n\u001b[1;32m   3089\u001b[0m         \u001b[38;5;28mself\u001b[39m\u001b[38;5;241m.\u001b[39mcontrol\u001b[38;5;241m.\u001b[39mshould_save \u001b[38;5;241m=\u001b[39m is_new_best_metric\n",
      "File \u001b[0;32m~/miniconda3/envs/venv_ud_gen/lib/python3.10/site-packages/transformers/trainer.py:3155\u001b[0m, in \u001b[0;36mTrainer._determine_best_metric\u001b[0;34m(self, metrics, trial)\u001b[0m\n\u001b[1;32m   3153\u001b[0m     metric_value \u001b[38;5;241m=\u001b[39m metrics[metric_to_check]\n\u001b[1;32m   3154\u001b[0m \u001b[38;5;28;01mexcept\u001b[39;00m \u001b[38;5;167;01mKeyError\u001b[39;00m \u001b[38;5;28;01mas\u001b[39;00m exc:\n\u001b[0;32m-> 3155\u001b[0m     \u001b[38;5;28;01mraise\u001b[39;00m \u001b[38;5;167;01mKeyError\u001b[39;00m(\n\u001b[1;32m   3156\u001b[0m         \u001b[38;5;124mf\u001b[39m\u001b[38;5;124m\"\u001b[39m\u001b[38;5;124mThe `metric_for_best_model` training argument is set to \u001b[39m\u001b[38;5;124m'\u001b[39m\u001b[38;5;132;01m{\u001b[39;00mmetric_to_check\u001b[38;5;132;01m}\u001b[39;00m\u001b[38;5;124m'\u001b[39m\u001b[38;5;124m, which is not found in the evaluation metrics. \u001b[39m\u001b[38;5;124m\"\u001b[39m\n\u001b[1;32m   3157\u001b[0m         \u001b[38;5;124mf\u001b[39m\u001b[38;5;124m\"\u001b[39m\u001b[38;5;124mThe available evaluation metrics are: \u001b[39m\u001b[38;5;132;01m{\u001b[39;00m\u001b[38;5;28mlist\u001b[39m(metrics\u001b[38;5;241m.\u001b[39mkeys())\u001b[38;5;132;01m}\u001b[39;00m\u001b[38;5;124m. Consider changing the `metric_for_best_model` via the TrainingArguments.\u001b[39m\u001b[38;5;124m\"\u001b[39m\n\u001b[1;32m   3158\u001b[0m     ) \u001b[38;5;28;01mfrom\u001b[39;00m \u001b[38;5;21;01mexc\u001b[39;00m\n\u001b[1;32m   3160\u001b[0m operator \u001b[38;5;241m=\u001b[39m np\u001b[38;5;241m.\u001b[39mgreater \u001b[38;5;28;01mif\u001b[39;00m \u001b[38;5;28mself\u001b[39m\u001b[38;5;241m.\u001b[39margs\u001b[38;5;241m.\u001b[39mgreater_is_better \u001b[38;5;28;01melse\u001b[39;00m np\u001b[38;5;241m.\u001b[39mless\n\u001b[1;32m   3162\u001b[0m \u001b[38;5;28;01mif\u001b[39;00m \u001b[38;5;28mself\u001b[39m\u001b[38;5;241m.\u001b[39mstate\u001b[38;5;241m.\u001b[39mbest_metric \u001b[38;5;129;01mis\u001b[39;00m \u001b[38;5;28;01mNone\u001b[39;00m:\n",
      "\u001b[0;31mKeyError\u001b[0m: \"The `metric_for_best_model` training argument is set to 'eval_loss', which is not found in the evaluation metrics. The available evaluation metrics are: []. Consider changing the `metric_for_best_model` via the TrainingArguments.\""
     ]
    }
   ],
   "source": [
    "trainer.train()"
   ]
  },
  {
   "cell_type": "code",
   "execution_count": null,
   "id": "79047c3d",
   "metadata": {},
   "outputs": [],
   "source": [
    "lora_model.save_pretrained(\"gpt-lora\")"
   ]
  },
  {
   "cell_type": "markdown",
   "id": "91507c9b",
   "metadata": {},
   "source": [
    "## Performing Inference with a PEFT Model\n",
    "\n",
    "## Loading the model\n",
    "\n",
    "Using the appropriate PEFT model class, load your trained model."
   ]
  },
  {
   "cell_type": "code",
   "execution_count": null,
   "id": "4ed45500",
   "metadata": {},
   "outputs": [],
   "source": []
  },
  {
   "cell_type": "markdown",
   "id": "337bb47b",
   "metadata": {},
   "source": [
    "## Evaluating the model\n",
    "\n",
    "Repeat the previous evaluation process, this time using the PEFT model. Compare the results to the results from the original foundation model."
   ]
  },
  {
   "cell_type": "code",
   "execution_count": null,
   "id": "279b6988",
   "metadata": {},
   "outputs": [],
   "source": []
  }
 ],
 "metadata": {
  "kernelspec": {
   "display_name": "venv_ud_gen",
   "language": "python",
   "name": "python3"
  },
  "language_info": {
   "codemirror_mode": {
    "name": "ipython",
    "version": 3
   },
   "file_extension": ".py",
   "mimetype": "text/x-python",
   "name": "python",
   "nbconvert_exporter": "python",
   "pygments_lexer": "ipython3",
   "version": "3.10.16"
  }
 },
 "nbformat": 4,
 "nbformat_minor": 5
}
