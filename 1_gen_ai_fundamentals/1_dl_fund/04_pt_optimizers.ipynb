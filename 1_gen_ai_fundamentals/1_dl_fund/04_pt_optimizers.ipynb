{
 "cells": [
  {
   "cell_type": "markdown",
   "id": "90fd80a6-7a4a-4364-a843-99a16148ed02",
   "metadata": {},
   "source": [
    "# PyTorch Optimizers\n",
    "\n",
    "[PyTorch optimizers](https://pytorch.org/docs/stable/optim.html) are important tools that help improve how a neural network learns from data by adjusting the model's parameters. By using these optimizers, like stochastic gradient descent (SGD) with momentum or Adam, we can quickly get started learning!\n",
    "\n",
    "[PyTorch tutorial](https://pytorch.org/tutorials/beginner/basics/optimization_tutorial.html)\n",
    "\n",
    "\n",
    "**Gradients**: Directions and amounts by which a function increases most. The parameters can be changed in a direction opposite to the gradient of the loss function in order to reduce the loss.\n",
    "\n",
    "**Learning Rate**: This hyperparameter specifies how big the steps are when adjusting the neural network's settings during training. Too big, and you might skip over the best setting; too small, and it'll take a very long time to get there.\n",
    "\n",
    "**Momentum**: A technique that helps accelerate the optimizer in the right direction and dampens oscillations."
   ]
  },
  {
   "cell_type": "code",
   "execution_count": 1,
   "id": "f9ead772-8b56-433e-b564-0b15e9c37a2c",
   "metadata": {},
   "outputs": [],
   "source": [
    "import torch\n",
    "import torch.nn as nn\n",
    "import torch.optim as optim"
   ]
  },
  {
   "cell_type": "code",
   "execution_count": 2,
   "id": "4befa003-8949-469a-a1ae-8947cd9cc45b",
   "metadata": {},
   "outputs": [],
   "source": [
    "class MLP(nn.Module):\n",
    "    def __init__(self, input_size:int):\n",
    "        super(MLP, self).__init__()\n",
    "        self.hidden_layer = nn.Linear(in_features=input_size, out_features=64)\n",
    "        self.output_layer = nn.Linear(64, 2)\n",
    "        self.activation = nn.ReLU()\n",
    "        # Single dimension input to the softmax layer, so dim=0\n",
    "        self.softmax = nn.Softmax(dim=0)\n",
    "        # https://discuss.pytorch.org/t/implicit-dimension-choice-for-softmax-warning/12314/17\n",
    "\n",
    "    # def forward(self, x):\n",
    "    #     hidden_pass = self.hidden_layer(x)\n",
    "    #     activation_pass = self.activation(hidden_pass)\n",
    "    #     output_pass = self.output_layer(activation_pass)\n",
    "    #     return output_pass\n",
    "\n",
    "    def forward(self, x):\n",
    "        x = self.hidden_layer(x)\n",
    "        x = self.activation(x)\n",
    "        x = self.output_layer(x)\n",
    "        x = self.softmax(x)\n",
    "        \n",
    "        return x"
   ]
  },
  {
   "cell_type": "code",
   "execution_count": 3,
   "id": "d366d33d-68f9-493b-b4c5-c8edb7f9cde2",
   "metadata": {},
   "outputs": [],
   "source": [
    "mlp_net = MLP(input_size=10)\n",
    "# torch.manual_seed(0)\n",
    "# mlp_net.forward(torch.rand(10))"
   ]
  },
  {
   "cell_type": "code",
   "execution_count": 4,
   "id": "f7d89f29-35ba-438d-ba97-79da966659c4",
   "metadata": {},
   "outputs": [],
   "source": [
    "# SGD, Stochastic Gradient Descent\n",
    "optmzr = optim.SGD(\n",
    "    params=mlp_net.parameters(),\n",
    "    lr=0.01,\n",
    "    momentum=0.9)"
   ]
  },
  {
   "cell_type": "code",
   "execution_count": 5,
   "id": "89235125-13f5-47b8-a7b8-deba153bd1e4",
   "metadata": {},
   "outputs": [],
   "source": [
    "# Adam\n",
    "optmzr = optim.Adam(\n",
    "    params=mlp_net.parameters(),\n",
    "    lr=0.01)"
   ]
  },
  {
   "cell_type": "code",
   "execution_count": null,
   "id": "04692312-8ac0-44b9-8a58-512f31e3b908",
   "metadata": {},
   "outputs": [],
   "source": []
  }
 ],
 "metadata": {
  "kernelspec": {
   "display_name": "venv_ud_gen",
   "language": "python",
   "name": "venv_ud_gen"
  },
  "language_info": {
   "codemirror_mode": {
    "name": "ipython",
    "version": 3
   },
   "file_extension": ".py",
   "mimetype": "text/x-python",
   "name": "python",
   "nbconvert_exporter": "python",
   "pygments_lexer": "ipython3",
   "version": "3.10.16"
  }
 },
 "nbformat": 4,
 "nbformat_minor": 5
}
