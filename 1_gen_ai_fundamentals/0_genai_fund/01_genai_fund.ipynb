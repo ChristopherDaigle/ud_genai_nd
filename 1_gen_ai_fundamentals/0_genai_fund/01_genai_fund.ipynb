{
 "cells": [
  {
   "cell_type": "markdown",
   "id": "4032cf2d-761c-49fb-b2e6-44dbc4b8dd8f",
   "metadata": {},
   "source": [
    "# Generative AI Fundamentals"
   ]
  },
  {
   "cell_type": "code",
   "execution_count": null,
   "id": "26fe5e92-ed37-4c54-b3f7-76da681f9e2a",
   "metadata": {},
   "outputs": [],
   "source": []
  }
 ],
 "metadata": {
  "kernelspec": {
   "display_name": "venv_ud_gen",
   "language": "python",
   "name": "venv_ud_gen"
  },
  "language_info": {
   "codemirror_mode": {
    "name": "ipython",
    "version": 3
   },
   "file_extension": ".py",
   "mimetype": "text/x-python",
   "name": "python",
   "nbconvert_exporter": "python",
   "pygments_lexer": "ipython3",
   "version": "3.10.16"
  }
 },
 "nbformat": 4,
 "nbformat_minor": 5
}
