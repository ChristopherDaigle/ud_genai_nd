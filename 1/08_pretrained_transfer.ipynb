{
 "cells": [
  {
   "cell_type": "markdown",
   "id": "5ddd3109-6c03-4ab4-b492-fc27536e1c56",
   "metadata": {},
   "source": [
    "# Pretrained Models and Transfer Learning\n",
    "\n",
    "By using pre-trained models and transfer learning, the hard work of training an AI model from zero can be bypassed, making it easier and quicker to get the job done. By leveraging the knowledge a model distills from a large dataset, we can reduce the amount of training needed to get a performant model.\n",
    "\n",
    "**Examples:**\n",
    "* If we wanted to create a plant identification app for mobile devices, we might use [MobileNetV3](https://paperswithcode.com/method/mobilenetv3) and train it on a dataset containing photos of different plant species.\n",
    "* If we wanted to create a social networking spam classifier, we might use BERT and train it on a dataset containing samples of spam and not-spam text.\n",
    "\n",
    "\n",
    "**Transfer learning:** The process where knowledge from a pre-trained model is applied to a new, but related task.\n",
    "\n",
    "<img src=\"img/img_01.png\">\n",
    "<br>\n",
    "<img src=\"img/img_02.png\">\n",
    "<br>\n",
    "\n",
    "**Example of creating a plant classification model**:\n",
    "<img src=\"img/img_03.png\">\n",
    "\n",
    "**Example of creating a spam classification model**:\n",
    "<img src=\"img/img_04.png\">"
   ]
  },
  {
   "cell_type": "code",
   "execution_count": null,
   "id": "aa55b81d-809d-4a80-8c3c-78c332229266",
   "metadata": {},
   "outputs": [],
   "source": []
  }
 ],
 "metadata": {
  "kernelspec": {
   "display_name": "venv_ud_gen",
   "language": "python",
   "name": "venv_ud_gen"
  },
  "language_info": {
   "codemirror_mode": {
    "name": "ipython",
    "version": 3
   },
   "file_extension": ".py",
   "mimetype": "text/x-python",
   "name": "python",
   "nbconvert_exporter": "python",
   "pygments_lexer": "ipython3",
   "version": "3.10.16"
  }
 },
 "nbformat": 4,
 "nbformat_minor": 5
}
