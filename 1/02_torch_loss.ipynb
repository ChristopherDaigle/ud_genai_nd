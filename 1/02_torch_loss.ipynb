{
 "cells": [
  {
   "cell_type": "markdown",
   "id": "e2f867a4-0ddb-477c-9152-fc45fa1b3111",
   "metadata": {},
   "source": [
    "[PyTorch loss functions](https://pytorch.org/docs/stable/nn.html#loss-functions) are essential tools that help in improving the accuracy of a model by measuring errors. These functions come in different forms to tackle various problems, like deciding between categories (classification) or predicting values (regression). Understanding and using these functions correctly is key to making smart, effective models that do a great job at the tasks they're designed for!\n",
    "\n",
    "**Loss functions**: They measure how well a model is performing by calculating the difference between the model's predictions and the actual results.\n",
    "\n",
    "**Cross entropy loss**: This is a measure used when a model needs to choose between categories (like whether an image shows a cat or a dog), and it shows how well the model's predictions align with the actual categories.\n",
    "\n",
    "**Mean squared error**: This shows the average of the squares of the differences between predicted numbers (like a predicted price) and the actual numbers. It's often used for predicting continuous values rather than categories"
   ]
  },
  {
   "cell_type": "code",
   "execution_count": 1,
   "id": "b4ec5d26-7003-4aad-8059-3e0f3b903293",
   "metadata": {},
   "outputs": [],
   "source": [
    "import torch\n",
    "import torch.nn as nn"
   ]
  },
  {
   "cell_type": "code",
   "execution_count": 2,
   "id": "61c1f3d0-7988-44bd-9dfa-83ea7622ca22",
   "metadata": {},
   "outputs": [],
   "source": [
    "loss_function = nn.CrossEntropyLoss()"
   ]
  },
  {
   "cell_type": "code",
   "execution_count": 3,
   "id": "613bc48d-a9c3-4c96-bd45-5ce3bd22fe6b",
   "metadata": {},
   "outputs": [
    {
     "data": {
      "text/plain": [
       "tensor([1])"
      ]
     },
     "execution_count": 3,
     "metadata": {},
     "output_type": "execute_result"
    }
   ],
   "source": [
    "# Assume a binary classification problem, like dog/cat\n",
    "# cat == 0\n",
    "# dog == 1\n",
    "tgt_tens = torch.tensor([1])\n",
    "tgt_tens"
   ]
  },
  {
   "cell_type": "code",
   "execution_count": 4,
   "id": "e4f1ef57-ecd2-4f57-bbf7-cccfa3b1e93c",
   "metadata": {},
   "outputs": [
    {
     "data": {
      "text/plain": [
       "tensor(0.0486)"
      ]
     },
     "execution_count": 4,
     "metadata": {},
     "output_type": "execute_result"
    }
   ],
   "source": [
    "# Prediction: most likely a dog (index 1 is higher)\n",
    "# Note that the values do not need to sum to 1\n",
    "pred_tens_0 = torch.tensor([[2.0, 5.0]])\n",
    "loss_val_0 = loss_function(pred_tens_0, tgt_tens)\n",
    "loss_val_0"
   ]
  },
  {
   "cell_type": "code",
   "execution_count": 5,
   "id": "1fd25d01-8184-4a09-bd85-d4a77224a9e3",
   "metadata": {},
   "outputs": [
    {
     "data": {
      "text/plain": [
       "tensor(0.9130)"
      ]
     },
     "execution_count": 5,
     "metadata": {},
     "output_type": "execute_result"
    }
   ],
   "source": [
    "# Prediction: slightly more likely a cat (index 0 is higher)\n",
    "# Note that the values do not need to sum to 1\n",
    "pred_tens_1 = torch.tensor([[1.5, 1.1]])\n",
    "loss_val_1 = loss_function(pred_tens_1, tgt_tens)\n",
    "loss_val_1"
   ]
  },
  {
   "cell_type": "markdown",
   "id": "1c7593f4-9e24-41c7-b062-e069054c8289",
   "metadata": {},
   "source": [
    "Note that the loss value of the second version, where the prediction *thinks* it's more likely a cat (index 0) than a dog (index 1), when the **true** value is a dog (index 1), the **loss is higher**, meanining, the error is worse"
   ]
  },
  {
   "cell_type": "code",
   "execution_count": 6,
   "id": "c496d57c-25d8-441f-a47c-33c37d2d26cf",
   "metadata": {},
   "outputs": [
    {
     "data": {
      "text/plain": [
       "tensor(True)"
      ]
     },
     "execution_count": 6,
     "metadata": {},
     "output_type": "execute_result"
    }
   ],
   "source": [
    "loss_val_1 > loss_val_0"
   ]
  },
  {
   "cell_type": "markdown",
   "id": "bc1cda2c-9cbe-404b-9d75-8d1ff9082c5f",
   "metadata": {},
   "source": [
    "Let's look at MSE instead now - pretend we will predict housing prices"
   ]
  },
  {
   "cell_type": "code",
   "execution_count": 7,
   "id": "b1f526c0-4376-4232-8ed6-594b092d408f",
   "metadata": {},
   "outputs": [],
   "source": [
    "# Define the loss function\n",
    "loss_function = nn.MSELoss()\n",
    "# Define the predicted\n",
    "pred_tens = torch.tensor([320000.0])\n",
    "# and the actual tensor\n",
    "tgt_tens = torch.tensor([300000.0])"
   ]
  },
  {
   "cell_type": "code",
   "execution_count": 8,
   "id": "1a35701a-9051-4f19-b9a4-faf5641a7cdc",
   "metadata": {},
   "outputs": [
    {
     "data": {
      "text/plain": [
       "400000000.0"
      ]
     },
     "execution_count": 8,
     "metadata": {},
     "output_type": "execute_result"
    }
   ],
   "source": [
    "loss_val_0 = loss_function(pred_tens, tgt_tens)\n",
    "loss_val_0.item()"
   ]
  },
  {
   "cell_type": "code",
   "execution_count": 9,
   "id": "3954f86d-382b-48d3-9253-76944a303365",
   "metadata": {},
   "outputs": [
    {
     "data": {
      "text/plain": [
       "400000000.0"
      ]
     },
     "execution_count": 9,
     "metadata": {},
     "output_type": "execute_result"
    }
   ],
   "source": [
    "man_calc = (pred_tens.item() - tgt_tens.item())**2\n",
    "man_calc"
   ]
  },
  {
   "cell_type": "code",
   "execution_count": 10,
   "id": "975787b0-ab01-47ee-862e-59eff0ed383d",
   "metadata": {},
   "outputs": [
    {
     "data": {
      "text/plain": [
       "True"
      ]
     },
     "execution_count": 10,
     "metadata": {},
     "output_type": "execute_result"
    }
   ],
   "source": [
    "man_calc == loss_val_0.item()"
   ]
  }
 ],
 "metadata": {
  "kernelspec": {
   "display_name": "venv_ud_gen",
   "language": "python",
   "name": "venv_ud_gen"
  },
  "language_info": {
   "codemirror_mode": {
    "name": "ipython",
    "version": 3
   },
   "file_extension": ".py",
   "mimetype": "text/x-python",
   "name": "python",
   "nbconvert_exporter": "python",
   "pygments_lexer": "ipython3",
   "version": "3.10.16"
  }
 },
 "nbformat": 4,
 "nbformat_minor": 5
}
