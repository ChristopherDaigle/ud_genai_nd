{
 "cells": [
  {
   "cell_type": "markdown",
   "id": "6031392b-29a8-4ca3-9683-95ce6e568cde",
   "metadata": {},
   "source": [
    "# Pytorch Datasets and Data Loaders\n",
    "PyTorch makes accessing data for your model a breeze! These tools ensure that the flow of information to our AI is just right, making its learning experience effective and fun.\n",
    "\n",
    "## Technical Terms:\n",
    "**PyTorch Dataset class:** This is like a recipe that tells your computer how to get the data it needs to learn from, including where to find it and how to parse it, if necessary.\n",
    "\n",
    "**PyTorch Data Loader:** Think of this as a delivery truck that brings the data to your AI in small, manageable loads called batches; this makes it easier for the AI to process and learn from the data.\n",
    "\n",
    "**Batches:** Batches are small, evenly divided parts of data that the AI looks at and learns from each step of the way.\n",
    "\n",
    "**Shuffle:** It means mixing up the data so that it's not in the same order every time, which helps the AI learn better."
   ]
  },
  {
   "cell_type": "markdown",
   "id": "1507060e-97d5-41d6-a492-6982def1a390",
   "metadata": {},
   "source": [
    "## Create a dataset\n",
    "[PyTorch Reference](https://pytorch.org/docs/stable/data.html#torch.utils.data.Dataset)"
   ]
  },
  {
   "cell_type": "code",
   "execution_count": 1,
   "id": "d3cc0579-7bce-4543-87da-981fb6fd42e7",
   "metadata": {},
   "outputs": [],
   "source": [
    "from torch.utils.data import Dataset"
   ]
  },
  {
   "cell_type": "code",
   "execution_count": 2,
   "id": "2ac85c52-3fc5-4f43-b89c-c93bd9d67068",
   "metadata": {},
   "outputs": [],
   "source": [
    "# Create a fake dataset\n",
    "class NumberProductDataset(Dataset):\n",
    "    \"\"\"\n",
    "    Defines a dataset that contains pairs of consecutive numbers and their associated products/multiples\n",
    "    \"\"\"\n",
    "    def __init__(self, data_range:tuple=(1,10)):\n",
    "        self.numbers = list(range(data_range[0],data_range[1]))\n",
    "        return\n",
    "\n",
    "\n",
    "    def __getitem__(self, index):\n",
    "        \"\"\"\n",
    "        Provides index access to pairs \n",
    "        \"\"\"\n",
    "        number0 = self.numbers[index]\n",
    "        number1 = self.numbers[index] + 1\n",
    "        return (number0, number1), number0*number1\n",
    "\n",
    "\n",
    "    def __len__(self):\n",
    "        \"\"\"\n",
    "        Total number of pairs in the dataset\n",
    "        \"\"\"\n",
    "        return len(self.numbers)"
   ]
  },
  {
   "cell_type": "code",
   "execution_count": 3,
   "id": "39a17d09-4373-4a79-8ce7-3d12330bb2ec",
   "metadata": {},
   "outputs": [],
   "source": [
    "# Instantiate the dataset\n",
    "dataset = NumberProductDataset(\n",
    "    data_range=(0,11))"
   ]
  },
  {
   "cell_type": "code",
   "execution_count": 4,
   "id": "f5e66517-8245-4a1e-a384-5a8bbf28c57f",
   "metadata": {},
   "outputs": [
    {
     "name": "stdout",
     "output_type": "stream",
     "text": [
      "((3, 4), 12)\n"
     ]
    }
   ],
   "source": [
    "# Access a data sample\n",
    "data_sample = dataset[3]\n",
    "print(data_sample)"
   ]
  },
  {
   "cell_type": "code",
   "execution_count": 5,
   "id": "968d5113-29bf-49b7-8498-44efa98640fa",
   "metadata": {},
   "outputs": [
    {
     "data": {
      "text/plain": [
       "11"
      ]
     },
     "execution_count": 5,
     "metadata": {},
     "output_type": "execute_result"
    }
   ],
   "source": [
    "dataset.__len__()"
   ]
  },
  {
   "cell_type": "code",
   "execution_count": 6,
   "id": "11a594e5-d22a-48c7-8150-5f101fa6f645",
   "metadata": {},
   "outputs": [
    {
     "name": "stdout",
     "output_type": "stream",
     "text": [
      "((0, 1), 0)\n",
      "((1, 2), 2)\n",
      "((2, 3), 6)\n",
      "((3, 4), 12)\n",
      "((4, 5), 20)\n",
      "((5, 6), 30)\n",
      "((6, 7), 42)\n",
      "((7, 8), 56)\n",
      "((8, 9), 72)\n",
      "((9, 10), 90)\n",
      "((10, 11), 110)\n"
     ]
    }
   ],
   "source": [
    "for i in range(dataset.__len__()):\n",
    "    print(dataset.__getitem__(i))"
   ]
  },
  {
   "cell_type": "markdown",
   "id": "34933a53-bcfc-4887-aa99-871cd7156835",
   "metadata": {},
   "source": [
    "## Load a dataset\n",
    "[PyTorch Reference](https://pytorch.org/docs/stable/data.html#torch.utils.data.DataLoader)"
   ]
  },
  {
   "cell_type": "code",
   "execution_count": 7,
   "id": "33be9b0f-28ee-4b51-8d71-55ecb2fad7c7",
   "metadata": {},
   "outputs": [],
   "source": [
    "from torch.utils.data import DataLoader"
   ]
  },
  {
   "cell_type": "code",
   "execution_count": 8,
   "id": "4bf48c52-30f5-4d0c-b4ad-8239b77c5d1b",
   "metadata": {},
   "outputs": [],
   "source": [
    "# Instantiate the dataset\n",
    "dataset = NumberProductDataset(\n",
    "    data_range=(0,11))\n",
    "# Create a DataLoader instance\n",
    "dataloader = DataLoader(dataset=dataset, batch_size=3, shuffle=False)"
   ]
  },
  {
   "cell_type": "code",
   "execution_count": 9,
   "id": "4afb9a17-3779-402d-a1a2-5a92c78a9a16",
   "metadata": {},
   "outputs": [
    {
     "name": "stdout",
     "output_type": "stream",
     "text": [
      "There are 4 items in the dataloader object\n",
      "\n",
      "\t[tensor([0, 1, 2]), tensor([1, 2, 3])], tensor([0, 2, 6])\n",
      "\t[tensor([3, 4, 5]), tensor([4, 5, 6])], tensor([12, 20, 30])\n",
      "\t[tensor([6, 7, 8]), tensor([7, 8, 9])], tensor([42, 56, 72])\n",
      "\t[tensor([ 9, 10]), tensor([10, 11])], tensor([ 90, 110])\n",
      "\n",
      "Note there is a list of tensors and then a tensor at each new line.\n",
      "In the first index of the list, there are elements i:j of the 1st column in the dataset.\n",
      "In the second index of the list, there are elements i:j of the 2nd column of the dataset.\n",
      "And in the last element, outside of the list of tensors, is the i:j elements of the 3rd column of the index.\n",
      "\n",
      "So, if we consider the list as X and the elements as x0 and x1, and then the last element as Y:\n",
      "    X[0]*X[1]=Y\n"
     ]
    }
   ],
   "source": [
    "# Iterate over batches\n",
    "print(f\"There are {len(dataloader)} items in the dataloader object\")\n",
    "print()\n",
    "for (i, j) in dataloader:\n",
    "    print(f\"\\t{i}, {j}\")\n",
    "print()\n",
    "print(\"\"\"Note there is a list of tensors and then a tensor at each new line.\n",
    "In the first index of the list, there are elements i:j of the 1st column in the dataset.\n",
    "In the second index of the list, there are elements i:j of the 2nd column of the dataset.\n",
    "And in the last element, outside of the list of tensors, is the i:j elements of the 3rd column of the index.\n",
    "\n",
    "So, if we consider the list as X and the elements as x0 and x1, and then the last element as Y:\n",
    "    X[0]*X[1]=Y\"\"\")"
   ]
  },
  {
   "cell_type": "code",
   "execution_count": 10,
   "id": "5789a341-81d5-46e5-b970-58efc3b34d88",
   "metadata": {},
   "outputs": [
    {
     "name": "stdout",
     "output_type": "stream",
     "text": [
      "Each of these above are the batches and are like small datasets. We can also shuffle them so we get randomized data:\n",
      "\t[tensor([2, 3, 7]), tensor([3, 4, 8])], tensor([ 6, 12, 56])\n",
      "\t[tensor([6, 0, 5]), tensor([7, 1, 6])], tensor([42,  0, 30])\n",
      "\t[tensor([10,  4,  8]), tensor([11,  5,  9])], tensor([110,  20,  72])\n",
      "\t[tensor([9, 1]), tensor([10,  2])], tensor([90,  2])\n"
     ]
    }
   ],
   "source": [
    "print(\"Each of these above are the batches and are like small datasets. We can also shuffle them so we get randomized data:\")\n",
    "dataloader = DataLoader(dataset=dataset, batch_size=3, shuffle=True)\n",
    "for (i, j) in dataloader:\n",
    "    print(f\"\\t{i}, {j}\")\n",
    "    # next(iter(dataloader))"
   ]
  },
  {
   "cell_type": "code",
   "execution_count": null,
   "id": "25dfeb62-b9d7-4af5-af62-e050a68c1810",
   "metadata": {},
   "outputs": [],
   "source": []
  },
  {
   "cell_type": "code",
   "execution_count": null,
   "id": "efcc4919-e71d-42ca-90ae-69a86b3f68e3",
   "metadata": {},
   "outputs": [],
   "source": []
  }
 ],
 "metadata": {
  "kernelspec": {
   "display_name": "venv_ud_gen",
   "language": "python",
   "name": "venv_ud_gen"
  },
  "language_info": {
   "codemirror_mode": {
    "name": "ipython",
    "version": 3
   },
   "file_extension": ".py",
   "mimetype": "text/x-python",
   "name": "python",
   "nbconvert_exporter": "python",
   "pygments_lexer": "ipython3",
   "version": "3.10.16"
  }
 },
 "nbformat": 4,
 "nbformat_minor": 5
}
