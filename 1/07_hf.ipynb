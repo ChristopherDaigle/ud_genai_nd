{
 "cells": [
  {
   "cell_type": "markdown",
   "id": "8dbd9c0a-307b-45f4-9b23-9e32dbb339d8",
   "metadata": {},
   "source": [
    "# HuggingFace\n",
    "\n",
    "Hugging Face offers everything from tokenizers, which help computers make sense of text, to a huge variety of ready-to-go language models, and even a treasure trove of data suited for language tasks.\n",
    "\n",
    "HF provides many things, some of which are:\n",
    "1. Tokenizers\n",
    "2. Models\n",
    "3. Datasets\n",
    "4. Trainers\n",
    "\n",
    "## Technical Terms:\n",
    "**Tokenizers:** These work like a translator, converting the words we use into smaller parts and creating a secret code that computers can understand and work with.\n",
    "\n",
    "**Models:** These are like the brain for computers, allowing them to learn and make decisions based on information they've been fed.\n",
    "\n",
    "**Datasets:** Think of datasets as textbooks for computer models. They are collections of information that models study to learn and improve.\n",
    "\n",
    "**Trainers:** Trainers are the coaches for computer models. They help these models get better at their tasks by practicing and providing guidance. HuggingFace Trainers implement the PyTorch training loop for you, so you can focus instead on other aspects of working on the model.\n",
    "\n"
   ]
  },
  {
   "cell_type": "markdown",
   "id": "d6391b94-2052-42b2-b3ce-eed91e9b01d1",
   "metadata": {},
   "source": [
    "## Tokenizers\n",
    "\n",
    "HuggingFace tokenizers help us break down text into smaller, manageable pieces called tokens. These tokenizers are easy to use and also remarkably fast due to their use of the Rust programming language.\n",
    "\n",
    "**Tokenization:** It's like cutting a sentence into individual pieces, such as words or characters, to make it easier to analyze.\n",
    "\n",
    "**Tokens:** These are the pieces you get after cutting up text during tokenization, kind of like individual Lego blocks that can be words, parts of words, or even single letters. These tokens are converted to numerical values for models to understand.\n",
    "\n",
    "**Pre-trained Model:** This is a ready-made model that has been previously taught with a lot of data.\n",
    "\n",
    "**Uncased:** This means that the model treats uppercase and lowercase letters as the same."
   ]
  },
  {
   "cell_type": "code",
   "execution_count": 2,
   "id": "d71eac3c-ff34-4ec2-93ff-ec22e5ba39cb",
   "metadata": {},
   "outputs": [],
   "source": [
    "from transformers import BertTokenizer"
   ]
  },
  {
   "cell_type": "code",
   "execution_count": 3,
   "id": "63e6fb4c-eab1-4c2e-8dd4-4b54c583683c",
   "metadata": {},
   "outputs": [
    {
     "data": {
      "application/vnd.jupyter.widget-view+json": {
       "model_id": "b3b6d15060614fd4948feecec2eb80b9",
       "version_major": 2,
       "version_minor": 0
      },
      "text/plain": [
       "tokenizer_config.json:   0%|          | 0.00/48.0 [00:00<?, ?B/s]"
      ]
     },
     "metadata": {},
     "output_type": "display_data"
    },
    {
     "data": {
      "application/vnd.jupyter.widget-view+json": {
       "model_id": "91f81f3d92e24bc0b5a58ebf99b6bf36",
       "version_major": 2,
       "version_minor": 0
      },
      "text/plain": [
       "vocab.txt:   0%|          | 0.00/232k [00:00<?, ?B/s]"
      ]
     },
     "metadata": {},
     "output_type": "display_data"
    },
    {
     "data": {
      "application/vnd.jupyter.widget-view+json": {
       "model_id": "6203c0fe5f944c28961e942267d3d5f5",
       "version_major": 2,
       "version_minor": 0
      },
      "text/plain": [
       "tokenizer.json:   0%|          | 0.00/466k [00:00<?, ?B/s]"
      ]
     },
     "metadata": {},
     "output_type": "display_data"
    },
    {
     "data": {
      "application/vnd.jupyter.widget-view+json": {
       "model_id": "508ca920eae241749405f4966df30b02",
       "version_major": 2,
       "version_minor": 0
      },
      "text/plain": [
       "config.json:   0%|          | 0.00/570 [00:00<?, ?B/s]"
      ]
     },
     "metadata": {},
     "output_type": "display_data"
    }
   ],
   "source": [
    "# Initialize the tokenizer\n",
    "tokenizer = BertTokenizer.from_pretrained('bert-base-uncased')"
   ]
  },
  {
   "cell_type": "code",
   "execution_count": 4,
   "id": "7a8c6099-7a5a-4d54-8c6c-a5c81e7efa6b",
   "metadata": {},
   "outputs": [
    {
     "data": {
      "text/plain": [
       "30522"
      ]
     },
     "execution_count": 4,
     "metadata": {},
     "output_type": "execute_result"
    }
   ],
   "source": [
    "# See how many tokens are in the vocabulary\n",
    "tokenizer.vocab_size"
   ]
  },
  {
   "cell_type": "code",
   "execution_count": 5,
   "id": "b5a197dd-9331-4b55-8633-520abcb765ba",
   "metadata": {},
   "outputs": [],
   "source": [
    "# Tokenize the sentence\n",
    "tokens = tokenizer.tokenize(\"I heart Generative AI\")"
   ]
  },
  {
   "cell_type": "code",
   "execution_count": 6,
   "id": "e91524b6-bc36-4c90-b4e1-c1eb71f16428",
   "metadata": {},
   "outputs": [
    {
     "name": "stdout",
     "output_type": "stream",
     "text": [
      "['i', 'heart', 'genera', '##tive', 'ai']\n"
     ]
    }
   ],
   "source": [
    "# Print the tokens\n",
    "print(tokens)"
   ]
  },
  {
   "cell_type": "code",
   "execution_count": 7,
   "id": "cfcd8be4-1d4d-4c17-9d6f-babe6abb1074",
   "metadata": {},
   "outputs": [
    {
     "name": "stdout",
     "output_type": "stream",
     "text": [
      "[1045, 2540, 11416, 6024, 9932]\n"
     ]
    }
   ],
   "source": [
    "# Show the token ids assigned to each token\n",
    "print(tokenizer.convert_tokens_to_ids(tokens))"
   ]
  },
  {
   "cell_type": "code",
   "execution_count": null,
   "id": "37c2b66c-5aa7-43f3-8bb6-973f6885a4c1",
   "metadata": {},
   "outputs": [],
   "source": []
  }
 ],
 "metadata": {
  "kernelspec": {
   "display_name": "venv_ud_gen",
   "language": "python",
   "name": "venv_ud_gen"
  },
  "language_info": {
   "codemirror_mode": {
    "name": "ipython",
    "version": 3
   },
   "file_extension": ".py",
   "mimetype": "text/x-python",
   "name": "python",
   "nbconvert_exporter": "python",
   "pygments_lexer": "ipython3",
   "version": "3.10.16"
  }
 },
 "nbformat": 4,
 "nbformat_minor": 5
}
