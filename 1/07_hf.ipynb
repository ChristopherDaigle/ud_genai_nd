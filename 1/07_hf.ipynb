{
 "cells": [
  {
   "cell_type": "markdown",
   "id": "8dbd9c0a-307b-45f4-9b23-9e32dbb339d8",
   "metadata": {},
   "source": [
    "# HuggingFace\n",
    "\n",
    "Hugging Face offers everything from tokenizers, which help computers make sense of text, to a huge variety of ready-to-go language models, and even a treasure trove of data suited for language tasks.\n",
    "\n",
    "HF provides many things, some of which are:\n",
    "1. Tokenizers\n",
    "2. Models\n",
    "3. Datasets\n",
    "4. Trainers\n",
    "\n",
    "**Tokenizers:** These work like a translator, converting the words we use into smaller parts and creating a secret code that computers can understand and work with.\n",
    "\n",
    "**Models:** These are like the brain for computers, allowing them to learn and make decisions based on information they've been fed.\n",
    "\n",
    "**Datasets:** Think of datasets as textbooks for computer models. They are collections of information that models study to learn and improve.\n",
    "\n",
    "**Trainers:** Trainers are the coaches for computer models. They help these models get better at their tasks by practicing and providing guidance. HuggingFace Trainers implement the PyTorch training loop for you, so you can focus instead on other aspects of working on the model.\n",
    "\n"
   ]
  },
  {
   "cell_type": "markdown",
   "id": "d6391b94-2052-42b2-b3ce-eed91e9b01d1",
   "metadata": {},
   "source": [
    "## Tokenizers\n",
    "\n",
    "HuggingFace tokenizers help us break down text into smaller, manageable pieces called tokens. These tokenizers are easy to use and also remarkably fast due to their use of the Rust programming language.\n",
    "\n",
    "**Tokenization:** The process by which an input series of characters is transformed into units the model is prepared to predict upon. A model trained on data tokenized by one tokenizer must use that same tokenizer for prediction; this is similar to feature engineering in traditional machine learning. It's like cutting a sentence into individual pieces, such as words or characters, to make it easier to analyze.\n",
    "\n",
    "**Tokens:** Fundamental unit of input to language models. These are the pieces you get after cutting up text during tokenization, kind of like individual Lego blocks that can be words, parts of words, or even single letters. These tokens are converted to numerical values for models to understand.\n",
    "\n",
    "**Pre-trained Model:** This is a ready-made model that has been previously taught with a lot of data.\n",
    "\n",
    "**Uncased:** This means that the model treats uppercase and lowercase letters as the same."
   ]
  },
  {
   "cell_type": "code",
   "execution_count": 1,
   "id": "d71eac3c-ff34-4ec2-93ff-ec22e5ba39cb",
   "metadata": {},
   "outputs": [],
   "source": [
    "from transformers import BertTokenizer"
   ]
  },
  {
   "cell_type": "code",
   "execution_count": 2,
   "id": "63e6fb4c-eab1-4c2e-8dd4-4b54c583683c",
   "metadata": {},
   "outputs": [],
   "source": [
    "# Initialize the tokenizer\n",
    "tokenizer = BertTokenizer.from_pretrained('bert-base-uncased')"
   ]
  },
  {
   "cell_type": "code",
   "execution_count": 3,
   "id": "7a8c6099-7a5a-4d54-8c6c-a5c81e7efa6b",
   "metadata": {},
   "outputs": [
    {
     "data": {
      "text/plain": [
       "30522"
      ]
     },
     "execution_count": 3,
     "metadata": {},
     "output_type": "execute_result"
    }
   ],
   "source": [
    "# See how many tokens are in the vocabulary\n",
    "tokenizer.vocab_size"
   ]
  },
  {
   "cell_type": "code",
   "execution_count": 4,
   "id": "b5a197dd-9331-4b55-8633-520abcb765ba",
   "metadata": {},
   "outputs": [],
   "source": [
    "# Tokenize the sentence\n",
    "sent_0 = \"I heart Generative AI\"\n",
    "tokens = tokenizer.tokenize(sent_0)"
   ]
  },
  {
   "cell_type": "code",
   "execution_count": 5,
   "id": "e91524b6-bc36-4c90-b4e1-c1eb71f16428",
   "metadata": {},
   "outputs": [
    {
     "name": "stdout",
     "output_type": "stream",
     "text": [
      "['i', 'heart', 'genera', '##tive', 'ai']\n"
     ]
    }
   ],
   "source": [
    "# Print the tokens\n",
    "print(tokens)"
   ]
  },
  {
   "cell_type": "code",
   "execution_count": 6,
   "id": "cfcd8be4-1d4d-4c17-9d6f-babe6abb1074",
   "metadata": {},
   "outputs": [
    {
     "name": "stdout",
     "output_type": "stream",
     "text": [
      "[1045, 2540, 11416, 6024, 9932]\n"
     ]
    }
   ],
   "source": [
    "# Show the token ids assigned to each token\n",
    "print(tokenizer.convert_tokens_to_ids(tokens))"
   ]
  },
  {
   "cell_type": "code",
   "execution_count": 7,
   "id": "3e1a6712-02da-4ea5-940c-3a00b3a9bde3",
   "metadata": {},
   "outputs": [
    {
     "data": {
      "text/plain": [
       "{'i': 1045, 'heart': 2540, 'genera': 11416, '##tive': 6024, 'ai': 9932}"
      ]
     },
     "execution_count": 7,
     "metadata": {},
     "output_type": "execute_result"
    }
   ],
   "source": [
    "dict(zip(tokens,tokenizer.convert_tokens_to_ids(tokens)))"
   ]
  },
  {
   "cell_type": "markdown",
   "id": "b1ddb44f-bd45-4f4d-87c2-041ab6686068",
   "metadata": {},
   "source": [
    "## Models\n",
    "\n",
    "Hugging Face models provide a quick way to get started using models trained by the community. With only a few lines of code, you can load a pre-trained model and start using it on tasks such as sentiment analysis."
   ]
  },
  {
   "cell_type": "code",
   "execution_count": 8,
   "id": "4d215935-fcaf-4604-9911-ab8be60255e7",
   "metadata": {},
   "outputs": [],
   "source": [
    "from transformers import BertForSequenceClassification, BertTokenizer\n",
    "import torch"
   ]
  },
  {
   "cell_type": "code",
   "execution_count": 9,
   "id": "850c78be-c7fc-493b-8375-418e630a1fd2",
   "metadata": {},
   "outputs": [],
   "source": [
    "# Load a pre-trained sentiment analysis model\n",
    "model_name = \"textattack/bert-base-uncased-imdb\"\n",
    "model = BertForSequenceClassification.from_pretrained(model_name, num_labels=2)\n",
    "tokenizer = BertTokenizer.from_pretrained(model_name)"
   ]
  },
  {
   "cell_type": "code",
   "execution_count": 10,
   "id": "98a7395d-66d0-41e9-8e8f-d84fe8f86362",
   "metadata": {},
   "outputs": [
    {
     "data": {
      "text/plain": [
       "{'i': 1045, 'love': 2293, 'mathematics': 5597}"
      ]
     },
     "execution_count": 10,
     "metadata": {},
     "output_type": "execute_result"
    }
   ],
   "source": [
    "# Tokenize the input sequence\n",
    "sent = \"I love mathematics\"\n",
    "inputs = tokenizer.tokenize(text=sent)\n",
    "dict(zip(inputs,tokenizer.convert_tokens_to_ids(inputs)))"
   ]
  },
  {
   "cell_type": "code",
   "execution_count": 11,
   "id": "7b3326ba-0560-41d6-a734-ab5ffb121b19",
   "metadata": {},
   "outputs": [],
   "source": [
    "# Make prediction\n",
    "def use_model(input_text):\n",
    "    inputs = tokenizer(\n",
    "        text=input_text,\n",
    "        return_tensors=\"pt\")\n",
    "    # Get predictions without updating the model - the no_grad method means no updating of the gradients\n",
    "    with torch.no_grad():\n",
    "        outputs = model(**inputs).logits\n",
    "        probabilities = torch.nn.functional.softmax(outputs, dim=1)\n",
    "        predicted_class = torch.argmax(probabilities)\n",
    "    if predicted_class == 1:\n",
    "        print(f\"Sentiment: Positive ({probabilities[0][1] * 100:.2f}%)\")\n",
    "    else:\n",
    "        print(f\"Sentiment: Negative ({probabilities[0][0] * 100:.2f}%)\")\n",
    "    label = model.config.id2label[predicted_class.item()]\n",
    "    arg_ind = predicted_class.item()\n",
    "    print(f\"\\tModel label: {label}\")\n",
    "    print(f\"\\tModel arg_index: {arg_ind}\")"
   ]
  },
  {
   "cell_type": "code",
   "execution_count": 12,
   "id": "e0dabe78-d82c-4cad-a480-12aab360b3a8",
   "metadata": {},
   "outputs": [
    {
     "name": "stdout",
     "output_type": "stream",
     "text": [
      "Sentiment: Positive (82.51%)\n",
      "\tModel label: LABEL_1\n",
      "\tModel arg_index: 1\n"
     ]
    }
   ],
   "source": [
    "use_model(sent)"
   ]
  },
  {
   "cell_type": "code",
   "execution_count": 13,
   "id": "39e1576f-4dde-42a7-b6f7-6eaf2c09e12f",
   "metadata": {},
   "outputs": [],
   "source": [
    "# Alternatively:\n",
    "from transformers import AutoTokenizer, AutoModelForSequenceClassification\n",
    "\n",
    "tokenizer = AutoTokenizer.from_pretrained(model_name)\n",
    "model = AutoModelForSequenceClassification.from_pretrained(model_name)"
   ]
  },
  {
   "cell_type": "code",
   "execution_count": 14,
   "id": "c83a28f2-3150-4a79-8595-ab6030413bd2",
   "metadata": {},
   "outputs": [
    {
     "name": "stdout",
     "output_type": "stream",
     "text": [
      "Sentiment: Positive (82.51%)\n",
      "\tModel label: LABEL_1\n",
      "\tModel arg_index: 1\n"
     ]
    }
   ],
   "source": [
    "use_model(sent)"
   ]
  },
  {
   "cell_type": "code",
   "execution_count": 15,
   "id": "b258c530-5fc6-4ce7-ba2d-dc193d854245",
   "metadata": {},
   "outputs": [
    {
     "name": "stderr",
     "output_type": "stream",
     "text": [
      "huggingface/tokenizers: The current process just got forked, after parallelism has already been used. Disabling parallelism to avoid deadlocks...\n",
      "To disable this warning, you can either:\n",
      "\t- Avoid using `tokenizers` before the fork if possible\n",
      "\t- Explicitly set the environment variable TOKENIZERS_PARALLELISM=(true | false)\n",
      "Device set to use mps:0\n"
     ]
    }
   ],
   "source": [
    "# Alternatively:\n",
    "from transformers import pipeline\n",
    "pipe = pipeline(\"text-classification\", model=\"textattack/bert-base-uncased-imdb\")"
   ]
  },
  {
   "cell_type": "code",
   "execution_count": 16,
   "id": "6aeb2832-3ef0-46da-a5a1-92d64a7135fe",
   "metadata": {},
   "outputs": [
    {
     "name": "stdout",
     "output_type": "stream",
     "text": [
      "{'label': 'LABEL_1', 'score': 0.8251070380210876}\n",
      "\n",
      "Sentiment: Positive (82.51%)\n",
      "\tModel label: LABEL_1\n",
      "\tModel score: 0.8251070380210876\n"
     ]
    }
   ],
   "source": [
    "out = pipe(sent)\n",
    "print(out[0])\n",
    "print()\n",
    "label = out[0]['label']\n",
    "score = out[0]['score']\n",
    "if label == \"LABEL_1\":\n",
    "    print(f\"Sentiment: Positive ({score * 100:.2f}%)\")\n",
    "else:\n",
    "    print(f\"Sentiment: Negative ({score * 100:.2f}%)\")\n",
    "# label = model.config.id2label[predicted_class.item()]\n",
    "# arg_ind = predicted_class.item()\n",
    "print(f\"\\tModel label: {label}\")\n",
    "print(f\"\\tModel score: {score}\")"
   ]
  },
  {
   "cell_type": "markdown",
   "id": "20351aae-12a4-48a2-910c-cbaf7d9b5fd4",
   "metadata": {},
   "source": [
    "## Datasets\n",
    "\n",
    "HuggingFace Datasets library is a powerful tool for managing a variety of data types, like text and images, efficiently and easily. This resource is incredibly fast and doesn't use a lot of computer memory, making it great for handling big projects without any hassle.\n",
    "\n",
    "**IMDb dataset:** A dataset of movie reviews that can be used to train a machine learning model to understand human sentiments.\n",
    "\n",
    "**Apache Arrow:** A software framework that allows for fast data processing"
   ]
  },
  {
   "cell_type": "code",
   "execution_count": 25,
   "id": "f4dfa94e-03a7-495d-9bc7-418e0bb7e175",
   "metadata": {},
   "outputs": [],
   "source": [
    "# %pip install datasets huggingface_hub\n",
    "import huggingface_hub\n",
    "from datasets import load_dataset\n",
    "from IPython.display import HTML, display"
   ]
  },
  {
   "cell_type": "code",
   "execution_count": 59,
   "id": "80b24043-d121-4e50-a604-4dbd0b2d24a0",
   "metadata": {},
   "outputs": [],
   "source": [
    "ds_list = huggingface_hub.list_datasets()"
   ]
  },
  {
   "cell_type": "code",
   "execution_count": 55,
   "id": "ffd920f4-93fa-40ca-894b-e77258e23d9e",
   "metadata": {},
   "outputs": [
    {
     "data": {
      "text/plain": [
       "<generator object HfApi.list_datasets at 0x3dde87ae0>"
      ]
     },
     "execution_count": 55,
     "metadata": {},
     "output_type": "execute_result"
    }
   ],
   "source": [
    "ds_list"
   ]
  },
  {
   "cell_type": "code",
   "execution_count": 60,
   "id": "f8271729-a728-4774-b9d1-7022717295e9",
   "metadata": {},
   "outputs": [],
   "source": [
    "lst_ds = list(ds_list)"
   ]
  },
  {
   "cell_type": "code",
   "execution_count": 62,
   "id": "c28b5e11-7540-4517-b76c-85b876062429",
   "metadata": {},
   "outputs": [
    {
     "data": {
      "text/plain": [
       "DatasetInfo(id='agibot-world/AgiBotWorld-Alpha', author='agibot-world', sha='ea50c7f9e34593f99d9de76f90ac6c0623a0be79', created_at=datetime.datetime(2024, 12, 19, 9, 37, 11, tzinfo=datetime.timezone.utc), last_modified=datetime.datetime(2025, 1, 7, 5, 0, 18, tzinfo=datetime.timezone.utc), private=False, gated='auto', disabled=False, downloads=7396, downloads_all_time=None, likes=150, paperswithcode_id=None, tags=['task_categories:other', 'language:en', 'size_categories:10M<n<100M', 'format:webdataset', 'modality:text', 'library:datasets', 'library:webdataset', 'library:mlcroissant', 'region:us', 'real-world', 'dual-arm', 'Robotics manipulation'], trending_score=77, card_data=None, siblings=None)"
      ]
     },
     "execution_count": 62,
     "metadata": {},
     "output_type": "execute_result"
    }
   ],
   "source": [
    "lst_ds[0]"
   ]
  },
  {
   "cell_type": "code",
   "execution_count": 63,
   "id": "fbb2c834-cf2b-4313-bc1d-c80c46d17dcb",
   "metadata": {},
   "outputs": [
    {
     "data": {
      "application/vnd.jupyter.widget-view+json": {
       "model_id": "b1512dfe20154fd5bf1998128ae2e560",
       "version_major": 2,
       "version_minor": 0
      },
      "text/plain": [
       "README.md:   0%|          | 0.00/7.81k [00:00<?, ?B/s]"
      ]
     },
     "metadata": {},
     "output_type": "display_data"
    },
    {
     "data": {
      "application/vnd.jupyter.widget-view+json": {
       "model_id": "eeb953f7c28347c98e4a05ec42e37fff",
       "version_major": 2,
       "version_minor": 0
      },
      "text/plain": [
       "train-00000-of-00001.parquet:   0%|          | 0.00/21.0M [00:00<?, ?B/s]"
      ]
     },
     "metadata": {},
     "output_type": "display_data"
    },
    {
     "data": {
      "application/vnd.jupyter.widget-view+json": {
       "model_id": "41e25068a80d4a4499453f9d555aa0a6",
       "version_major": 2,
       "version_minor": 0
      },
      "text/plain": [
       "test-00000-of-00001.parquet:   0%|          | 0.00/20.5M [00:00<?, ?B/s]"
      ]
     },
     "metadata": {},
     "output_type": "display_data"
    },
    {
     "data": {
      "application/vnd.jupyter.widget-view+json": {
       "model_id": "ec6ec318d20c4d71836579dfd8425381",
       "version_major": 2,
       "version_minor": 0
      },
      "text/plain": [
       "unsupervised-00000-of-00001.parquet:   0%|          | 0.00/42.0M [00:00<?, ?B/s]"
      ]
     },
     "metadata": {},
     "output_type": "display_data"
    },
    {
     "data": {
      "application/vnd.jupyter.widget-view+json": {
       "model_id": "dc29c5b3473b4e759eabc9e48804100c",
       "version_major": 2,
       "version_minor": 0
      },
      "text/plain": [
       "Generating train split:   0%|          | 0/25000 [00:00<?, ? examples/s]"
      ]
     },
     "metadata": {},
     "output_type": "display_data"
    },
    {
     "data": {
      "application/vnd.jupyter.widget-view+json": {
       "model_id": "a1bac22c50fc4836a8dd6d2c7052f7be",
       "version_major": 2,
       "version_minor": 0
      },
      "text/plain": [
       "Generating test split:   0%|          | 0/25000 [00:00<?, ? examples/s]"
      ]
     },
     "metadata": {},
     "output_type": "display_data"
    },
    {
     "data": {
      "application/vnd.jupyter.widget-view+json": {
       "model_id": "e655f7dec8b44968b8796fda6ec92295",
       "version_major": 2,
       "version_minor": 0
      },
      "text/plain": [
       "Generating unsupervised split:   0%|          | 0/50000 [00:00<?, ? examples/s]"
      ]
     },
     "metadata": {},
     "output_type": "display_data"
    }
   ],
   "source": [
    "# load the IMDB dataset, which contains movie reviews and sentiment labels (positive or negative)\n",
    "ds = load_dataset(\"imdb\")"
   ]
  },
  {
   "cell_type": "code",
   "execution_count": 67,
   "id": "77c7c41f-76f9-48d2-b4b2-ec339d3e68e9",
   "metadata": {},
   "outputs": [
    {
     "data": {
      "text/html": [
       "WARNING: This review contains SPOILERS. Do not read if you don't want some points revealed to you before you watch the film.<br /><br />With a cast like this, you wonder whether or not the actors and actresses knew exactly what they were getting into. Did they see the script and say, `Hey, Close Encounters of the Third Kind was such a hit that this one can't fail.' Unfortunately, it does. Did they even think to check on the director's credentials..."
      ],
      "text/plain": [
       "<IPython.core.display.HTML object>"
      ]
     },
     "metadata": {},
     "output_type": "display_data"
    }
   ],
   "source": [
    "# Retrieve a single review\n",
    "rev_num = 42\n",
    "sample_rev = ds[\"train\"][rev_num]\n",
    "display(HTML(sample_rev[\"text\"][:450] + \"...\"))"
   ]
  },
  {
   "cell_type": "code",
   "execution_count": 70,
   "id": "4395ea09-e6a4-41eb-8ef9-c7ab7795492c",
   "metadata": {},
   "outputs": [
    {
     "data": {
      "text/plain": [
       "dict_keys(['text', 'label'])"
      ]
     },
     "execution_count": 70,
     "metadata": {},
     "output_type": "execute_result"
    }
   ],
   "source": [
    "sample_rev.keys()"
   ]
  },
  {
   "cell_type": "code",
   "execution_count": 72,
   "id": "61e7e27d-7bdb-431d-a35a-d7527ee5b97e",
   "metadata": {},
   "outputs": [
    {
     "name": "stdout",
     "output_type": "stream",
     "text": [
      "Sentiment: Negative\n"
     ]
    }
   ],
   "source": [
    "if sample_rev[\"label\"] == 1:\n",
    "    print(\"Sentiment: Positive\")\n",
    "else:\n",
    "    print(\"Sentiment: Negative\")\n",
    "# Sentiment: Negative"
   ]
  },
  {
   "cell_type": "markdown",
   "id": "e1dcd361-75d7-4335-9888-e331799ef1db",
   "metadata": {},
   "source": [
    "## Trainers\n",
    "\n",
    "[HuggingFace trainers](https://huggingface.co/docs/transformers/v4.47.1/en/main_classes/trainer#trainer) offer a simplified approach to training generative AI models, making it easier to set up and run complex machine learning tasks. This tool wraps up the hard parts, like handling data and carrying out the training process, allowing us to focus on the big picture and achieve better outcomes with our AI endeavors.\n",
    "\n",
    "**Truncating:** This refers to shortening longer pieces of text to fit a certain size limit.\n",
    "\n",
    "**Padding:** Adding extra data to shorter texts to reach a uniform length for processing.\n",
    "\n",
    "**Batches:** Batches are small, evenly divided parts of data that the AI looks at and learns from each step of the way.\n",
    "\n",
    "**Batch Size:** The number of data samples that the machine considers in one go during training.\n",
    "\n",
    "**Epochs:** A complete pass through the entire training dataset. The more epochs, the more the computer goes over the material to learn.\n",
    "\n",
    "**Dataset Splits:** Dividing the dataset into parts for different uses, such as training the model and testing how well it works.\n",
    "\n"
   ]
  },
  {
   "cell_type": "code",
   "execution_count": 73,
   "id": "90a1e0d2-a96a-4edb-bbcf-19dffb0cb9b6",
   "metadata": {},
   "outputs": [],
   "source": [
    "from transformers import (DistilBertForSequenceClassification,\n",
    "    DistilBertTokenizer,\n",
    "    TrainingArguments,\n",
    "    Trainer\n",
    ")\n",
    "from datasets import load_dataset"
   ]
  },
  {
   "cell_type": "code",
   "execution_count": 74,
   "id": "dea858fc-221f-44bb-b4bd-3a0b2377f3f8",
   "metadata": {},
   "outputs": [
    {
     "data": {
      "application/vnd.jupyter.widget-view+json": {
       "model_id": "3f4ad8bd785a44e8a4f97d29cc3bc7b6",
       "version_major": 2,
       "version_minor": 0
      },
      "text/plain": [
       "config.json:   0%|          | 0.00/483 [00:00<?, ?B/s]"
      ]
     },
     "metadata": {},
     "output_type": "display_data"
    },
    {
     "data": {
      "application/vnd.jupyter.widget-view+json": {
       "model_id": "da929a829daa44e8aea5da60ba15384d",
       "version_major": 2,
       "version_minor": 0
      },
      "text/plain": [
       "model.safetensors:   0%|          | 0.00/268M [00:00<?, ?B/s]"
      ]
     },
     "metadata": {},
     "output_type": "display_data"
    },
    {
     "name": "stderr",
     "output_type": "stream",
     "text": [
      "Some weights of DistilBertForSequenceClassification were not initialized from the model checkpoint at distilbert-base-uncased and are newly initialized: ['classifier.bias', 'classifier.weight', 'pre_classifier.bias', 'pre_classifier.weight']\n",
      "You should probably TRAIN this model on a down-stream task to be able to use it for predictions and inference.\n"
     ]
    },
    {
     "data": {
      "application/vnd.jupyter.widget-view+json": {
       "model_id": "5a5dd89a02e440428b8a7e26775ae4aa",
       "version_major": 2,
       "version_minor": 0
      },
      "text/plain": [
       "tokenizer_config.json:   0%|          | 0.00/48.0 [00:00<?, ?B/s]"
      ]
     },
     "metadata": {},
     "output_type": "display_data"
    },
    {
     "data": {
      "application/vnd.jupyter.widget-view+json": {
       "model_id": "5cbe356ef86e47df9b1fc379b9a7791e",
       "version_major": 2,
       "version_minor": 0
      },
      "text/plain": [
       "vocab.txt:   0%|          | 0.00/232k [00:00<?, ?B/s]"
      ]
     },
     "metadata": {},
     "output_type": "display_data"
    },
    {
     "data": {
      "application/vnd.jupyter.widget-view+json": {
       "model_id": "805c379c03ff40a7becb48994366086f",
       "version_major": 2,
       "version_minor": 0
      },
      "text/plain": [
       "tokenizer.json:   0%|          | 0.00/466k [00:00<?, ?B/s]"
      ]
     },
     "metadata": {},
     "output_type": "display_data"
    }
   ],
   "source": [
    "# https://huggingface.co/distilbert/distilbert-base-uncased\n",
    "model = DistilBertForSequenceClassification.from_pretrained(\n",
    "    \"distilbert-base-uncased\", num_labels=2\n",
    ")\n",
    "# https://huggingface.co/docs/transformers/model_doc/distilbert#transformers.DistilBertForSequenceClassification\n",
    "tokenizer = DistilBertTokenizer.from_pretrained(\"distilbert-base-uncased\")\n",
    "# https://huggingface.co/docs/transformers/model_doc/distilbert#transformers.DistilBertTokenizer\n",
    "\n",
    "def tokenize_function(examples):\n",
    "    return tokenizer(examples[\"text\"], padding=\"max_length\", truncation=True)"
   ]
  },
  {
   "cell_type": "code",
   "execution_count": 75,
   "id": "a2b5286c-e63c-4e90-8dbe-e9b17e1db134",
   "metadata": {},
   "outputs": [
    {
     "data": {
      "application/vnd.jupyter.widget-view+json": {
       "model_id": "25b60ebdcc0a4b8a80b13a7061ce4870",
       "version_major": 2,
       "version_minor": 0
      },
      "text/plain": [
       "Map:   0%|          | 0/25000 [00:00<?, ? examples/s]"
      ]
     },
     "metadata": {},
     "output_type": "display_data"
    },
    {
     "data": {
      "application/vnd.jupyter.widget-view+json": {
       "model_id": "0a3e1510ede24a2aa8d5271de50ba860",
       "version_major": 2,
       "version_minor": 0
      },
      "text/plain": [
       "Map:   0%|          | 0/25000 [00:00<?, ? examples/s]"
      ]
     },
     "metadata": {},
     "output_type": "display_data"
    },
    {
     "data": {
      "application/vnd.jupyter.widget-view+json": {
       "model_id": "44e7b66c4dc04e1b888d9fe011ad2c12",
       "version_major": 2,
       "version_minor": 0
      },
      "text/plain": [
       "Map:   0%|          | 0/50000 [00:00<?, ? examples/s]"
      ]
     },
     "metadata": {},
     "output_type": "display_data"
    }
   ],
   "source": [
    "ds = load_dataset(\"imdb\")\n",
    "tokenized_datasets = ds.map(tokenize_function, batched=True)"
   ]
  },
  {
   "cell_type": "code",
   "execution_count": 76,
   "id": "27737c11-4ba0-45ed-b9bc-dd0ff7a91fb5",
   "metadata": {},
   "outputs": [],
   "source": [
    "training_args = TrainingArguments(\n",
    "    per_device_train_batch_size=64,\n",
    "    output_dir=\"./results\",\n",
    "    learning_rate=2e-5,\n",
    "    num_train_epochs=3,\n",
    ")\n",
    "trainer = Trainer(\n",
    "    model=model,\n",
    "    args=training_args,\n",
    "    train_dataset=tokenized_datasets[\"train\"],\n",
    "    eval_dataset=tokenized_datasets[\"test\"],\n",
    ")"
   ]
  },
  {
   "cell_type": "code",
   "execution_count": 77,
   "id": "69f97434-7646-4eeb-99f6-890f816a50c1",
   "metadata": {},
   "outputs": [
    {
     "data": {
      "text/html": [
       "\n",
       "    <div>\n",
       "      \n",
       "      <progress value='1173' max='1173' style='width:300px; height:20px; vertical-align: middle;'></progress>\n",
       "      [1173/1173 38:43, Epoch 3/3]\n",
       "    </div>\n",
       "    <table border=\"1\" class=\"dataframe\">\n",
       "  <thead>\n",
       " <tr style=\"text-align: left;\">\n",
       "      <th>Step</th>\n",
       "      <th>Training Loss</th>\n",
       "    </tr>\n",
       "  </thead>\n",
       "  <tbody>\n",
       "    <tr>\n",
       "      <td>500</td>\n",
       "      <td>0.249400</td>\n",
       "    </tr>\n",
       "    <tr>\n",
       "      <td>1000</td>\n",
       "      <td>0.138000</td>\n",
       "    </tr>\n",
       "  </tbody>\n",
       "</table><p>"
      ],
      "text/plain": [
       "<IPython.core.display.HTML object>"
      ]
     },
     "metadata": {},
     "output_type": "display_data"
    },
    {
     "data": {
      "text/plain": [
       "TrainOutput(global_step=1173, training_loss=0.18140956101413477, metrics={'train_runtime': 2333.48, 'train_samples_per_second': 32.141, 'train_steps_per_second': 0.503, 'total_flos': 9935054899200000.0, 'train_loss': 0.18140956101413477, 'epoch': 3.0})"
      ]
     },
     "execution_count": 77,
     "metadata": {},
     "output_type": "execute_result"
    }
   ],
   "source": [
    "trainer.train()"
   ]
  },
  {
   "cell_type": "code",
   "execution_count": null,
   "id": "76b34a63-1166-4112-966f-de074ff506f6",
   "metadata": {},
   "outputs": [],
   "source": [
    "import multiprocessing\n",
    "\n",
    "multiprocessing.cpu_count()"
   ]
  }
 ],
 "metadata": {
  "kernelspec": {
   "display_name": "venv_ud_gen",
   "language": "python",
   "name": "venv_ud_gen"
  },
  "language_info": {
   "codemirror_mode": {
    "name": "ipython",
    "version": 3
   },
   "file_extension": ".py",
   "mimetype": "text/x-python",
   "name": "python",
   "nbconvert_exporter": "python",
   "pygments_lexer": "ipython3",
   "version": "3.10.16"
  }
 },
 "nbformat": 4,
 "nbformat_minor": 5
}
