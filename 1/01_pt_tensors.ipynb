{
 "cells": [
  {
   "cell_type": "markdown",
   "id": "846e6145-d030-42eb-b2b3-bc6bf382da9c",
   "metadata": {},
   "source": [
    "# PyTorch Tensors\n",
    "\n",
    "[PyTorch tensors](https://pytorch.org/docs/stable/tensors.html) are crucial tools in the world of programming and data science, which work somewhat like building blocks helping to shape and manage data effortlessly. These tensors allow us to deal with data in multiple dimensions, which is especially handy when working with things like images or more complex structures. Getting to know tensors is a step forward in understanding how PyTorch simplifies the processes of deep learning, enabling us to perform intricate numerical computations efficiently.\n",
    "\n",
    "[PyTorch Tutorial](https://pytorch.org/tutorials/beginner/introyt/tensors_deeper_tutorial.html)\n",
    "\n",
    "## Technical Terms Explained:\n",
    "\n",
    "**Tensors:** Generalized versions of vectors and matrices that can have any number of dimensions (i.e. multi-dimensional arrays). They hold data for processing with operations like addition or multiplication.\n",
    "\n",
    "**Matrix operations:** Calculations involving matrices, which are two-dimensional arrays, like adding two matrices together or multiplying them.\n",
    "\n",
    "**Scalar values:** Single numbers or quantities that only have magnitude, not direction (for example, the number 7 or 3.14).\n",
    "\n",
    "**Linear algebra:** An area of mathematics focusing on vector spaces and operations that can be performed on vectors and matrices."
   ]
  },
  {
   "cell_type": "code",
   "execution_count": 1,
   "id": "00a5af3a-b6a3-4fde-8640-684b32b70bf9",
   "metadata": {},
   "outputs": [],
   "source": [
    "import torch\n",
    "import matplotlib.pyplot as plt"
   ]
  },
  {
   "cell_type": "code",
   "execution_count": 2,
   "id": "128d6899-dc76-4c9f-89ae-42431f462aa6",
   "metadata": {},
   "outputs": [],
   "source": [
    "# Create a 3-dimensional tensor\n",
    "images = torch.rand((4, 28, 28))\n",
    "\n",
    "# Get the second image\n",
    "second_image = images[1]"
   ]
  },
  {
   "cell_type": "markdown",
   "id": "1b6d5129-e475-4194-a8b2-c0817c89b5ef",
   "metadata": {},
   "source": [
    "Displaying Images"
   ]
  },
  {
   "cell_type": "code",
   "execution_count": 3,
   "id": "b592cf7a-b28d-4bdd-8bc5-e8859b351ca6",
   "metadata": {},
   "outputs": [
    {
     "data": {
      "image/png": "[encoded data removed]",
      "text/plain": [
       "<Figure size 640x480 with 1 Axes>"
      ]
     },
     "metadata": {},
     "output_type": "display_data"
    }
   ],
   "source": [
    "plt.imshow(second_image, cmap='gray')\n",
    "plt.axis('off') # disable axes\n",
    "plt.show()"
   ]
  },
  {
   "cell_type": "markdown",
   "id": "5da6741c-2348-40cd-8207-e355204b3260",
   "metadata": {},
   "source": [
    "Matrix Multiplication"
   ]
  },
  {
   "cell_type": "code",
   "execution_count": 4,
   "id": "06ff9051-f112-442f-a1e5-9553e6af2d10",
   "metadata": {},
   "outputs": [
    {
     "name": "stdout",
     "output_type": "stream",
     "text": [
      "tensor([[1, 1],\n",
      "        [1, 0]])\n",
      "tensor([[2, 1],\n",
      "        [1, 1]])\n",
      "tensor([[3, 2],\n",
      "        [2, 1]])\n",
      "tensor([[5, 3],\n",
      "        [3, 2]])\n"
     ]
    }
   ],
   "source": [
    "a = torch.tensor([[1, 1], [1, 0]])\n",
    "\n",
    "print(a)\n",
    "# tensor([[1, 1],\n",
    "#         [1, 0]])\n",
    "\n",
    "print(torch.matrix_power(a, 2))\n",
    "# tensor([[2, 1],\n",
    "#         [1, 1]])\n",
    "\n",
    "print(torch.matrix_power(a, 3))\n",
    "# tensor([[3, 2],\n",
    "#         [2, 1]])\n",
    "\n",
    "print(torch.matrix_power(a, 4))\n",
    "# tensor([[5, 3],\n",
    "#         [3, 2]])"
   ]
  },
  {
   "cell_type": "code",
   "execution_count": null,
   "id": "8b8c0e7b-15ef-41d0-aa72-5b63038f9a7c",
   "metadata": {},
   "outputs": [],
   "source": []
  }
 ],
 "metadata": {
  "kernelspec": {
   "display_name": "venv_ud_gen",
   "language": "python",
   "name": "venv_ud_gen"
  },
  "language_info": {
   "codemirror_mode": {
    "name": "ipython",
    "version": 3
   },
   "file_extension": ".py",
   "mimetype": "text/x-python",
   "name": "python",
   "nbconvert_exporter": "python",
   "pygments_lexer": "ipython3",
   "version": "3.10.16"
  }
 },
 "nbformat": 4,
 "nbformat_minor": 5
}
